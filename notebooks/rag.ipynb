{
 "cells": [
  {
   "cell_type": "markdown",
   "metadata": {},
   "source": [
    "# Setup / Imports"
   ]
  },
  {
   "cell_type": "code",
   "execution_count": 1,
   "metadata": {},
   "outputs": [],
   "source": [
    "%load_ext autoreload\n",
    "%autoreload 2\n",
    "\n",
    "import sys\n",
    "sys.path.append('../')"
   ]
  },
  {
   "cell_type": "markdown",
   "metadata": {},
   "source": [
    "# Split the ebook into proper chapters"
   ]
  },
  {
   "cell_type": "code",
   "execution_count": 2,
   "metadata": {},
   "outputs": [
    {
     "name": "stderr",
     "output_type": "stream",
     "text": [
      "/Users/jimmyyao/miniconda3/envs/novel/lib/python3.11/site-packages/ebooklib/epub.py:1395: UserWarning: In the future version we will turn default option ignore_ncx to True.\n",
      "  warnings.warn('In the future version we will turn default option ignore_ncx to True.')\n",
      "/Users/jimmyyao/miniconda3/envs/novel/lib/python3.11/site-packages/ebooklib/epub.py:1423: FutureWarning: This search incorrectly ignores the root element, and will be fixed in a future version.  If you rely on the current behaviour, change it to './/xmlns:rootfile[@media-type]'\n",
      "  for root_file in tree.findall('//xmlns:rootfile[@media-type]', namespaces={'xmlns': NAMESPACES['CONTAINERNS']}):\n"
     ]
    }
   ],
   "source": [
    "from ebooklib import epub\n",
    "\n",
    "file1 = \"../data/frankenstein.epub\"\n",
    "book1 = epub.read_epub(file1, options={'ignore_ncx': False})"
   ]
  },
  {
   "cell_type": "code",
   "execution_count": 3,
   "metadata": {},
   "outputs": [],
   "source": [
    "from ebook_tree_parser.toctree import TocTree"
   ]
  },
  {
   "cell_type": "code",
   "execution_count": 4,
   "metadata": {},
   "outputs": [
    {
     "data": {
      "text/plain": [
       "TOC Tree: title=root, href=#, level=0, #children=32"
      ]
     },
     "execution_count": 4,
     "metadata": {},
     "output_type": "execute_result"
    }
   ],
   "source": [
    "tree = TocTree(book1)\n",
    "tree"
   ]
  },
  {
   "cell_type": "markdown",
   "metadata": {},
   "source": [
    "# Prepare the simple output folder structure"
   ]
  },
  {
   "cell_type": "code",
   "execution_count": 23,
   "metadata": {},
   "outputs": [],
   "source": [
    "# make directory for the output, if it exists, create a new one with incremented number\n",
    "import os\n",
    "import shutil\n",
    "\n",
    "output_dir = \"../output/frankenstein\"\n",
    "if os.path.exists(output_dir):\n",
    "    i = 1\n",
    "    while os.path.exists(output_dir + \"_\" + str(i)):\n",
    "        i += 1\n",
    "    output_dir += \"_\" + str(i)\n",
    "os.makedirs(output_dir)\n",
    "\n",
    "# make folders \"inprompt\", \"json\", and \"response\" folders in the output directory\n",
    "os.makedirs(os.path.join(output_dir, \"inprompt\"))\n",
    "os.makedirs(os.path.join(output_dir, \"json\"))\n",
    "os.makedirs(os.path.join(output_dir, \"response\"))"
   ]
  },
  {
   "cell_type": "markdown",
   "metadata": {},
   "source": [
    "# Import openai and get the API key"
   ]
  },
  {
   "cell_type": "code",
   "execution_count": 24,
   "metadata": {},
   "outputs": [],
   "source": [
    "from openai import OpenAI\n",
    "\n",
    "from tiktoken import TikToken\n",
    "# count number of tokens in text\n",
    "def count_tokens(text):\n",
    "    return len(TikToken.tokenize(text))"
   ]
  },
  {
   "cell_type": "code",
   "execution_count": 20,
   "metadata": {},
   "outputs": [
    {
     "name": "stdout",
     "output_type": "stream",
     "text": [
      "# Task\n",
      "Your task is to create a json according to the following json schema to help readers quickly access information about a novel. \n",
      "The novel is a work of fiction and can be any genre.\n",
      "The information you provide should be rich and detailed, covering various aspects of the novel such as characters, plot points, world-building, themes, and more.\n",
      "But remember, the information should be concise and to the point, avoiding unnecessary details or spoilers.\n",
      "\n",
      "## JSON Schema\n",
      "```\n",
      "{\"type\": \"object\", \"properties\": {\"novelInfo\": {\"type\": \"object\", \"description\": \"Basic information about the novel\", \"properties\": {\"title\": {\"type\": \"string\", \"description\": \"The full title of the novel\"}, \"author\": {\"type\": \"string\", \"description\": \"The name of the author(s)\"}, \"genre\": {\"type\": \"array\", \"items\": {\"type\": \"string\"}, \"description\": \"List of genres the novel belongs to\"}, \"lastUpdated\": {\"type\": \"string\", \"format\": \"date-time\", \"description\": \"Timestamp of the last update to this data\"}}, \"required\": [\"title\", \"author\"]}, \"summary\": {\"type\": \"string\", \"description\": \"A comprehensive summary of the entire story, updated as the plot progresses\"}, \"characters\": {\"type\": \"array\", \"description\": \"List of characters in the novel\", \"items\": {\"type\": \"object\", \"properties\": {\"name\": {\"type\": \"string\", \"description\": \"The character's full name\"}, \"description\": {\"type\": \"string\", \"description\": \"Physical description and key traits of the character\"}, \"role\": {\"type\": \"string\", \"description\": \"The character's role in the story (e.g., protagonist, antagonist, supporting character)\"}, \"firstAppearance\": {\"type\": \"integer\", \"description\": \"The chapter number where the character first appears\"}, \"lastAppearance\": {\"type\": \"integer\", \"description\": \"The most recent chapter where the character appeared\"}, \"relationships\": {\"type\": \"array\", \"description\": \"List of the character's relationships with other characters\", \"items\": {\"type\": \"object\", \"properties\": {\"relatedCharacter\": {\"type\": \"string\", \"description\": \"The name of the related character\"}, \"relationshipType\": {\"type\": \"string\", \"description\": \"Description of the relationship (e.g., friend, enemy, family)\"}}}}}, \"required\": [\"name\"]}}, \"plotPoints\": {\"type\": \"array\", \"description\": \"List of major events in the story\", \"items\": {\"type\": \"object\", \"properties\": {\"chapter\": {\"type\": \"integer\", \"description\": \"The chapter number where the event occurs\"}, \"event\": {\"type\": \"string\", \"description\": \"A description of the plot event\"}, \"characters\": {\"type\": \"array\", \"items\": {\"type\": \"string\"}, \"description\": \"List of characters involved in this event\"}}, \"required\": [\"chapter\", \"event\"]}}, \"worldBuilding\": {\"type\": \"object\", \"description\": \"Details about the novel's setting and universe\", \"properties\": {\"settings\": {\"type\": \"array\", \"description\": \"List of important locations in the story\", \"items\": {\"type\": \"object\", \"properties\": {\"name\": {\"type\": \"string\", \"description\": \"The name of the location\"}, \"description\": {\"type\": \"string\", \"description\": \"A detailed description of the location\"}, \"chapters\": {\"type\": \"array\", \"items\": {\"type\": \"integer\"}, \"description\": \"List of chapters where this location is featured\"}}, \"required\": [\"name\"]}}, \"magicSystem\": {\"type\": \"array\", \"description\": \"Key events or revelations about the magic or supernatural elements in the story\", \"items\": {\"type\": \"object\", \"properties\": {\"event\": {\"type\": \"string\", \"description\": \"Description of the magic system element introduced or explained\"}, \"chapter\": {\"type\": \"integer\", \"description\": \"The chapter number where this information is introduced\"}, \"details\": {\"type\": \"string\", \"description\": \"Detailed explanation of the magic system element\"}}, \"required\": [\"event\", \"chapter\"]}}, \"technology\": {\"type\": \"array\", \"description\": \"Key technological elements or advancements in the story's world\", \"items\": {\"type\": \"object\", \"properties\": {\"event\": {\"type\": \"string\", \"description\": \"Description of the technological element introduced or explained\"}, \"chapter\": {\"type\": \"integer\", \"description\": \"The chapter number where this information is introduced\"}, \"details\": {\"type\": \"string\", \"description\": \"Detailed explanation of the technological element\"}}, \"required\": [\"event\", \"chapter\"]}}, \"politics\": {\"type\": \"array\", \"description\": \"Key political events, systems, or conflicts in the story\", \"items\": {\"type\": \"object\", \"properties\": {\"event\": {\"type\": \"string\", \"description\": \"Description of the political event or system introduced\"}, \"chapter\": {\"type\": \"integer\", \"description\": \"The chapter number where this information is introduced\"}, \"details\": {\"type\": \"string\", \"description\": \"Detailed explanation of the political element\"}}, \"required\": [\"event\", \"chapter\"]}}, \"history\": {\"type\": \"array\", \"description\": \"Important historical events or backstory relevant to the plot\", \"items\": {\"type\": \"object\", \"properties\": {\"event\": {\"type\": \"string\", \"description\": \"Description of the historical event or backstory element\"}, \"chapter\": {\"type\": \"integer\", \"description\": \"The chapter number where this information is introduced\"}, \"details\": {\"type\": \"string\", \"description\": \"Detailed explanation of the historical event or backstory\"}}, \"required\": [\"event\", \"chapter\"]}}}}, \"themes\": {\"type\": \"array\", \"description\": \"Major themes explored in the novel\", \"items\": {\"type\": \"object\", \"properties\": {\"name\": {\"type\": \"string\", \"description\": \"The name or title of the theme\"}, \"description\": {\"type\": \"string\", \"description\": \"A detailed explanation of the theme\"}, \"examples\": {\"type\": \"array\", \"items\": {\"type\": \"string\"}, \"description\": \"List of examples or instances where this theme is explored in the story\"}}, \"required\": [\"name\"]}}, \"timeline\": {\"type\": \"array\", \"description\": \"Chronological list of events in the story's world\", \"items\": {\"type\": \"object\", \"properties\": {\"date\": {\"type\": \"string\", \"description\": \"The date or time period of the event, if specified\"}, \"event\": {\"type\": \"string\", \"description\": \"Description of the event\"}, \"chapter\": {\"type\": \"integer\", \"description\": \"The chapter number where this event is mentioned or occurs\"}}, \"required\": [\"event\", \"chapter\"]}}, \"references\": {\"type\": \"array\", \"description\": \"Cultural, historical, or literary references and allusions found in the novel\", \"items\": {\"type\": \"object\", \"properties\": {\"type\": {\"type\": \"string\", \"description\": \"The type of reference (e.g., literary, historical, cultural, mythological)\", \"enum\": [\"literary\", \"historical\", \"cultural\", \"mythological\", \"other\"]}, \"reference\": {\"type\": \"string\", \"description\": \"The specific work, event, or concept being referenced\"}, \"context\": {\"type\": \"string\", \"description\": \"How the reference is used in the novel\"}, \"chapter\": {\"type\": \"integer\", \"description\": \"The chapter number where this reference appears\"}, \"explanation\": {\"type\": \"string\", \"description\": \"Explanation of the reference and its significance\"}}, \"required\": [\"type\", \"reference\", \"chapter\"]}}}, \"required\": [\"novelInfo\", \"summary\", \"characters\", \"plotPoints\"]}\n",
      "```\n",
      "# Instructions\n",
      "- Arrays can be empty and do not need to be filled every time.\n",
      "- You must only include information based on previous information and the following excerpt.\n",
      "\n",
      "# Excerpt\n",
      "\"\"\"\n",
      "## The Project Gutenberg eBook of Frankenstein; Or, The Modern Prometheus\n",
      "\n",
      "This ebook is for the use of anyone anywhere in the United States and most other parts of the world at no cost and with almost no restrictions whatsoever. You may copy it, give it away or re-use it under the terms of the Project Gutenberg License included with this ebook or online at [www.gutenberg.org](https://www.gutenberg.org). If you are not located in the United States, you will have to check the laws of the country where you are located before using this eBook.\n",
      "\n",
      "**Title** : Frankenstein; Or, The Modern Prometheus\n",
      "\n",
      "**Author** : Mary Wollstonecraft Shelley\n",
      "\n",
      "**Release date** : October 1, 1993 [eBook #84]  \n",
      "Most recently updated: December 2, 2022\n",
      "\n",
      "**Language** : English\n",
      "\n",
      "**Credits** : Judith Boss, Christy Phillips, Lynn Hanninen and David Meltzer. HTML version by Al Haines.  \n",
      "Further corrections by Menno de Leeuw.\n",
      "\n",
      "*** START OF THE PROJECT GUTENBERG EBOOK FRANKENSTEIN; OR, THE MODERN PROMETHEUS ***\n",
      "\n",
      "# Frankenstein;\n",
      "\n",
      "\"\"\"\n",
      "\n"
     ]
    }
   ],
   "source": [
    "from novelinsights.prompts.fiction import template\n",
    "\n",
    "print(template(tree[0].content))"
   ]
  }
 ],
 "metadata": {
  "kernelspec": {
   "display_name": "novel",
   "language": "python",
   "name": "python3"
  },
  "language_info": {
   "codemirror_mode": {
    "name": "ipython",
    "version": 3
   },
   "file_extension": ".py",
   "mimetype": "text/x-python",
   "name": "python",
   "nbconvert_exporter": "python",
   "pygments_lexer": "ipython3",
   "version": "3.11.9"
  }
 },
 "nbformat": 4,
 "nbformat_minor": 2
}
