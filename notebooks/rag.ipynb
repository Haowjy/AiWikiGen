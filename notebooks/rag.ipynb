{
 "cells": [
  {
   "cell_type": "code",
   "execution_count": null,
   "metadata": {},
   "outputs": [],
   "source": [
    "from llama_index.readers.file import EpubReader\n",
    "\n",
    "# from llama_index.readers.file import UnstructuredReader\n",
    "# reader = UnstructuredReader()"
   ]
  },
  {
   "cell_type": "code",
   "execution_count": null,
   "metadata": {},
   "outputs": [],
   "source": [
    "file1 = \"../data/frankenstein.epub\""
   ]
  },
  {
   "cell_type": "code",
   "execution_count": null,
   "metadata": {},
   "outputs": [],
   "source": [
    "import ebooklib\n",
    "from ebooklib import epub\n",
    "book1 = epub.read_epub(file1, options={'ignore_ncx': True})"
   ]
  },
  {
   "cell_type": "code",
   "execution_count": null,
   "metadata": {},
   "outputs": [],
   "source": [
    "from unidecode import unidecode\n",
    "from bs4 import BeautifulSoup\n",
    "\n",
    "import html2text\n",
    "\n",
    "h2t = html2text.HTML2Text()\n",
    "h2t.body_width = 0\n",
    "\n",
    "text_list = []\n",
    "\n",
    "for item in book1.items:\n",
    "    if item.get_type() == ebooklib.ITEM_DOCUMENT:\n",
    "        print(f\"{item}\\n{item.get_name()}\")\n",
    "        content = item.get_body_content().decode('utf-8')\n",
    "        soup = BeautifulSoup(content, 'html5lib')\n",
    "        soup.html.unwrap()\n",
    "        \n",
    "        content = str(soup)\n",
    "        text_list.append(\n",
    "            unidecode(content)\n",
    "            )\n",
    "        print(content[:100])\n",
    "        print(\"...\")\n",
    "        print(content[100:])\n",
    "        print(\"---\")\n",
    "html_body = \"\".join(text_list)\n",
    "with open(\"temp.html\", \"w\") as f:\n",
    "    f.write(html_body)\n",
    "    \n",
    "mkdn = h2t.handle(f'<body>{html_body}</body>')\n",
    "with open(\"temp.md\", \"w\") as f:\n",
    "    f.write(mkdn)"
   ]
  },
  {
   "cell_type": "code",
   "execution_count": null,
   "metadata": {},
   "outputs": [],
   "source": [
    "item.get_body_content()"
   ]
  },
  {
   "cell_type": "code",
   "execution_count": null,
   "metadata": {},
   "outputs": [],
   "source": [
    "import pandoc\n",
    "pandoc.read(\"text\")"
   ]
  },
  {
   "cell_type": "code",
   "execution_count": null,
   "metadata": {},
   "outputs": [],
   "source": [
    "import subprocess\n",
    "\n",
    "item_list = []\n",
    "i=0\n",
    "for item in book1.items:\n",
    "    # print(i)\n",
    "    # i+=1\n",
    "    # item_list.append(pandoc.read(item.get_content()))\n",
    "    print(item)\n",
    "    if isinstance(item, epub.EpubHtml):\n",
    "        proc = subprocess.Popen(['pandoc', '-f', 'epub', '-t', 'markdown', '-'],\n",
    "                                        stdin=subprocess.PIPE,\n",
    "                                        stdout=subprocess.PIPE)\n",
    "        print(item.content[:100])\n",
    "        content,error = proc.communicate(item.content)\n",
    "        print(content[:100])"
   ]
  },
  {
   "cell_type": "code",
   "execution_count": null,
   "metadata": {},
   "outputs": [],
   "source": [
    "proc = subprocess.Popen(['pandoc', '-f', 'epub', '-t', 'markdown','--extract-media', f'../data/{file1}Dir', f'{file1}'],\n",
    "                                        stdin=subprocess.PIPE,\n",
    "                                        stdout=subprocess.PIPE)\n",
    "content,error = proc.communicate()"
   ]
  },
  {
   "cell_type": "code",
   "execution_count": null,
   "metadata": {},
   "outputs": [],
   "source": [
    "# embbed with all-MiniLM-L6-v2\n",
    "# embedding leaderboards: https://huggingface.co/spaces/mteb/leaderboard"
   ]
  },
  {
   "cell_type": "code",
   "execution_count": null,
   "metadata": {},
   "outputs": [],
   "source": [
    "# import os\n",
    "# from typing import List, Optional\n",
    "\n",
    "# from llama_index.llms.huggingface import (\n",
    "#     HuggingFaceInferenceAPI,\n",
    "#     HuggingFaceLLM,\n",
    "# )"
   ]
  },
  {
   "cell_type": "code",
   "execution_count": null,
   "metadata": {},
   "outputs": [],
   "source": []
  }
 ],
 "metadata": {
  "kernelspec": {
   "display_name": "insights",
   "language": "python",
   "name": "python3"
  },
  "language_info": {
   "codemirror_mode": {
    "name": "ipython",
    "version": 3
   },
   "file_extension": ".py",
   "mimetype": "text/x-python",
   "name": "python",
   "nbconvert_exporter": "python",
   "pygments_lexer": "ipython3",
   "version": "3.10.13"
  }
 },
 "nbformat": 4,
 "nbformat_minor": 2
}
