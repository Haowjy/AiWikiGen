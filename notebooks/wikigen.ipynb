{
 "cells": [
  {
   "cell_type": "markdown",
   "metadata": {},
   "source": [
    "# Setup / Imports"
   ]
  },
  {
   "cell_type": "code",
   "execution_count": 3,
   "metadata": {},
   "outputs": [],
   "source": [
    "%load_ext autoreload\n",
    "%autoreload 2\n",
    "\n",
    "import sys\n",
    "sys.path.append('../')"
   ]
  },
  {
   "cell_type": "markdown",
   "metadata": {},
   "source": [
    "# Split the ebook into proper chapters"
   ]
  },
  {
   "cell_type": "code",
   "execution_count": 4,
   "metadata": {},
   "outputs": [
    {
     "name": "stderr",
     "output_type": "stream",
     "text": [
      "/Users/jimmyyao/miniconda3/envs/novel/lib/python3.11/site-packages/ebooklib/epub.py:1423: FutureWarning: This search incorrectly ignores the root element, and will be fixed in a future version.  If you rely on the current behaviour, change it to './/xmlns:rootfile[@media-type]'\n",
      "  for root_file in tree.findall('//xmlns:rootfile[@media-type]', namespaces={'xmlns': NAMESPACES['CONTAINERNS']}):\n"
     ]
    }
   ],
   "source": [
    "from ebooklib import epub\n",
    "\n",
    "file1 = \"../data/frankenstein.epub\"\n",
    "file2 = \"../data/grapes-of-wrath.epub\"\n",
    "file3 = \"../data/outlaw-of-torn.epub\"\n",
    "book1 = epub.read_epub(file1, options={'ignore_ncx': True})\n",
    "book2 = epub.read_epub(file2, options={'ignore_ncx': True})\n",
    "book3 = epub.read_epub(file3, options={'ignore_ncx': True})"
   ]
  },
  {
   "cell_type": "code",
   "execution_count": 5,
   "metadata": {},
   "outputs": [],
   "source": [
    "from ebook_tree_parser.toctree import TocTree"
   ]
  },
  {
   "cell_type": "code",
   "execution_count": 6,
   "metadata": {},
   "outputs": [],
   "source": [
    "tree1 = TocTree(book1)\n",
    "tree2 = TocTree(book2)\n",
    "tree3 = TocTree(book3)"
   ]
  },
  {
   "cell_type": "code",
   "execution_count": 7,
   "metadata": {},
   "outputs": [],
   "source": [
    "prev_chapter_content = \"\"\"The Stonewalls, a British battalion, have been marching towards the front lines, preparing for a major offensive that they refer to as \"the push.\" Rumors abound among the soldiers about what exactly their role will be, but no one is certain of the details. The sound of artillery fire grows louder with each passing day, signaling that the time for action is drawing near.\n",
    "As they stop to bivouac in an orchard for the night, the battalion is interrupted by enemy artillery shells falling dangerously close to their camp. An artillery subaltern from a nearby British battery warns them that their position is in the direct line of fire from a German battery. He suggests they move to a nearby farm, where they can find some shelter in the damaged barns.\n",
    "The battalion quickly relocates, and the soldiers settle into the barns, which are battered by previous shellfire but still offer more protection than the open orchard. As they wait for their evening meal, a group of soldiers—including Larry Arundel, Billy Simson, Ben Sneath, and Jefferson Lee—wander outside to watch the artillery battery in action. The guns are wire-cutting, clearing the way for the infantry's advance by destroying the enemy’s barbed wire defenses.\n",
    "The group observes the operation with a mix of curiosity and awe. Each soldier reacts differently to the spectacle, with Larry explaining the technical aspects of the artillery's work, Billy marveling at the noise and flashes of light, and Pug cracking jokes. Kentuck, meanwhile, reflects quietly, embodying the calm resolve that led him to join the British forces despite his American roots.\n",
    "As night falls, the guns continue to fire, preparing the battlefield for the \"push\" that the soldiers know is imminent.\"\"\""
   ]
  },
  {
   "cell_type": "code",
   "execution_count": 13,
   "metadata": {},
   "outputs": [
    {
     "name": "stdout",
     "output_type": "stream",
     "text": [
      "# Task\n",
      "Your task is to produce a comprehensive and detailed summary of the current chapter, as well as extract and organize all significant information into predefined categories: Characters, Chronology, Locations, Organizations, Things, and Concepts. The output should be thorough and suitable for creating Wikipedia-style entries, ensuring that all essential details from the chapter are captured accurately.\n",
      "\n",
      "# Instructions\n",
      "## 1. Information Extraction:\n",
      "  For each category below, extract relevant details from the chapter. Present the information in a clear and organized manner, using bullet points or numbered lists where appropriate. If the chapter does not contain information for a specific category, you may omit it. And if the content of the chapter is not related to the plot (front matter, acknowledgments, table of contents, etc.), you can skip the extraction for that chapter. If you skip the extraction, add <SKIPPED-EXTRACTION> at the beginning of the section.\n",
      "\n",
      "   - Entities:\n",
      "     - List all important characters introduced or featured in this chapter\n",
      "     - label them as a character, monster, or abstract force.\n",
      "     - Provide a detailed description of the character. Include (if available):\n",
      "        - Name\n",
      "        - Role in the plot/chapter\n",
      "        - Personality\n",
      "        - Relationships with other characters\n",
      "        - Significant actions or decisions made in the chapter\n",
      "        - backstory, motivations, or any other relevant details\n",
      "        - any other relevant details\n",
      "   \n",
      "   - Chronology:\n",
      "     - Identify and list the events that occur or are described in the chapter.\n",
      "     - MAKE SURE TO INCLUDE A OVERARCHING CONFLICT NAME OR TITLE\n",
      "         - The overarching conflict is a singular event or theme that ties together the various events in the plot and a major plot point in the story.\n",
      "     - For each event, provide a detailed description. Include (if available):\n",
      "        - Name or title of the event\n",
      "        - Type or category of the event\n",
      "        - Overarching Conflict name or title\n",
      "        - Significance to the plot or characters\n",
      "        - any chronology of the event\n",
      "        - Background or context leading to the event\n",
      "        - Characters involved and their roles\n",
      "        - Locations where the event takes place\n",
      "        - any other relevant details\n",
      "\n",
      "   - Locations:\n",
      "     - List and describe any important locations introduced or revisited\n",
      "     - Provide a detailed description of each location. Include (if available):\n",
      "        - Name of the location\n",
      "        - significance to the plot or characters\n",
      "        - physical description or notable features\n",
      "        - cultural or historical significance\n",
      "        - any history or background information\n",
      "        - nearby locations or connections to other places \n",
      "        - any other relevant details\n",
      "   \n",
      "   - Organizations:\n",
      "     - List any important organizations, groups, or factions mentioned or central to the chapter\n",
      "     - Provide a detailed description of each organization. Include (if available):\n",
      "        - Name of the organization\n",
      "        - Purpose or goals\n",
      "        - Key members or leaders\n",
      "        - Relationships with other organizations\n",
      "        - any significant actions or decisions made by the organization\n",
      "        - any history or background information\n",
      "        - any other relevant\n",
      "   \n",
      "   - Things:\n",
      "     - List any important items introduced or referenced in the chapter.\n",
      "     - Provide a detailed description of each item. Include (if available):\n",
      "        - Name of the item\n",
      "        - Type or category (e.g., weapon, artifact, technology)\n",
      "        - Physical description or notable features\n",
      "        - Special properties or functions\n",
      "        - Significance to the plot or characters\n",
      "        - History or background information\n",
      "        - Current status or location\n",
      "        - any related entities or connections\n",
      "        - any other relevant details\n",
      "\n",
      "   - Concepts:\n",
      "     - List any key concepts, ideas, or themes explored in the chapter\n",
      "     - Provide a detailed description of each concept. Include (if available):\n",
      "        - Name or title of the concept\n",
      "        - Definition or explanation\n",
      "        - Significance to the plot or characters\n",
      "        - any examples or instances in the chapter\n",
      "        - any connections to other concepts or themes\n",
      "        - any other relevant details\n",
      "     \n",
      "## 2. General Chapter Summary:\n",
      "- Write a detailed summary of the entire chapter (approximately 300-500 words).\n",
      "- Focus on key plot developments, character actions and interactions, significant events, and any important revelations.\n",
      "- Ensure the summary is coherent and logically flows from one point to the next.\n",
      "- This should not be explicitly for \"this chapter\" but should be a general summary of the chapter's content.# Chapter Context:\n",
      "## Chapter Title: GRAPES OF WRATH CHAPTER I TOWARDS THE PUSH\n",
      "## Chapter Content: \n",
      "---\n",
      "##  GRAPES OF WRATH\n",
      "\n",
      "## CHAPTER I  \n",
      "TOWARDS THE PUSH\n",
      "\n",
      "The rank and file of the 5/6 Service Battalion of the Stonewalls knew that “there was another push on,” and that they were moving up somewhere into the push; but beyond that and the usual crop of wild and loose-running rumors they knew nothing. Some of the men had it on the most exact and positive authority that they were for the front line and “first over the parapet”; others on equally positive grounds knew that they were to be in reserve and not in the attack at all; that they were to be in support and follow the first line; that there was to be nothing more than an artillery demonstration and no infantry attack at all; that the French were taking over our line for the attack; that we were taking over the French line. The worst of it was that there were so many tales nobody could believe any of them, but, strangely enough, that did not lessen the eager interest with which each in turn was heard and discussed, or prevent each in turn securing a number of supporters and believers.\n",
      "\n",
      "But all the rumors appeared to be agreed that up to now the push had not begun, so far as the infantry were concerned, and also that, as Larry Arundel put it, “judging by the row the guns are making it’s going to be some push when it does come.”\n",
      "\n",
      "The Stonewalls had been marching up towards the front by easy stages for three days past, and each day as they marched, and, in fact, each hour of this last day, the uproar of artillery fire had grown steadily greater and greater, until now the air trembled to the violent concussions of the guns, the shriek and rumble of the shells, and occasionally to the more thrilling and heart-shaking shriek of an enemy shell, and the crash of its burst in our lines.\n",
      "\n",
      "It was almost sunset when the Stonewalls swung off the road and halted in and about a little orchard. The lines of an encampment—which was intended for no more than a night’s bivouac—were laid out, and the men unbuckled their straps, laid off their packs, and sank thankfully to easeful positions of rest on the long grass, waiting until the traveling cookers, which on their journey along the road had been preparing the evening meal, were brought up and discharged of their savory contents. But before the meal was served there came an unpleasant interruption, which boded ill for the safety of the night’s camp. A heavy shell rushed overhead, dropped in the field about four hundred yards beyond the camp, burst with a crash and a gush of evil black smoke, a flying torrent of splinters and up-flung earth.\n",
      "\n",
      "While the men were still watching the slow dispersal of the shell smoke, and passing comments upon how near to them was the line it had taken, another and another shell whooped over them in a prolonged line on the fields beyond. “We seem,” said Larry Arundel, “to have chosen a mighty unhealthy position for to-night’s rest.”\n",
      "\n",
      "“If the C.O. has any sense,” retorted his mate, Billy Simson, “he’ll up and off it somewheres out to the flank. We’re in the direct line of those crumps, and if one drops short, it is going to knock the stuffin’ out of a whole heap of us.”\n",
      "\n",
      "While they were talking an artillery subaltern was seen crossing the road and hurrying towards them. “Where is your C.O.?” he asked, when he came to the nearest group.\n",
      "\n",
      "“Over in the orchard, sir,” said Billy Simson. “I’ll show you if you like.”\n",
      "\n",
      "The officer accepted his pilotage, urging him to hurry, and the two hastened to the orchard, and to a broken-down building in the corner of it, where the officers of the battalion were installing a more or less open-air mess.\n",
      "\n",
      "Billy Simson lingered long enough to hear the Subaltern introduce himself as from a battery in a position across the road amongst some farm buildings, and to say that his Major had sent him over to warn the infantry that the field they were occupying was in a direct line “regularly strafed” by a heavy German battery every few hours.\n",
      "\n",
      "“My Major said I was to tell you,” went on the Subaltern, “that there are one or two old barns and outbuildings on the farm where we have the battery, and that you might find some sort of shelter for a good few of your men in them; and that we can find room to give you and some of the officers a place to shake down for the night.”\n",
      "\n",
      "Simson heard no more than this, but he soon had evidence that the invitation had been accepted. The battalion was warned to “stand by” for a move across the road, and the Colonel and Adjutant, with the Sergeant-Major and a couple of Sergeants, left the orchard and disappeared among the farm buildings, in the company of the gunner Subaltern.\n",
      "\n",
      "Billy Simson repeated to his particular chums the conversation he had overheard; and the resulting high expectations of a move from the unhealthy locality under the German guns’ line of fire, and of a roof over their heads for the night, were presently fulfilled by an order for the battalion to move company by company. “C” Company presently found itself installed in a commodious barn, with ventilation plentifully provided by a huge hole, obviously broken out by a shell burst, in the one corner, and a roof with tiles liberally smashed and perforated by shrapnel fire. But on the whole the men were well content with the change, partly perhaps because being come of a long generation of house-dwellers they had never become accustomed to the real pleasure of sleeping in the open air, and partly because of that curious and instinctive and wholly misplaced confidence inspired by four walls and a roof as a protection against shell fire.\n",
      "\n",
      "Somewhere outside and very close to them a field battery was in action, and for a whole hour before darkness fell the air pulsed and the crazy buildings about them shook to an unceasing thump and bang from the firing guns, while the intervals were filled with the slightly more distant but equally constant thud and boom of other batteries’ fire.\n",
      "\n",
      "While they were waiting for the evening meal to be served some of the men wandered out and took up a position where they could view closely the guns and gunners at their work. The guns were planted at intervals along a high hedge; the muzzles poked through the leafy screen, and a shelter of leaves and boughs was rigged over each, so as to screen the battery from air observation.\n",
      "\n",
      "Billy Simson and his three particular chums were amongst the interested spectators. The four men, who were drawn from classes that in pre-war days would have made any idea of friendship or even intercourse most unlikely, if not impossible, had, after a fashion so common in our democratic New Armies, become fast friends and intimates.\n",
      "\n",
      "Larry Arundel, aged twenty, was a man of good family, who in civilian days had occupied a seat in his father’s office in London, with the certain prospect before him of a partnership in the firm. Billy Simson was a year or two older, had been educated in a provincial board school, and from the age of fourteen had served successively as errand boy and counter hand in a little suburban “emporium.” The third man, Ben Sneath, age unknown, but probably somewhere about twenty-one to twenty-five, was frankly of the “lower orders”; had picked up a living from the time he was able to walk, in the thousand and one ways that a London street boy finds to his hand. On the roll of “C” Company he was Private Sneath, B, but to the whole of the company—and, in fact, to the whole of the battalion—he was known briefly, but descriptively, as “Pug.” Jefferson Lee, the fourth of the quartette, was an unusual and somewhat singular figure in a British battalion, because, always openly proud of his birthplace, he was seldom called by anything but it—“Kentucky,” or “Kentuck.” His speech, even in the wild jumble of accents and dialects common throughout a mixed battalion, was striking and noticeable for its peculiar softness and slurring intonations, its smooth gentleness, its quiet, drawling level. Being an American, born of many generations of Americans, with no single tie or known relation outside America, he was, in his stained khaki and his place in the fighting ranks of a British regiment, a personal violation of the neutrality of the United States. But the reasons that had brought him from Kentucky to England, with the clear and expressed purpose of enlisting for the war, were very simply explained by him.\n",
      "\n",
      "“Some of us,” he said gently, “never really agreed with the sinking of liners and the murder of women and children. Some of us were a trifle ashamed to be standing out of this squabble, and when the President told the world that we were ‘too proud to fight,’ I just simply had to prove that it was a statement which did not agree with the traditions of an old Kentucky family. So I came over and enlisted in your army.”\n",
      "\n",
      "The attitude of the four men now as they watched the gunners at work was almost characteristic of each. Larry, who had relatives or friends in most branches of the Service, was able to tell the others something of the methods of modern artillery, and delivered almost a lecturette upon the subject. Billy Simson was frankly bored by this side of the subject, but intensely interested in the noise and the spectacular blinding flash that appeared to leap forth in a twenty-foot wall of flame on the discharge of each gun. Pug found a subject for mirth and quick, bantering jests in the attitudes of the gunners and their movements about the gun, and the stentorian shoutings through a megaphone of the Sergeant-Major from the entrance to a dug-out in the rear of the guns. Lee sat down, leisurely rolled and lit a cigarette, watched the proceedings with interest, and made only a very occasional soft drawled reply to the remarks of the others.\n",
      "\n",
      "“Do you mean to tell me,” said Pug incredulously, breaking in on Arundel’s lecture, “that them fellows is shootin’ off all them shells without ever seein’ what they’re firin’ at? If that is true, I calls it bloomin’ waste.”\n",
      "\n",
      "“They do not see their target,” said Arundel, “but they are hitting it every time. You see they aim at something else, and they’re told how much to the right or left of it to shoot, and the range they are to shoot at—it is a bit too complicated to explain properly, but it gets the target all right.”\n",
      "\n",
      "“Wot’s the bloke with the tin trumpet whisperin’ about?” asked Pug. “Looks to me as if he was goin’ to be a casualty with a broke blood-vessel.”\n",
      "\n",
      "“Passing orders and corrections of fire to the guns,” explained Arundel. “There’s a telephone wire from that dug-out up to somewhere in front, where somebody can see the shells falling, and ’phone back to tell them whether they are over or short, right or left.”\n",
      "\n",
      "“It’s pretty near as good as a Brock’s benefit night,” said Billy Simson; “but I’d want cotton wool plugs in my ears, if I was takin’ up lodgin’s in this street.”\n",
      "\n",
      "The light was beginning to fade by now, but the guns continued to fire in swift rotation, from one end of the battery to the other. They could hear the sharp orders, “One, fire; Two, fire; Three, fire,” could see the gunner on his seat beside each piece jerk back the lever. Instantly the gun flamed a sheet of vivid fire, the piece recoiled violently to the rear between the gunners seated to each side of it, and as the breech moved smoothly back to its position, the hand of one gunner swooped rapidly in after it, grabbed the handle and wrenched open the breech, flinging out the shining brass cartridge case, to fall with a clash and jangle on to the trail of the gun and the other empty cases lying round it. The instant the breech was back in place, another man shot in a fresh shell, the breech swung shut with a sharp, metallic clang, the layer, with his eye pressed close to his sight, juggled for a moment with his hands on shiny brass wheels, lifted one hand to drop it again on the lever, shouted “Ready,” and sat waiting the order to fire. The motions and the action at one gun were exactly and in detail the motions of all. From end to end of the line the flaming wall leaped in turn from each muzzle, the piece jarred backwards, the empty brass case jerked out and fell tinkling; and before it ceased to roll another shell was in place, the breech clanged home, and the gun was ready again.\n",
      "\n",
      "Billy Simson spoke to a gunner who was moving past them towards the billets.\n",
      "\n",
      "“What are you fellows shooting at?” he asked.\n",
      "\n",
      "“Wire cutting,” said the gunner briefly. “We’ve been at it now without stopping this past four days,” and he moved on and left them.\n",
      "\n",
      "“Wire cutting,” said Arundel, “sweeping away the barbed wire entanglements in front of the Boche trench. That’s clearing the track we’re going to take to-morrow or the next day.”\n",
      "\n",
      "“I hopes they makes a clean job of it,” said Pug; “and I hopes they sweep away some of them blasted machine guns at the same time.”\n",
      "\n",
      "“Amen, to that,” said Kentucky.\n",
      "\n",
      "---\n",
      "# General Reminders\n",
      "- Do not use external knowledge or information beyond what is provided in the chapter and previous context.\n",
      "- Stick strictly to the information in the chapter context and prior story summaries.\n",
      "- Ensure that any information extracted is directly from the source material and not inferred from outside knowledge.\n",
      "- Keep responses organized according to the specified structure and formatting instructions.\n",
      "- Make sure to use markdown formatting for clear and readable responses.\n",
      "- DO NOT explicitly mention \"chapter\" or \"book\" in the response. Instead, refer to the content as if it were a standalone piece of information.\n"
     ]
    }
   ],
   "source": [
    "from novelinsights.prompts.wikigen.fiction import template,excerpt_template\n",
    "\n",
    "from novelinsights.utils import GET_ESTIMATOR,simple_token_estimator\n",
    "est=GET_ESTIMATOR(source='openai')\n",
    "\n",
    "cur_template = excerpt_template(tree2[5])\n",
    "print(cur_template)"
   ]
  },
  {
   "cell_type": "code",
   "execution_count": 30,
   "metadata": {},
   "outputs": [
    {
     "name": "stdout",
     "output_type": "stream",
     "text": [
      "{'type': 'object', 'properties': {'novelInfo': {'type': 'object', 'description': 'Basic information about the novel. Update this section with every new excerpt if necessary', 'properties': {'title': {'type': 'string', 'description': 'The full title of the novel'}, 'author': {'type': 'string', 'description': 'The name of the author(s)'}, 'genre': {'type': 'array', 'items': {'type': 'string'}, 'description': 'List of genres the novel belongs to'}}, 'required': ['title', 'author']}, 'summary': {'type': 'string', 'description': 'A comprehensive summary of the entire story, including key events and developments up to the current excerpt'}, 'characters': {'type': 'array', 'description': 'List of characters in the novel and their key details. Update with new characters every next excerpt', 'items': {'type': 'object', 'properties': {'name': {'type': 'string', 'description': \"The character's full name\"}, 'description': {'type': 'string', 'description': 'Current physical description and key traits of the character'}, 'role': {'type': 'string', 'description': \"The character's current role in the story\"}, 'firstAppearance': {'type': 'string', 'description': 'The excerpt title where the character first appears'}, 'lastAppearance': {'type': 'string', 'description': 'The most recent excerpt title where the character appeared'}, 'relationships': {'type': 'array', 'description': \"List of the character's current relationships with other characters at the current point in the story\", 'items': {'type': 'object', 'properties': {'relatedCharacter': {'type': 'string', 'description': 'The name of the related character'}, 'relationshipType': {'type': 'string', 'description': 'Description of the relationship (e.g., friend, enemy, family)'}}}}}, 'required': ['name']}}, 'plotPoints': {'type': 'array', 'description': 'List of major events in the story. Update with new events with the new excerpt, focusing on the most recent developments', 'items': {'type': 'object', 'properties': {'excerpt': {'type': 'string', 'description': 'The excerpt title where the event occurs'}, 'event': {'type': 'string', 'description': 'A detailed description of the plot event'}, 'characters': {'type': 'array', 'items': {'type': 'string'}, 'description': 'List of characters involved in this event and how they are involved'}}, 'required': ['excerpt', 'event']}}, 'worldBuilding': {'type': 'object', 'description': \"Details about the novel's setting and universe. Update with new information from each excerpt if necessary\", 'properties': {'settings': {'type': 'array', 'description': 'List of important locations in the story', 'items': {'type': 'object', 'properties': {'name': {'type': 'string', 'description': 'The name of the location'}, 'description': {'type': 'string', 'description': 'A detailed description of the location'}, 'excerptDetails': {'type': 'array', 'items': {'type': 'string', 'properties': {'excerpt': {'type': 'string', 'description': 'Excerpt title where this location is featured'}, 'description': {'type': 'string', 'description': 'Detailed Description of the location in this excerpt'}}}, 'description': 'List of excerpt titles where this location is featured'}}, 'required': ['name']}}, 'magicSystem': {'type': 'array', 'description': 'Key events or revelations about the magic or supernatural elements in the story', 'items': {'type': 'object', 'properties': {'event': {'type': 'string', 'description': 'Description of the magic system element introduced or explained'}, 'excerpt': {'type': 'string', 'description': 'The excerpt title where this information is introduced'}, 'details': {'type': 'string', 'description': 'Detailed explanation of the magic system element'}}, 'required': ['event', 'excerpt']}}, 'technology': {'type': 'array', 'description': \"Key technological elements or advancements in the story's world\", 'items': {'type': 'object', 'properties': {'event': {'type': 'string', 'description': 'Description of the technological element introduced or explained'}, 'excerpt': {'type': 'string', 'description': 'The excerpt title where this information is introduced'}, 'details': {'type': 'string', 'description': 'Detailed explanation of the technological element'}}, 'required': ['event', 'excerpt']}}, 'politics': {'type': 'array', 'description': 'Key political events, systems, or conflicts in the story', 'items': {'type': 'object', 'properties': {'event': {'type': 'string', 'description': 'Description of the political event or system introduced'}, 'excerpt': {'type': 'integer', 'description': 'The excerpt title where this information is introduced'}, 'details': {'type': 'string', 'description': 'Detailed explanation of the political element'}}, 'required': ['event', 'excerpt']}}, 'history': {'type': 'array', 'description': 'Important historical events or backstory relevant to the plot', 'items': {'type': 'object', 'properties': {'event': {'type': 'string', 'description': 'Description of the historical event or backstory element'}, 'excerpt': {'type': 'string', 'description': 'The excerpt title where this information is introduced'}, 'details': {'type': 'string', 'description': 'Detailed explanation of the historical event or backstory'}}, 'required': ['event', 'excerpt']}}}}, 'themes': {'type': 'array', 'description': 'Major themes explored in the novel', 'items': {'type': 'object', 'properties': {'name': {'type': 'string', 'description': 'The name or title of the theme'}, 'description': {'type': 'string', 'description': 'A detailed explanation of the theme'}, 'examples': {'type': 'array', 'items': {'type': 'string'}, 'description': 'List of examples or instances where this theme is explored in the story'}}, 'required': ['name']}}, 'timeline': {'type': 'array', 'description': \"Chronological list of events in the story's world\", 'items': {'type': 'object', 'properties': {'date': {'type': 'string', 'description': 'The date or time period of the event, if specified'}, 'event': {'type': 'string', 'description': 'Description of the event'}, 'excerpt': {'type': 'integer', 'description': 'The excerpt title where this event is mentioned or occurs'}}, 'required': ['event', 'excerpt']}}, 'references': {'type': 'array', 'description': 'Cultural, historical, or literary references and allusions found in the novel', 'items': {'type': 'object', 'properties': {'type': {'type': 'string', 'description': 'The type of reference (e.g., literary, historical, cultural, mythological)', 'enum': ['literary', 'historical', 'cultural', 'mythological', 'other']}, 'reference': {'type': 'string', 'description': 'The specific work, event, or concept being referenced'}, 'context': {'type': 'string', 'description': 'How the reference is used in the novel'}, 'excerpt': {'type': 'integer', 'description': 'The excerpt title where this reference appears'}, 'explanation': {'type': 'string', 'description': 'Explanation of the reference and its significance'}}, 'required': ['type', 'reference', 'excerpt']}}}, 'additionalProperties': False, 'required': ['novelInfo', 'summary', 'characters', 'plotPoints']}\n",
      "1657\n",
      "{'type': 'object', 'properties': {'name': {'type': 'string', 'description': \"The entity's primary name or identifier\"}, 'entity_type': {'type': 'string', 'enum': ['character', 'monster', 'abstract_force'], 'description': 'The type of entity being described'}, 'aliases': {'type': 'array', 'items': {'type': 'string'}, 'description': 'Alternative names or identifiers'}, 'overview': {'type': 'string', 'description': 'A concise summary of the entity, including its essence, role, and key traits'}, 'significance': {'type': 'string', 'description': \"The entity's importance to the plot and how it impacts the story\"}, 'description': {'type': 'object', 'properties': {'appearance': {'type': 'string', 'description': 'Physical description or manifestation of the entity'}, 'characteristics': {'type': 'string', 'description': 'Fundamental traits, behavior patterns, or defining features of the entity'}, 'capabilities': {'type': 'string', 'description': 'Key abilities, powers, or notable effects associated with the entity'}}}, 'background': {'type': 'string', 'description': 'Detailed description of origins, history, and development of the entity throughout the story. For longer descriptions, use markdown with headers and subheaders to organize.'}, 'connections': {'type': 'array', 'items': {'type': 'object', 'properties': {'name': {'type': 'string'}, 'relation': {'type': 'string'}, 'description': {'type': 'string'}}}, 'description': 'Key relationships or interactions with other entities in the story'}}, 'required': ['name', 'entity_type', 'overview', 'significance'], 'additionalProperties': False}\n",
      "369\n",
      "{'type': 'object', 'properties': {'term': {'type': 'string', 'description': 'The primary word or phrase for the concept'}, 'category': {'type': 'string', 'enum': ['magic_system', 'technology', 'culture', 'politics', 'religion', 'philosophy', 'science', 'language', 'other'], 'description': 'The general category this concept belongs to'}, 'aliases': {'type': 'array', 'items': {'type': 'string'}, 'description': 'Alternative terms or phrases for this concept'}, 'definition': {'type': 'string', 'description': 'A concise explanation of what the term means'}, 'detailed_explanation': {'type': 'string', 'description': 'A more in-depth explanation of the concept, its nuances, and its significance. Use markdown headers and subheaders for formatting if needed.'}, 'significance': {'type': 'string', 'description': 'The importance or impact of this concept on the story, characters, or world'}, 'origin': {'type': 'string', 'description': 'Information about where this concept came from or how it was introduced in the story'}, 'related_terms': {'type': 'array', 'items': {'type': 'object', 'properties': {'term': {'type': 'string', 'description': 'A related term or concept'}, 'relationship': {'type': 'string', 'description': 'How this term is related to the main concept'}}, 'required': ['term']}, 'description': 'Other terms or concepts that are closely related or connected'}, 'examples': {'type': 'array', 'items': {'type': 'string'}, 'description': 'Specific examples or instances of the concept being used or applied in the story'}, 'first_appearance': {'type': 'object', 'properties': {'chapter': {'type': 'number', 'description': 'The chapter number where this concept is first introduced or explained'}, 'context': {'type': 'string', 'description': 'Brief description of how the concept was introduced'}}, 'required': ['chapter']}}, 'required': ['term', 'category', 'definition', 'detailed_explanation'], 'additionalProperties': False}\n",
      "459\n",
      "{'type': 'object', 'properties': {'name': {'type': 'string', 'description': 'The primary name or title of the event'}, 'aliases': {'type': 'array', 'items': {'type': 'string'}, 'description': 'Alternative names or titles for the event'}, 'type': {'type': 'string', 'enum': ['battle', 'political', 'personal', 'natural disaster', 'supernatural', 'other'], 'description': 'The category or type of the event'}, 'overview': {'type': 'string', 'description': 'A concise summary of the event, capturing its essence and key points'}, 'significance': {'type': 'string', 'description': \"The event's importance to the plot and its impact on the story and characters\"}, 'chronology': {'type': 'string', 'description': 'A sequential account of what happened during the event, including key moments and outcomes. For longer descriptions, use markdown with headers and subheaders to organize.'}, 'background': {'type': 'string', 'description': 'Detailed information about the context and lead-up to the event. For longer descriptions, use markdown with headers and subheaders to organize.'}, 'involved_characters': {'type': 'array', 'items': {'type': 'object', 'properties': {'name': {'type': 'string', 'description': 'Name of the character involved'}, 'role': {'type': 'string', 'description': \"The character's role or involvement in the event\"}}, 'required': ['name']}, 'description': 'List of characters who played a significant role in the event'}, 'locations': {'type': 'array', 'items': {'type': 'string'}, 'description': 'Key locations associated with the event'}, 'related_events': {'type': 'array', 'items': {'type': 'object', 'properties': {'name': {'type': 'string', 'description': 'Name of the related event'}, 'relationship': {'type': 'string', 'description': 'How this event is related to the main event'}}, 'required': ['name']}, 'description': 'Other events that are directly connected to or influenced by this event'}}, 'required': ['name', 'type', 'overview', 'significance', 'chronology'], 'additionalProperties': False}\n",
      "482\n",
      "{'type': 'object', 'properties': {'name': {'type': 'string', 'description': 'The primary name of the location'}, 'aliases': {'type': 'array', 'items': {'type': 'string'}, 'description': 'Alternative names or designations for the location'}, 'overview': {'type': 'string', 'description': 'A concise summary of the location, including its type (e.g., city, country, planet), basic characteristics, and general significance'}, 'significance': {'type': 'string', 'description': \"The location's importance to the plot and how it impacts the story\"}, 'setting': {'type': 'string', 'description': \"Comprehensive description of the location's setting, including physical characteristics like layout, terrain, climate, and notable features and for cities, this can include urban planning, architecture, and districts. Also include descriptions about the society like the location's inhabitants, governance, culture, and economy. For longer descriptions, use markdown with headers and subheaders to organize.\"}, 'key_features': {'type': 'array', 'items': {'type': 'object', 'properties': {'name': {'type': 'string', 'description': 'Name of the key feature'}, 'description': {'type': 'string', 'description': 'Detailed description of the feature and its significance'}}, 'required': ['name', 'description']}, 'description': 'List of notable or unique features of the location'}, 'background': {'type': 'string', 'description': 'Detailed history and lore of the location. For longer descriptions, use markdown with headers and subheaders to organize.'}, 'nearby': {'type': 'array', 'items': {'type': 'object', 'properties': {'name': {'type': 'string', 'description': 'Name of the nearby location'}, 'distance': {'type': 'string', 'description': 'Approximate distance and direction from the main location'}, 'connection': {'type': 'string', 'description': 'Brief description of the relationship or relevance to the main location'}}, 'required': ['name', 'distance']}, 'description': 'List of nearby locations and their connections to the main location'}}, 'required': ['name', 'overview', 'significance', 'description', 'background'], 'additionalProperties': False}\n",
      "478\n",
      "{'type': 'object', 'properties': {'name': {'type': 'string', 'description': 'The official name of the organization'}, 'aliases': {'type': 'array', 'items': {'type': 'string'}, 'description': 'Alternative names or nicknames for the organization'}, 'overview': {'type': 'string', 'description': 'A concise summary of the organization, its purpose, role in the story, and current goals'}, 'significance': {'type': 'string', 'description': \"The organization's importance to the plot and its impact on the story world\"}, 'background': {'type': 'string', 'description': 'Detailed history and lore of the location. For longer descriptions, use markdown with headers and subheaders to organize.'}, 'key_members': {'type': 'array', 'items': {'type': 'object', 'properties': {'name': {'type': 'string'}, 'role': {'type': 'string'}, 'description': {'type': 'string'}}}, 'description': 'Important individuals associated with the organization'}, 'connections': {'type': 'array', 'items': {'type': 'object', 'properties': {'entity': {'type': 'string'}, 'nature': {'type': 'string'}, 'description': {'type': 'string'}}}, 'description': 'Key relationships with other organizations, groups, or significant characters'}}, 'required': ['name', 'overview', 'significance', 'background'], 'additionalProperties': False}\n",
      "306\n",
      "{'type': 'object', 'properties': {'name': {'type': 'string', 'description': 'The primary name or identifier of the object'}, 'item_type': {'type': 'string', 'description': 'The category or type of the object (e.g., weapon, artifact, technology)'}, 'aliases': {'type': 'array', 'items': {'type': 'string'}, 'description': 'Alternative names or identifiers for the object'}, 'overview': {'type': 'string', 'description': 'A concise summary of the object, including its key features and general importance'}, 'significance': {'type': 'string', 'description': \"The object's importance to the plot and how it impacts the story\"}, 'description': {'type': 'object', 'properties': {'appearance': {'type': 'string', 'description': 'Physical description of the object'}, 'properties': {'type': 'string', 'description': 'Special properties, functions, or capabilities of the object'}}, 'required': ['appearance']}, 'background': {'type': 'string', 'description': 'Detailed description of origin, past uses, and significant events involving the object. For longer descriptions, use markdown with headers and subheaders to organize.'}, 'current_status': {'type': 'string', 'description': 'The current state, location, or possessor of the object'}, 'related_entities': {'type': 'array', 'items': {'type': 'object', 'properties': {'name': {'type': 'string'}, 'type': {'type': 'string'}, 'relation': {'type': 'string'}, 'description': {'type': 'string'}}}, 'description': 'Characters, locations, or other entities closely associated with the object'}}, 'required': ['name', 'item_type', 'overview', 'significance'], 'additionalProperties': False}\n",
      "382\n",
      "4133\n"
     ]
    }
   ],
   "source": [
    "from novelinsights.prompts.schemas import SchemaManager\n",
    "import json\n",
    "\n",
    "sm = SchemaManager()\n",
    "\n",
    "total = 0\n",
    "for schema in sm:\n",
    "    print(schema)\n",
    "    tok = est(json.dumps(schema))\n",
    "    total += tok\n",
    "    print(tok)\n",
    "    # print(simple_token_estimator(json.dumps(schema)))\n",
    "print(total)"
   ]
  },
  {
   "cell_type": "code",
   "execution_count": 36,
   "metadata": {},
   "outputs": [
    {
     "data": {
      "text/plain": [
       "789"
      ]
     },
     "execution_count": 36,
     "metadata": {},
     "output_type": "execute_result"
    }
   ],
   "source": [
    "est(s)"
   ]
  },
  {
   "cell_type": "markdown",
   "metadata": {},
   "source": [
    "# Import openai and get the API key"
   ]
  },
  {
   "cell_type": "code",
   "execution_count": 135,
   "metadata": {},
   "outputs": [
    {
     "name": "stdout",
     "output_type": "stream",
     "text": [
      "[TextBlock(text='Briny depths, a mystery old,\\nTears of Earth, stories untold.\\nRivers carry minerals to sea,\\nEons of salt, set eternally free.', type='text')]\n"
     ]
    }
   ],
   "source": [
    "# api key from .env file\n",
    "import os\n",
    "from dotenv import load_dotenv\n",
    "load_dotenv(override=True)\n",
    "\n",
    "# from openai import OpenAI\n",
    "# client = OpenAI(\n",
    "#   organization='org-ZmPsjhKQZsIYHP2tf06Qw0tb',\n",
    "#   project='proj_7IW3lRCW3PRtkrALT3OQ7okH',\n",
    "#   api_key=os.getenv(\"OPENAI_API_KEY\")\n",
    "# )\n",
    "# test a call to the API \n",
    "# completion = client.chat.completions.create(\n",
    "#     model=\"gpt-4o-mini\",\n",
    "#     messages=[\n",
    "#         {\"role\": \"user\", \"content\": \"write a haiku about ai\"}\n",
    "#     ]\n",
    "# )\n",
    "# print(completion.choices[0].message.content)\n",
    "\n",
    "import anthropic\n",
    "client = anthropic.Anthropic(\n",
    "  api_key=os.getenv(\"ANTHROPIC_API_KEY\"),\n",
    ")\n",
    "\n",
    "message = client.messages.create(\n",
    "    model=\"claude-3-5-sonnet-20240620\",\n",
    "    max_tokens=1000,\n",
    "    system=\"You are a world-class poet. Respond only with short poems.\",\n",
    "    messages=[\n",
    "        {\n",
    "            \"role\": \"user\",\n",
    "            \"content\": [\n",
    "                {\n",
    "                    \"type\": \"text\",\n",
    "                    \"text\": \"Why is the ocean salty?\"\n",
    "                }\n",
    "            ]\n",
    "        }\n",
    "    ]\n",
    ")\n",
    "print(message.content)"
   ]
  },
  {
   "cell_type": "code",
   "execution_count": 128,
   "metadata": {},
   "outputs": [
    {
     "data": {
      "text/plain": [
       "{'gi': 'ffi'}"
      ]
     },
     "execution_count": 128,
     "metadata": {},
     "output_type": "execute_result"
    }
   ],
   "source": [
    "import json\n",
    "def parse_json(response:str, json_index:int=0) -> dict:\n",
    "    # json is between ``` and ``` in the response, possibly with a ```json and ``` as well\n",
    "    # the json_index json surrounded by ``` is the one we want\n",
    "    # repeatedly find ``` until we find the json_index-th one\n",
    "    # use response.find\n",
    "    \"\"\" Find the json_index-th json in the response\n",
    "\n",
    "    Args:\n",
    "        response (str): The string response from the API\n",
    "        json_index (int, optional): index of the json to find. Defaults to 0.\n",
    "\n",
    "    Returns:\n",
    "        dict: The json object. Could error if the json is not valid\n",
    "    \n",
    "    Throws:\n",
    "        ValueError: If the json is not\n",
    "    \"\"\"\n",
    "    start = -1\n",
    "    count = 0\n",
    "    while count < json_index+1:\n",
    "        start = response.find(\"```\", start+1)\n",
    "        if start == -1:\n",
    "            break\n",
    "        count += 1\n",
    "    # find the end of the json\n",
    "    end = response.find(\"```\", start+1)\n",
    " \n",
    "    if start == -1 or end == -1:\n",
    "        return None\n",
    "    \n",
    "    # handle the case where there is a ```json\\n and ``` in the response\n",
    "    if response[start+3:start+7] == \"json\":\n",
    "        start += 7\n",
    "\n",
    "    return json.loads(response[start:end])\n",
    "    \n",
    "parse_json('rw```json\\n{\"gi\":\"ffi\"}```')"
   ]
  },
  {
   "cell_type": "markdown",
   "metadata": {},
   "source": [
    "# Prepare folders to store outputs"
   ]
  },
  {
   "cell_type": "code",
   "execution_count": 127,
   "metadata": {},
   "outputs": [],
   "source": [
    "# make directory for the output, if it exists, create a new one with incremented number\n",
    "import os\n",
    "\n",
    "output_dir = \"../output/frankenstein\"\n",
    "if os.path.exists(output_dir):\n",
    "    i = 1\n",
    "    while os.path.exists(output_dir + \"_\" + str(i)):\n",
    "        i += 1\n",
    "    output_dir += \"_\" + str(i)\n",
    "os.makedirs(output_dir)\n",
    "\n",
    "# make folders \"inprompt\", \"json\", and \"response\" folders in the output directory\n",
    "os.makedirs(os.path.join(output_dir, \"inprompt\"))\n",
    "os.makedirs(os.path.join(output_dir, \"json\"))\n",
    "os.makedirs(os.path.join(output_dir, \"response\"))"
   ]
  },
  {
   "cell_type": "code",
   "execution_count": 57,
   "metadata": {},
   "outputs": [
    {
     "name": "stdout",
     "output_type": "stream",
     "text": [
      "Here's the JSON created based on the provided excerpt and schema:\n",
      "\n",
      "```json\n",
      "{\n",
      "  \"novelInfo\": {\n",
      "    \"title\": \"Frankenstein; Or, The Modern Prometheus\",\n",
      "    \"author\": \"Mary Wollstonecraft Shelley\",\n",
      "    \"genre\": [\"Gothic\", \"Science Fiction\", \"Horror\"]\n",
      "  },\n",
      "  \"summary\": \"Frankenstein; Or, The Modern Prometheus is a novel that explores themes of scientific ambition, the consequences of creating life, and the responsibilities of a creator to their creation. The story likely follows the journey of a scientist who creates a living being, leading to unforeseen and potentially disastrous consequences.\",\n",
      "  \"characters\": [\n",
      "    {\n",
      "      \"name\": \"Victor Frankenstein\",\n",
      "      \"description\": \"Presumed to be the main character, a scientist who likely creates artificial life.\",\n",
      "      \"role\": \"protagonist\"\n",
      "    },\n",
      "    {\n",
      "      \"name\": \"The Creature\",\n",
      "      \"description\": \"Presumed to be the artificial being created by Victor Frankenstein.\",\n",
      "      \"role\": \"antagonist\"\n",
      "    }\n",
      "  ],\n",
      "  \"plotPoints\": [],\n",
      "  \"worldBuilding\": {\n",
      "    \"settings\": [],\n",
      "    \"magicSystem\": [],\n",
      "    \"technology\": [],\n",
      "    \"politics\": [],\n",
      "    \"history\": []\n",
      "  },\n",
      "  \"themes\": [\n",
      "    {\n",
      "      \"name\": \"Scientific ambition and its consequences\",\n",
      "      \"description\": \"The novel likely explores the dangers of unchecked scientific progress and the moral implications of creating life.\",\n",
      "      \"examples\": []\n",
      "    },\n",
      "    {\n",
      "      \"name\": \"Creator's responsibility\",\n",
      "      \"description\": \"The story probably delves into the ethical responsibilities a creator has towards their creation.\",\n",
      "      \"examples\": []\n",
      "    }\n",
      "  ],\n",
      "  \"timeline\": [],\n",
      "  \"references\": [\n",
      "    {\n",
      "      \"type\": \"mythological\",\n",
      "      \"reference\": \"Prometheus\",\n",
      "      \"context\": \"The subtitle 'The Modern Prometheus' alludes to the Greek myth of Prometheus, who stole fire from the gods to give to humans.\",\n",
      "      \"chapter\": 0,\n",
      "      \"explanation\": \"This reference suggests that the novel may draw parallels between the main character's actions and the myth of Prometheus, possibly relating to themes of forbidden knowledge or defying natural order.\"\n",
      "    }\n",
      "  ]\n",
      "}\n",
      "```\n"
     ]
    }
   ],
   "source": [
    "# message = client.messages.create(\n",
    "#     model=\"claude-3-5-sonnet-20240620\",\n",
    "#     max_tokens=1000,\n",
    "#     messages=[\n",
    "#         {\n",
    "#             \"role\": \"user\",\n",
    "#             \"content\": [\n",
    "#                 {\n",
    "#                     \"type\": \"text\",\n",
    "#                     \"text\": template(tree[0].content)\n",
    "#                 }\n",
    "#             ]\n",
    "#         }\n",
    "#     ]\n",
    "# )\n",
    "# print(message.content[0].text)"
   ]
  },
  {
   "cell_type": "code",
   "execution_count": 46,
   "metadata": {},
   "outputs": [],
   "source": [
    "# completion = client.chat.completions.create(\n",
    "#     model=\"chatgpt-4o-latest\",\n",
    "#     messages=[\n",
    "#         {\"role\": \"user\", \"content\": template(tree[0].content)}\n",
    "#     ]\n",
    "# )\n",
    "# print(completion.choices[0].message.content)"
   ]
  },
  {
   "cell_type": "code",
   "execution_count": 129,
   "metadata": {},
   "outputs": [
    {
     "name": "stdout",
     "output_type": "stream",
     "text": [
      "[0]\tFrankenstein;\n",
      "[1]\tor, the Modern Prometheus\n",
      "[2]\tCONTENTS\n",
      "[3]\tLetter 1\n",
      "[4]\tLetter 2\n",
      "[5]\tLetter 3\n",
      "[6]\tLetter 4\n",
      "[7]\tChapter 1\n",
      "[8]\tChapter 2\n",
      "[9]\tChapter 3\n",
      "[10]\tChapter 4\n",
      "[11]\tChapter 5\n",
      "[12]\tChapter 6\n"
     ]
    },
    {
     "ename": "KeyboardInterrupt",
     "evalue": "",
     "output_type": "error",
     "traceback": [
      "\u001b[0;31m---------------------------------------------------------------------------\u001b[0m",
      "\u001b[0;31mKeyboardInterrupt\u001b[0m                         Traceback (most recent call last)",
      "Cell \u001b[0;32mIn[129], line 12\u001b[0m\n\u001b[1;32m      9\u001b[0m \u001b[38;5;28;01mwith\u001b[39;00m \u001b[38;5;28mopen\u001b[39m(os\u001b[38;5;241m.\u001b[39mpath\u001b[38;5;241m.\u001b[39mjoin(output_dir, \u001b[38;5;124m\"\u001b[39m\u001b[38;5;124minprompt\u001b[39m\u001b[38;5;124m\"\u001b[39m, \u001b[38;5;124mf\u001b[39m\u001b[38;5;124m\"\u001b[39m\u001b[38;5;124m[\u001b[39m\u001b[38;5;132;01m{\u001b[39;00mi\u001b[38;5;132;01m}\u001b[39;00m\u001b[38;5;124m] \u001b[39m\u001b[38;5;132;01m{\u001b[39;00mexcerpt\u001b[38;5;241m.\u001b[39mtitle\u001b[38;5;132;01m}\u001b[39;00m\u001b[38;5;124m.txt\u001b[39m\u001b[38;5;124m\"\u001b[39m), \u001b[38;5;124m\"\u001b[39m\u001b[38;5;124mw\u001b[39m\u001b[38;5;124m\"\u001b[39m) \u001b[38;5;28;01mas\u001b[39;00m f:\n\u001b[1;32m     10\u001b[0m     f\u001b[38;5;241m.\u001b[39mwrite(cur_template)\n\u001b[0;32m---> 12\u001b[0m     message \u001b[38;5;241m=\u001b[39m \u001b[43mclient\u001b[49m\u001b[38;5;241;43m.\u001b[39;49m\u001b[43mmessages\u001b[49m\u001b[38;5;241;43m.\u001b[39;49m\u001b[43mcreate\u001b[49m\u001b[43m(\u001b[49m\n\u001b[1;32m     13\u001b[0m \u001b[43m        \u001b[49m\u001b[43mmodel\u001b[49m\u001b[38;5;241;43m=\u001b[39;49m\u001b[38;5;124;43m\"\u001b[39;49m\u001b[38;5;124;43mclaude-3-5-sonnet-20240620\u001b[39;49m\u001b[38;5;124;43m\"\u001b[39;49m\u001b[43m,\u001b[49m\n\u001b[1;32m     14\u001b[0m \u001b[43m        \u001b[49m\u001b[43mmax_tokens\u001b[49m\u001b[38;5;241;43m=\u001b[39;49m\u001b[38;5;241;43m8192\u001b[39;49m\u001b[43m,\u001b[49m\n\u001b[1;32m     15\u001b[0m \u001b[43m        \u001b[49m\u001b[43mmessages\u001b[49m\u001b[38;5;241;43m=\u001b[39;49m\u001b[43m[\u001b[49m\n\u001b[1;32m     16\u001b[0m \u001b[43m            \u001b[49m\u001b[43m{\u001b[49m\n\u001b[1;32m     17\u001b[0m \u001b[43m                \u001b[49m\u001b[38;5;124;43m\"\u001b[39;49m\u001b[38;5;124;43mrole\u001b[39;49m\u001b[38;5;124;43m\"\u001b[39;49m\u001b[43m:\u001b[49m\u001b[43m \u001b[49m\u001b[38;5;124;43m\"\u001b[39;49m\u001b[38;5;124;43muser\u001b[39;49m\u001b[38;5;124;43m\"\u001b[39;49m\u001b[43m,\u001b[49m\n\u001b[1;32m     18\u001b[0m \u001b[43m                \u001b[49m\u001b[38;5;124;43m\"\u001b[39;49m\u001b[38;5;124;43mcontent\u001b[39;49m\u001b[38;5;124;43m\"\u001b[39;49m\u001b[43m:\u001b[49m\u001b[43m \u001b[49m\u001b[43m[\u001b[49m\n\u001b[1;32m     19\u001b[0m \u001b[43m                    \u001b[49m\u001b[43m{\u001b[49m\n\u001b[1;32m     20\u001b[0m \u001b[43m                        \u001b[49m\u001b[38;5;124;43m\"\u001b[39;49m\u001b[38;5;124;43mtype\u001b[39;49m\u001b[38;5;124;43m\"\u001b[39;49m\u001b[43m:\u001b[49m\u001b[43m \u001b[49m\u001b[38;5;124;43m\"\u001b[39;49m\u001b[38;5;124;43mtext\u001b[39;49m\u001b[38;5;124;43m\"\u001b[39;49m\u001b[43m,\u001b[49m\n\u001b[1;32m     21\u001b[0m \u001b[43m                        \u001b[49m\u001b[38;5;124;43m\"\u001b[39;49m\u001b[38;5;124;43mtext\u001b[39;49m\u001b[38;5;124;43m\"\u001b[39;49m\u001b[43m:\u001b[49m\u001b[43m \u001b[49m\u001b[43mcur_template\u001b[49m\n\u001b[1;32m     22\u001b[0m \u001b[43m                    \u001b[49m\u001b[43m}\u001b[49m\n\u001b[1;32m     23\u001b[0m \u001b[43m                \u001b[49m\u001b[43m]\u001b[49m\n\u001b[1;32m     24\u001b[0m \u001b[43m            \u001b[49m\u001b[43m}\u001b[49m\n\u001b[1;32m     25\u001b[0m \u001b[43m        \u001b[49m\u001b[43m]\u001b[49m\n\u001b[1;32m     26\u001b[0m \u001b[43m    \u001b[49m\u001b[43m)\u001b[49m\n\u001b[1;32m     28\u001b[0m     \u001b[38;5;28;01mwith\u001b[39;00m \u001b[38;5;28mopen\u001b[39m(os\u001b[38;5;241m.\u001b[39mpath\u001b[38;5;241m.\u001b[39mjoin(output_dir, \u001b[38;5;124m\"\u001b[39m\u001b[38;5;124mresponse\u001b[39m\u001b[38;5;124m\"\u001b[39m, \u001b[38;5;124mf\u001b[39m\u001b[38;5;124m\"\u001b[39m\u001b[38;5;124m[\u001b[39m\u001b[38;5;132;01m{\u001b[39;00mi\u001b[38;5;132;01m}\u001b[39;00m\u001b[38;5;124m] \u001b[39m\u001b[38;5;132;01m{\u001b[39;00mexcerpt\u001b[38;5;241m.\u001b[39mtitle\u001b[38;5;132;01m}\u001b[39;00m\u001b[38;5;124m.txt\u001b[39m\u001b[38;5;124m\"\u001b[39m), \u001b[38;5;124m\"\u001b[39m\u001b[38;5;124mw\u001b[39m\u001b[38;5;124m\"\u001b[39m) \u001b[38;5;28;01mas\u001b[39;00m f:\n\u001b[1;32m     29\u001b[0m         f\u001b[38;5;241m.\u001b[39mwrite(message\u001b[38;5;241m.\u001b[39mcontent[\u001b[38;5;241m0\u001b[39m]\u001b[38;5;241m.\u001b[39mtext)\n",
      "File \u001b[0;32m~/miniconda3/envs/novel/lib/python3.11/site-packages/anthropic/_utils/_utils.py:274\u001b[0m, in \u001b[0;36mrequired_args.<locals>.inner.<locals>.wrapper\u001b[0;34m(*args, **kwargs)\u001b[0m\n\u001b[1;32m    272\u001b[0m             msg \u001b[38;5;241m=\u001b[39m \u001b[38;5;124mf\u001b[39m\u001b[38;5;124m\"\u001b[39m\u001b[38;5;124mMissing required argument: \u001b[39m\u001b[38;5;132;01m{\u001b[39;00mquote(missing[\u001b[38;5;241m0\u001b[39m])\u001b[38;5;132;01m}\u001b[39;00m\u001b[38;5;124m\"\u001b[39m\n\u001b[1;32m    273\u001b[0m     \u001b[38;5;28;01mraise\u001b[39;00m \u001b[38;5;167;01mTypeError\u001b[39;00m(msg)\n\u001b[0;32m--> 274\u001b[0m \u001b[38;5;28;01mreturn\u001b[39;00m \u001b[43mfunc\u001b[49m\u001b[43m(\u001b[49m\u001b[38;5;241;43m*\u001b[39;49m\u001b[43margs\u001b[49m\u001b[43m,\u001b[49m\u001b[43m \u001b[49m\u001b[38;5;241;43m*\u001b[39;49m\u001b[38;5;241;43m*\u001b[39;49m\u001b[43mkwargs\u001b[49m\u001b[43m)\u001b[49m\n",
      "File \u001b[0;32m~/miniconda3/envs/novel/lib/python3.11/site-packages/anthropic/resources/messages.py:878\u001b[0m, in \u001b[0;36mMessages.create\u001b[0;34m(self, max_tokens, messages, model, metadata, stop_sequences, stream, system, temperature, tool_choice, tools, top_k, top_p, extra_headers, extra_query, extra_body, timeout)\u001b[0m\n\u001b[1;32m    871\u001b[0m \u001b[38;5;28;01mif\u001b[39;00m model \u001b[38;5;129;01min\u001b[39;00m DEPRECATED_MODELS:\n\u001b[1;32m    872\u001b[0m     warnings\u001b[38;5;241m.\u001b[39mwarn(\n\u001b[1;32m    873\u001b[0m         \u001b[38;5;124mf\u001b[39m\u001b[38;5;124m\"\u001b[39m\u001b[38;5;124mThe model \u001b[39m\u001b[38;5;124m'\u001b[39m\u001b[38;5;132;01m{\u001b[39;00mmodel\u001b[38;5;132;01m}\u001b[39;00m\u001b[38;5;124m'\u001b[39m\u001b[38;5;124m is deprecated and will reach end-of-life on \u001b[39m\u001b[38;5;132;01m{\u001b[39;00mDEPRECATED_MODELS[model]\u001b[38;5;132;01m}\u001b[39;00m\u001b[38;5;124m.\u001b[39m\u001b[38;5;130;01m\\n\u001b[39;00m\u001b[38;5;124mPlease migrate to a newer model. Visit https://docs.anthropic.com/en/docs/resources/model-deprecations for more information.\u001b[39m\u001b[38;5;124m\"\u001b[39m,\n\u001b[1;32m    874\u001b[0m         \u001b[38;5;167;01mDeprecationWarning\u001b[39;00m,\n\u001b[1;32m    875\u001b[0m         stacklevel\u001b[38;5;241m=\u001b[39m\u001b[38;5;241m3\u001b[39m,\n\u001b[1;32m    876\u001b[0m     )\n\u001b[0;32m--> 878\u001b[0m \u001b[38;5;28;01mreturn\u001b[39;00m \u001b[38;5;28;43mself\u001b[39;49m\u001b[38;5;241;43m.\u001b[39;49m\u001b[43m_post\u001b[49m\u001b[43m(\u001b[49m\n\u001b[1;32m    879\u001b[0m \u001b[43m    \u001b[49m\u001b[38;5;124;43m\"\u001b[39;49m\u001b[38;5;124;43m/v1/messages\u001b[39;49m\u001b[38;5;124;43m\"\u001b[39;49m\u001b[43m,\u001b[49m\n\u001b[1;32m    880\u001b[0m \u001b[43m    \u001b[49m\u001b[43mbody\u001b[49m\u001b[38;5;241;43m=\u001b[39;49m\u001b[43mmaybe_transform\u001b[49m\u001b[43m(\u001b[49m\n\u001b[1;32m    881\u001b[0m \u001b[43m        \u001b[49m\u001b[43m{\u001b[49m\n\u001b[1;32m    882\u001b[0m \u001b[43m            \u001b[49m\u001b[38;5;124;43m\"\u001b[39;49m\u001b[38;5;124;43mmax_tokens\u001b[39;49m\u001b[38;5;124;43m\"\u001b[39;49m\u001b[43m:\u001b[49m\u001b[43m \u001b[49m\u001b[43mmax_tokens\u001b[49m\u001b[43m,\u001b[49m\n\u001b[1;32m    883\u001b[0m \u001b[43m            \u001b[49m\u001b[38;5;124;43m\"\u001b[39;49m\u001b[38;5;124;43mmessages\u001b[39;49m\u001b[38;5;124;43m\"\u001b[39;49m\u001b[43m:\u001b[49m\u001b[43m \u001b[49m\u001b[43mmessages\u001b[49m\u001b[43m,\u001b[49m\n\u001b[1;32m    884\u001b[0m \u001b[43m            \u001b[49m\u001b[38;5;124;43m\"\u001b[39;49m\u001b[38;5;124;43mmodel\u001b[39;49m\u001b[38;5;124;43m\"\u001b[39;49m\u001b[43m:\u001b[49m\u001b[43m \u001b[49m\u001b[43mmodel\u001b[49m\u001b[43m,\u001b[49m\n\u001b[1;32m    885\u001b[0m \u001b[43m            \u001b[49m\u001b[38;5;124;43m\"\u001b[39;49m\u001b[38;5;124;43mmetadata\u001b[39;49m\u001b[38;5;124;43m\"\u001b[39;49m\u001b[43m:\u001b[49m\u001b[43m \u001b[49m\u001b[43mmetadata\u001b[49m\u001b[43m,\u001b[49m\n\u001b[1;32m    886\u001b[0m \u001b[43m            \u001b[49m\u001b[38;5;124;43m\"\u001b[39;49m\u001b[38;5;124;43mstop_sequences\u001b[39;49m\u001b[38;5;124;43m\"\u001b[39;49m\u001b[43m:\u001b[49m\u001b[43m \u001b[49m\u001b[43mstop_sequences\u001b[49m\u001b[43m,\u001b[49m\n\u001b[1;32m    887\u001b[0m \u001b[43m            \u001b[49m\u001b[38;5;124;43m\"\u001b[39;49m\u001b[38;5;124;43mstream\u001b[39;49m\u001b[38;5;124;43m\"\u001b[39;49m\u001b[43m:\u001b[49m\u001b[43m \u001b[49m\u001b[43mstream\u001b[49m\u001b[43m,\u001b[49m\n\u001b[1;32m    888\u001b[0m \u001b[43m            \u001b[49m\u001b[38;5;124;43m\"\u001b[39;49m\u001b[38;5;124;43msystem\u001b[39;49m\u001b[38;5;124;43m\"\u001b[39;49m\u001b[43m:\u001b[49m\u001b[43m \u001b[49m\u001b[43msystem\u001b[49m\u001b[43m,\u001b[49m\n\u001b[1;32m    889\u001b[0m \u001b[43m            \u001b[49m\u001b[38;5;124;43m\"\u001b[39;49m\u001b[38;5;124;43mtemperature\u001b[39;49m\u001b[38;5;124;43m\"\u001b[39;49m\u001b[43m:\u001b[49m\u001b[43m \u001b[49m\u001b[43mtemperature\u001b[49m\u001b[43m,\u001b[49m\n\u001b[1;32m    890\u001b[0m \u001b[43m            \u001b[49m\u001b[38;5;124;43m\"\u001b[39;49m\u001b[38;5;124;43mtool_choice\u001b[39;49m\u001b[38;5;124;43m\"\u001b[39;49m\u001b[43m:\u001b[49m\u001b[43m \u001b[49m\u001b[43mtool_choice\u001b[49m\u001b[43m,\u001b[49m\n\u001b[1;32m    891\u001b[0m \u001b[43m            \u001b[49m\u001b[38;5;124;43m\"\u001b[39;49m\u001b[38;5;124;43mtools\u001b[39;49m\u001b[38;5;124;43m\"\u001b[39;49m\u001b[43m:\u001b[49m\u001b[43m \u001b[49m\u001b[43mtools\u001b[49m\u001b[43m,\u001b[49m\n\u001b[1;32m    892\u001b[0m \u001b[43m            \u001b[49m\u001b[38;5;124;43m\"\u001b[39;49m\u001b[38;5;124;43mtop_k\u001b[39;49m\u001b[38;5;124;43m\"\u001b[39;49m\u001b[43m:\u001b[49m\u001b[43m \u001b[49m\u001b[43mtop_k\u001b[49m\u001b[43m,\u001b[49m\n\u001b[1;32m    893\u001b[0m \u001b[43m            \u001b[49m\u001b[38;5;124;43m\"\u001b[39;49m\u001b[38;5;124;43mtop_p\u001b[39;49m\u001b[38;5;124;43m\"\u001b[39;49m\u001b[43m:\u001b[49m\u001b[43m \u001b[49m\u001b[43mtop_p\u001b[49m\u001b[43m,\u001b[49m\n\u001b[1;32m    894\u001b[0m \u001b[43m        \u001b[49m\u001b[43m}\u001b[49m\u001b[43m,\u001b[49m\n\u001b[1;32m    895\u001b[0m \u001b[43m        \u001b[49m\u001b[43mmessage_create_params\u001b[49m\u001b[38;5;241;43m.\u001b[39;49m\u001b[43mMessageCreateParams\u001b[49m\u001b[43m,\u001b[49m\n\u001b[1;32m    896\u001b[0m \u001b[43m    \u001b[49m\u001b[43m)\u001b[49m\u001b[43m,\u001b[49m\n\u001b[1;32m    897\u001b[0m \u001b[43m    \u001b[49m\u001b[43moptions\u001b[49m\u001b[38;5;241;43m=\u001b[39;49m\u001b[43mmake_request_options\u001b[49m\u001b[43m(\u001b[49m\n\u001b[1;32m    898\u001b[0m \u001b[43m        \u001b[49m\u001b[43mextra_headers\u001b[49m\u001b[38;5;241;43m=\u001b[39;49m\u001b[43mextra_headers\u001b[49m\u001b[43m,\u001b[49m\u001b[43m \u001b[49m\u001b[43mextra_query\u001b[49m\u001b[38;5;241;43m=\u001b[39;49m\u001b[43mextra_query\u001b[49m\u001b[43m,\u001b[49m\u001b[43m \u001b[49m\u001b[43mextra_body\u001b[49m\u001b[38;5;241;43m=\u001b[39;49m\u001b[43mextra_body\u001b[49m\u001b[43m,\u001b[49m\u001b[43m \u001b[49m\u001b[43mtimeout\u001b[49m\u001b[38;5;241;43m=\u001b[39;49m\u001b[43mtimeout\u001b[49m\n\u001b[1;32m    899\u001b[0m \u001b[43m    \u001b[49m\u001b[43m)\u001b[49m\u001b[43m,\u001b[49m\n\u001b[1;32m    900\u001b[0m \u001b[43m    \u001b[49m\u001b[43mcast_to\u001b[49m\u001b[38;5;241;43m=\u001b[39;49m\u001b[43mMessage\u001b[49m\u001b[43m,\u001b[49m\n\u001b[1;32m    901\u001b[0m \u001b[43m    \u001b[49m\u001b[43mstream\u001b[49m\u001b[38;5;241;43m=\u001b[39;49m\u001b[43mstream\u001b[49m\u001b[43m \u001b[49m\u001b[38;5;129;43;01mor\u001b[39;49;00m\u001b[43m \u001b[49m\u001b[38;5;28;43;01mFalse\u001b[39;49;00m\u001b[43m,\u001b[49m\n\u001b[1;32m    902\u001b[0m \u001b[43m    \u001b[49m\u001b[43mstream_cls\u001b[49m\u001b[38;5;241;43m=\u001b[39;49m\u001b[43mStream\u001b[49m\u001b[43m[\u001b[49m\u001b[43mRawMessageStreamEvent\u001b[49m\u001b[43m]\u001b[49m\u001b[43m,\u001b[49m\n\u001b[1;32m    903\u001b[0m \u001b[43m\u001b[49m\u001b[43m)\u001b[49m\n",
      "File \u001b[0;32m~/miniconda3/envs/novel/lib/python3.11/site-packages/anthropic/_base_client.py:1260\u001b[0m, in \u001b[0;36mSyncAPIClient.post\u001b[0;34m(self, path, cast_to, body, options, files, stream, stream_cls)\u001b[0m\n\u001b[1;32m   1246\u001b[0m \u001b[38;5;28;01mdef\u001b[39;00m \u001b[38;5;21mpost\u001b[39m(\n\u001b[1;32m   1247\u001b[0m     \u001b[38;5;28mself\u001b[39m,\n\u001b[1;32m   1248\u001b[0m     path: \u001b[38;5;28mstr\u001b[39m,\n\u001b[0;32m   (...)\u001b[0m\n\u001b[1;32m   1255\u001b[0m     stream_cls: \u001b[38;5;28mtype\u001b[39m[_StreamT] \u001b[38;5;241m|\u001b[39m \u001b[38;5;28;01mNone\u001b[39;00m \u001b[38;5;241m=\u001b[39m \u001b[38;5;28;01mNone\u001b[39;00m,\n\u001b[1;32m   1256\u001b[0m ) \u001b[38;5;241m-\u001b[39m\u001b[38;5;241m>\u001b[39m ResponseT \u001b[38;5;241m|\u001b[39m _StreamT:\n\u001b[1;32m   1257\u001b[0m     opts \u001b[38;5;241m=\u001b[39m FinalRequestOptions\u001b[38;5;241m.\u001b[39mconstruct(\n\u001b[1;32m   1258\u001b[0m         method\u001b[38;5;241m=\u001b[39m\u001b[38;5;124m\"\u001b[39m\u001b[38;5;124mpost\u001b[39m\u001b[38;5;124m\"\u001b[39m, url\u001b[38;5;241m=\u001b[39mpath, json_data\u001b[38;5;241m=\u001b[39mbody, files\u001b[38;5;241m=\u001b[39mto_httpx_files(files), \u001b[38;5;241m*\u001b[39m\u001b[38;5;241m*\u001b[39moptions\n\u001b[1;32m   1259\u001b[0m     )\n\u001b[0;32m-> 1260\u001b[0m     \u001b[38;5;28;01mreturn\u001b[39;00m cast(ResponseT, \u001b[38;5;28;43mself\u001b[39;49m\u001b[38;5;241;43m.\u001b[39;49m\u001b[43mrequest\u001b[49m\u001b[43m(\u001b[49m\u001b[43mcast_to\u001b[49m\u001b[43m,\u001b[49m\u001b[43m \u001b[49m\u001b[43mopts\u001b[49m\u001b[43m,\u001b[49m\u001b[43m \u001b[49m\u001b[43mstream\u001b[49m\u001b[38;5;241;43m=\u001b[39;49m\u001b[43mstream\u001b[49m\u001b[43m,\u001b[49m\u001b[43m \u001b[49m\u001b[43mstream_cls\u001b[49m\u001b[38;5;241;43m=\u001b[39;49m\u001b[43mstream_cls\u001b[49m\u001b[43m)\u001b[49m)\n",
      "File \u001b[0;32m~/miniconda3/envs/novel/lib/python3.11/site-packages/anthropic/_base_client.py:937\u001b[0m, in \u001b[0;36mSyncAPIClient.request\u001b[0;34m(self, cast_to, options, remaining_retries, stream, stream_cls)\u001b[0m\n\u001b[1;32m    928\u001b[0m \u001b[38;5;28;01mdef\u001b[39;00m \u001b[38;5;21mrequest\u001b[39m(\n\u001b[1;32m    929\u001b[0m     \u001b[38;5;28mself\u001b[39m,\n\u001b[1;32m    930\u001b[0m     cast_to: Type[ResponseT],\n\u001b[0;32m   (...)\u001b[0m\n\u001b[1;32m    935\u001b[0m     stream_cls: \u001b[38;5;28mtype\u001b[39m[_StreamT] \u001b[38;5;241m|\u001b[39m \u001b[38;5;28;01mNone\u001b[39;00m \u001b[38;5;241m=\u001b[39m \u001b[38;5;28;01mNone\u001b[39;00m,\n\u001b[1;32m    936\u001b[0m ) \u001b[38;5;241m-\u001b[39m\u001b[38;5;241m>\u001b[39m ResponseT \u001b[38;5;241m|\u001b[39m _StreamT:\n\u001b[0;32m--> 937\u001b[0m     \u001b[38;5;28;01mreturn\u001b[39;00m \u001b[38;5;28;43mself\u001b[39;49m\u001b[38;5;241;43m.\u001b[39;49m\u001b[43m_request\u001b[49m\u001b[43m(\u001b[49m\n\u001b[1;32m    938\u001b[0m \u001b[43m        \u001b[49m\u001b[43mcast_to\u001b[49m\u001b[38;5;241;43m=\u001b[39;49m\u001b[43mcast_to\u001b[49m\u001b[43m,\u001b[49m\n\u001b[1;32m    939\u001b[0m \u001b[43m        \u001b[49m\u001b[43moptions\u001b[49m\u001b[38;5;241;43m=\u001b[39;49m\u001b[43moptions\u001b[49m\u001b[43m,\u001b[49m\n\u001b[1;32m    940\u001b[0m \u001b[43m        \u001b[49m\u001b[43mstream\u001b[49m\u001b[38;5;241;43m=\u001b[39;49m\u001b[43mstream\u001b[49m\u001b[43m,\u001b[49m\n\u001b[1;32m    941\u001b[0m \u001b[43m        \u001b[49m\u001b[43mstream_cls\u001b[49m\u001b[38;5;241;43m=\u001b[39;49m\u001b[43mstream_cls\u001b[49m\u001b[43m,\u001b[49m\n\u001b[1;32m    942\u001b[0m \u001b[43m        \u001b[49m\u001b[43mremaining_retries\u001b[49m\u001b[38;5;241;43m=\u001b[39;49m\u001b[43mremaining_retries\u001b[49m\u001b[43m,\u001b[49m\n\u001b[1;32m    943\u001b[0m \u001b[43m    \u001b[49m\u001b[43m)\u001b[49m\n",
      "File \u001b[0;32m~/miniconda3/envs/novel/lib/python3.11/site-packages/anthropic/_base_client.py:973\u001b[0m, in \u001b[0;36mSyncAPIClient._request\u001b[0;34m(self, cast_to, options, remaining_retries, stream, stream_cls)\u001b[0m\n\u001b[1;32m    970\u001b[0m log\u001b[38;5;241m.\u001b[39mdebug(\u001b[38;5;124m\"\u001b[39m\u001b[38;5;124mSending HTTP Request: \u001b[39m\u001b[38;5;132;01m%s\u001b[39;00m\u001b[38;5;124m \u001b[39m\u001b[38;5;132;01m%s\u001b[39;00m\u001b[38;5;124m\"\u001b[39m, request\u001b[38;5;241m.\u001b[39mmethod, request\u001b[38;5;241m.\u001b[39murl)\n\u001b[1;32m    972\u001b[0m \u001b[38;5;28;01mtry\u001b[39;00m:\n\u001b[0;32m--> 973\u001b[0m     response \u001b[38;5;241m=\u001b[39m \u001b[38;5;28;43mself\u001b[39;49m\u001b[38;5;241;43m.\u001b[39;49m\u001b[43m_client\u001b[49m\u001b[38;5;241;43m.\u001b[39;49m\u001b[43msend\u001b[49m\u001b[43m(\u001b[49m\n\u001b[1;32m    974\u001b[0m \u001b[43m        \u001b[49m\u001b[43mrequest\u001b[49m\u001b[43m,\u001b[49m\n\u001b[1;32m    975\u001b[0m \u001b[43m        \u001b[49m\u001b[43mstream\u001b[49m\u001b[38;5;241;43m=\u001b[39;49m\u001b[43mstream\u001b[49m\u001b[43m \u001b[49m\u001b[38;5;129;43;01mor\u001b[39;49;00m\u001b[43m \u001b[49m\u001b[38;5;28;43mself\u001b[39;49m\u001b[38;5;241;43m.\u001b[39;49m\u001b[43m_should_stream_response_body\u001b[49m\u001b[43m(\u001b[49m\u001b[43mrequest\u001b[49m\u001b[38;5;241;43m=\u001b[39;49m\u001b[43mrequest\u001b[49m\u001b[43m)\u001b[49m\u001b[43m,\u001b[49m\n\u001b[1;32m    976\u001b[0m \u001b[43m        \u001b[49m\u001b[38;5;241;43m*\u001b[39;49m\u001b[38;5;241;43m*\u001b[39;49m\u001b[43mkwargs\u001b[49m\u001b[43m,\u001b[49m\n\u001b[1;32m    977\u001b[0m \u001b[43m    \u001b[49m\u001b[43m)\u001b[49m\n\u001b[1;32m    978\u001b[0m \u001b[38;5;28;01mexcept\u001b[39;00m httpx\u001b[38;5;241m.\u001b[39mTimeoutException \u001b[38;5;28;01mas\u001b[39;00m err:\n\u001b[1;32m    979\u001b[0m     log\u001b[38;5;241m.\u001b[39mdebug(\u001b[38;5;124m\"\u001b[39m\u001b[38;5;124mEncountered httpx.TimeoutException\u001b[39m\u001b[38;5;124m\"\u001b[39m, exc_info\u001b[38;5;241m=\u001b[39m\u001b[38;5;28;01mTrue\u001b[39;00m)\n",
      "File \u001b[0;32m~/miniconda3/envs/novel/lib/python3.11/site-packages/httpx/_client.py:926\u001b[0m, in \u001b[0;36mClient.send\u001b[0;34m(self, request, stream, auth, follow_redirects)\u001b[0m\n\u001b[1;32m    922\u001b[0m \u001b[38;5;28mself\u001b[39m\u001b[38;5;241m.\u001b[39m_set_timeout(request)\n\u001b[1;32m    924\u001b[0m auth \u001b[38;5;241m=\u001b[39m \u001b[38;5;28mself\u001b[39m\u001b[38;5;241m.\u001b[39m_build_request_auth(request, auth)\n\u001b[0;32m--> 926\u001b[0m response \u001b[38;5;241m=\u001b[39m \u001b[38;5;28;43mself\u001b[39;49m\u001b[38;5;241;43m.\u001b[39;49m\u001b[43m_send_handling_auth\u001b[49m\u001b[43m(\u001b[49m\n\u001b[1;32m    927\u001b[0m \u001b[43m    \u001b[49m\u001b[43mrequest\u001b[49m\u001b[43m,\u001b[49m\n\u001b[1;32m    928\u001b[0m \u001b[43m    \u001b[49m\u001b[43mauth\u001b[49m\u001b[38;5;241;43m=\u001b[39;49m\u001b[43mauth\u001b[49m\u001b[43m,\u001b[49m\n\u001b[1;32m    929\u001b[0m \u001b[43m    \u001b[49m\u001b[43mfollow_redirects\u001b[49m\u001b[38;5;241;43m=\u001b[39;49m\u001b[43mfollow_redirects\u001b[49m\u001b[43m,\u001b[49m\n\u001b[1;32m    930\u001b[0m \u001b[43m    \u001b[49m\u001b[43mhistory\u001b[49m\u001b[38;5;241;43m=\u001b[39;49m\u001b[43m[\u001b[49m\u001b[43m]\u001b[49m\u001b[43m,\u001b[49m\n\u001b[1;32m    931\u001b[0m \u001b[43m\u001b[49m\u001b[43m)\u001b[49m\n\u001b[1;32m    932\u001b[0m \u001b[38;5;28;01mtry\u001b[39;00m:\n\u001b[1;32m    933\u001b[0m     \u001b[38;5;28;01mif\u001b[39;00m \u001b[38;5;129;01mnot\u001b[39;00m stream:\n",
      "File \u001b[0;32m~/miniconda3/envs/novel/lib/python3.11/site-packages/httpx/_client.py:954\u001b[0m, in \u001b[0;36mClient._send_handling_auth\u001b[0;34m(self, request, auth, follow_redirects, history)\u001b[0m\n\u001b[1;32m    951\u001b[0m request \u001b[38;5;241m=\u001b[39m \u001b[38;5;28mnext\u001b[39m(auth_flow)\n\u001b[1;32m    953\u001b[0m \u001b[38;5;28;01mwhile\u001b[39;00m \u001b[38;5;28;01mTrue\u001b[39;00m:\n\u001b[0;32m--> 954\u001b[0m     response \u001b[38;5;241m=\u001b[39m \u001b[38;5;28;43mself\u001b[39;49m\u001b[38;5;241;43m.\u001b[39;49m\u001b[43m_send_handling_redirects\u001b[49m\u001b[43m(\u001b[49m\n\u001b[1;32m    955\u001b[0m \u001b[43m        \u001b[49m\u001b[43mrequest\u001b[49m\u001b[43m,\u001b[49m\n\u001b[1;32m    956\u001b[0m \u001b[43m        \u001b[49m\u001b[43mfollow_redirects\u001b[49m\u001b[38;5;241;43m=\u001b[39;49m\u001b[43mfollow_redirects\u001b[49m\u001b[43m,\u001b[49m\n\u001b[1;32m    957\u001b[0m \u001b[43m        \u001b[49m\u001b[43mhistory\u001b[49m\u001b[38;5;241;43m=\u001b[39;49m\u001b[43mhistory\u001b[49m\u001b[43m,\u001b[49m\n\u001b[1;32m    958\u001b[0m \u001b[43m    \u001b[49m\u001b[43m)\u001b[49m\n\u001b[1;32m    959\u001b[0m     \u001b[38;5;28;01mtry\u001b[39;00m:\n\u001b[1;32m    960\u001b[0m         \u001b[38;5;28;01mtry\u001b[39;00m:\n",
      "File \u001b[0;32m~/miniconda3/envs/novel/lib/python3.11/site-packages/httpx/_client.py:991\u001b[0m, in \u001b[0;36mClient._send_handling_redirects\u001b[0;34m(self, request, follow_redirects, history)\u001b[0m\n\u001b[1;32m    988\u001b[0m \u001b[38;5;28;01mfor\u001b[39;00m hook \u001b[38;5;129;01min\u001b[39;00m \u001b[38;5;28mself\u001b[39m\u001b[38;5;241m.\u001b[39m_event_hooks[\u001b[38;5;124m\"\u001b[39m\u001b[38;5;124mrequest\u001b[39m\u001b[38;5;124m\"\u001b[39m]:\n\u001b[1;32m    989\u001b[0m     hook(request)\n\u001b[0;32m--> 991\u001b[0m response \u001b[38;5;241m=\u001b[39m \u001b[38;5;28;43mself\u001b[39;49m\u001b[38;5;241;43m.\u001b[39;49m\u001b[43m_send_single_request\u001b[49m\u001b[43m(\u001b[49m\u001b[43mrequest\u001b[49m\u001b[43m)\u001b[49m\n\u001b[1;32m    992\u001b[0m \u001b[38;5;28;01mtry\u001b[39;00m:\n\u001b[1;32m    993\u001b[0m     \u001b[38;5;28;01mfor\u001b[39;00m hook \u001b[38;5;129;01min\u001b[39;00m \u001b[38;5;28mself\u001b[39m\u001b[38;5;241m.\u001b[39m_event_hooks[\u001b[38;5;124m\"\u001b[39m\u001b[38;5;124mresponse\u001b[39m\u001b[38;5;124m\"\u001b[39m]:\n",
      "File \u001b[0;32m~/miniconda3/envs/novel/lib/python3.11/site-packages/httpx/_client.py:1027\u001b[0m, in \u001b[0;36mClient._send_single_request\u001b[0;34m(self, request)\u001b[0m\n\u001b[1;32m   1022\u001b[0m     \u001b[38;5;28;01mraise\u001b[39;00m \u001b[38;5;167;01mRuntimeError\u001b[39;00m(\n\u001b[1;32m   1023\u001b[0m         \u001b[38;5;124m\"\u001b[39m\u001b[38;5;124mAttempted to send an async request with a sync Client instance.\u001b[39m\u001b[38;5;124m\"\u001b[39m\n\u001b[1;32m   1024\u001b[0m     )\n\u001b[1;32m   1026\u001b[0m \u001b[38;5;28;01mwith\u001b[39;00m request_context(request\u001b[38;5;241m=\u001b[39mrequest):\n\u001b[0;32m-> 1027\u001b[0m     response \u001b[38;5;241m=\u001b[39m \u001b[43mtransport\u001b[49m\u001b[38;5;241;43m.\u001b[39;49m\u001b[43mhandle_request\u001b[49m\u001b[43m(\u001b[49m\u001b[43mrequest\u001b[49m\u001b[43m)\u001b[49m\n\u001b[1;32m   1029\u001b[0m \u001b[38;5;28;01massert\u001b[39;00m \u001b[38;5;28misinstance\u001b[39m(response\u001b[38;5;241m.\u001b[39mstream, SyncByteStream)\n\u001b[1;32m   1031\u001b[0m response\u001b[38;5;241m.\u001b[39mrequest \u001b[38;5;241m=\u001b[39m request\n",
      "File \u001b[0;32m~/miniconda3/envs/novel/lib/python3.11/site-packages/httpx/_transports/default.py:236\u001b[0m, in \u001b[0;36mHTTPTransport.handle_request\u001b[0;34m(self, request)\u001b[0m\n\u001b[1;32m    223\u001b[0m req \u001b[38;5;241m=\u001b[39m httpcore\u001b[38;5;241m.\u001b[39mRequest(\n\u001b[1;32m    224\u001b[0m     method\u001b[38;5;241m=\u001b[39mrequest\u001b[38;5;241m.\u001b[39mmethod,\n\u001b[1;32m    225\u001b[0m     url\u001b[38;5;241m=\u001b[39mhttpcore\u001b[38;5;241m.\u001b[39mURL(\n\u001b[0;32m   (...)\u001b[0m\n\u001b[1;32m    233\u001b[0m     extensions\u001b[38;5;241m=\u001b[39mrequest\u001b[38;5;241m.\u001b[39mextensions,\n\u001b[1;32m    234\u001b[0m )\n\u001b[1;32m    235\u001b[0m \u001b[38;5;28;01mwith\u001b[39;00m map_httpcore_exceptions():\n\u001b[0;32m--> 236\u001b[0m     resp \u001b[38;5;241m=\u001b[39m \u001b[38;5;28;43mself\u001b[39;49m\u001b[38;5;241;43m.\u001b[39;49m\u001b[43m_pool\u001b[49m\u001b[38;5;241;43m.\u001b[39;49m\u001b[43mhandle_request\u001b[49m\u001b[43m(\u001b[49m\u001b[43mreq\u001b[49m\u001b[43m)\u001b[49m\n\u001b[1;32m    238\u001b[0m \u001b[38;5;28;01massert\u001b[39;00m \u001b[38;5;28misinstance\u001b[39m(resp\u001b[38;5;241m.\u001b[39mstream, typing\u001b[38;5;241m.\u001b[39mIterable)\n\u001b[1;32m    240\u001b[0m \u001b[38;5;28;01mreturn\u001b[39;00m Response(\n\u001b[1;32m    241\u001b[0m     status_code\u001b[38;5;241m=\u001b[39mresp\u001b[38;5;241m.\u001b[39mstatus,\n\u001b[1;32m    242\u001b[0m     headers\u001b[38;5;241m=\u001b[39mresp\u001b[38;5;241m.\u001b[39mheaders,\n\u001b[1;32m    243\u001b[0m     stream\u001b[38;5;241m=\u001b[39mResponseStream(resp\u001b[38;5;241m.\u001b[39mstream),\n\u001b[1;32m    244\u001b[0m     extensions\u001b[38;5;241m=\u001b[39mresp\u001b[38;5;241m.\u001b[39mextensions,\n\u001b[1;32m    245\u001b[0m )\n",
      "File \u001b[0;32m~/miniconda3/envs/novel/lib/python3.11/site-packages/httpcore/_sync/connection_pool.py:216\u001b[0m, in \u001b[0;36mConnectionPool.handle_request\u001b[0;34m(self, request)\u001b[0m\n\u001b[1;32m    213\u001b[0m         closing \u001b[38;5;241m=\u001b[39m \u001b[38;5;28mself\u001b[39m\u001b[38;5;241m.\u001b[39m_assign_requests_to_connections()\n\u001b[1;32m    215\u001b[0m     \u001b[38;5;28mself\u001b[39m\u001b[38;5;241m.\u001b[39m_close_connections(closing)\n\u001b[0;32m--> 216\u001b[0m     \u001b[38;5;28;01mraise\u001b[39;00m exc \u001b[38;5;28;01mfrom\u001b[39;00m \u001b[38;5;28;01mNone\u001b[39;00m\n\u001b[1;32m    218\u001b[0m \u001b[38;5;66;03m# Return the response. Note that in this case we still have to manage\u001b[39;00m\n\u001b[1;32m    219\u001b[0m \u001b[38;5;66;03m# the point at which the response is closed.\u001b[39;00m\n\u001b[1;32m    220\u001b[0m \u001b[38;5;28;01massert\u001b[39;00m \u001b[38;5;28misinstance\u001b[39m(response\u001b[38;5;241m.\u001b[39mstream, Iterable)\n",
      "File \u001b[0;32m~/miniconda3/envs/novel/lib/python3.11/site-packages/httpcore/_sync/connection_pool.py:196\u001b[0m, in \u001b[0;36mConnectionPool.handle_request\u001b[0;34m(self, request)\u001b[0m\n\u001b[1;32m    192\u001b[0m connection \u001b[38;5;241m=\u001b[39m pool_request\u001b[38;5;241m.\u001b[39mwait_for_connection(timeout\u001b[38;5;241m=\u001b[39mtimeout)\n\u001b[1;32m    194\u001b[0m \u001b[38;5;28;01mtry\u001b[39;00m:\n\u001b[1;32m    195\u001b[0m     \u001b[38;5;66;03m# Send the request on the assigned connection.\u001b[39;00m\n\u001b[0;32m--> 196\u001b[0m     response \u001b[38;5;241m=\u001b[39m \u001b[43mconnection\u001b[49m\u001b[38;5;241;43m.\u001b[39;49m\u001b[43mhandle_request\u001b[49m\u001b[43m(\u001b[49m\n\u001b[1;32m    197\u001b[0m \u001b[43m        \u001b[49m\u001b[43mpool_request\u001b[49m\u001b[38;5;241;43m.\u001b[39;49m\u001b[43mrequest\u001b[49m\n\u001b[1;32m    198\u001b[0m \u001b[43m    \u001b[49m\u001b[43m)\u001b[49m\n\u001b[1;32m    199\u001b[0m \u001b[38;5;28;01mexcept\u001b[39;00m ConnectionNotAvailable:\n\u001b[1;32m    200\u001b[0m     \u001b[38;5;66;03m# In some cases a connection may initially be available to\u001b[39;00m\n\u001b[1;32m    201\u001b[0m     \u001b[38;5;66;03m# handle a request, but then become unavailable.\u001b[39;00m\n\u001b[1;32m    202\u001b[0m     \u001b[38;5;66;03m#\u001b[39;00m\n\u001b[1;32m    203\u001b[0m     \u001b[38;5;66;03m# In this case we clear the connection and try again.\u001b[39;00m\n\u001b[1;32m    204\u001b[0m     pool_request\u001b[38;5;241m.\u001b[39mclear_connection()\n",
      "File \u001b[0;32m~/miniconda3/envs/novel/lib/python3.11/site-packages/httpcore/_sync/connection.py:101\u001b[0m, in \u001b[0;36mHTTPConnection.handle_request\u001b[0;34m(self, request)\u001b[0m\n\u001b[1;32m     98\u001b[0m     \u001b[38;5;28mself\u001b[39m\u001b[38;5;241m.\u001b[39m_connect_failed \u001b[38;5;241m=\u001b[39m \u001b[38;5;28;01mTrue\u001b[39;00m\n\u001b[1;32m     99\u001b[0m     \u001b[38;5;28;01mraise\u001b[39;00m exc\n\u001b[0;32m--> 101\u001b[0m \u001b[38;5;28;01mreturn\u001b[39;00m \u001b[38;5;28;43mself\u001b[39;49m\u001b[38;5;241;43m.\u001b[39;49m\u001b[43m_connection\u001b[49m\u001b[38;5;241;43m.\u001b[39;49m\u001b[43mhandle_request\u001b[49m\u001b[43m(\u001b[49m\u001b[43mrequest\u001b[49m\u001b[43m)\u001b[49m\n",
      "File \u001b[0;32m~/miniconda3/envs/novel/lib/python3.11/site-packages/httpcore/_sync/http11.py:143\u001b[0m, in \u001b[0;36mHTTP11Connection.handle_request\u001b[0;34m(self, request)\u001b[0m\n\u001b[1;32m    141\u001b[0m     \u001b[38;5;28;01mwith\u001b[39;00m Trace(\u001b[38;5;124m\"\u001b[39m\u001b[38;5;124mresponse_closed\u001b[39m\u001b[38;5;124m\"\u001b[39m, logger, request) \u001b[38;5;28;01mas\u001b[39;00m trace:\n\u001b[1;32m    142\u001b[0m         \u001b[38;5;28mself\u001b[39m\u001b[38;5;241m.\u001b[39m_response_closed()\n\u001b[0;32m--> 143\u001b[0m \u001b[38;5;28;01mraise\u001b[39;00m exc\n",
      "File \u001b[0;32m~/miniconda3/envs/novel/lib/python3.11/site-packages/httpcore/_sync/http11.py:113\u001b[0m, in \u001b[0;36mHTTP11Connection.handle_request\u001b[0;34m(self, request)\u001b[0m\n\u001b[1;32m    102\u001b[0m     \u001b[38;5;28;01mpass\u001b[39;00m\n\u001b[1;32m    104\u001b[0m \u001b[38;5;28;01mwith\u001b[39;00m Trace(\n\u001b[1;32m    105\u001b[0m     \u001b[38;5;124m\"\u001b[39m\u001b[38;5;124mreceive_response_headers\u001b[39m\u001b[38;5;124m\"\u001b[39m, logger, request, kwargs\n\u001b[1;32m    106\u001b[0m ) \u001b[38;5;28;01mas\u001b[39;00m trace:\n\u001b[1;32m    107\u001b[0m     (\n\u001b[1;32m    108\u001b[0m         http_version,\n\u001b[1;32m    109\u001b[0m         status,\n\u001b[1;32m    110\u001b[0m         reason_phrase,\n\u001b[1;32m    111\u001b[0m         headers,\n\u001b[1;32m    112\u001b[0m         trailing_data,\n\u001b[0;32m--> 113\u001b[0m     ) \u001b[38;5;241m=\u001b[39m \u001b[38;5;28;43mself\u001b[39;49m\u001b[38;5;241;43m.\u001b[39;49m\u001b[43m_receive_response_headers\u001b[49m\u001b[43m(\u001b[49m\u001b[38;5;241;43m*\u001b[39;49m\u001b[38;5;241;43m*\u001b[39;49m\u001b[43mkwargs\u001b[49m\u001b[43m)\u001b[49m\n\u001b[1;32m    114\u001b[0m     trace\u001b[38;5;241m.\u001b[39mreturn_value \u001b[38;5;241m=\u001b[39m (\n\u001b[1;32m    115\u001b[0m         http_version,\n\u001b[1;32m    116\u001b[0m         status,\n\u001b[1;32m    117\u001b[0m         reason_phrase,\n\u001b[1;32m    118\u001b[0m         headers,\n\u001b[1;32m    119\u001b[0m     )\n\u001b[1;32m    121\u001b[0m network_stream \u001b[38;5;241m=\u001b[39m \u001b[38;5;28mself\u001b[39m\u001b[38;5;241m.\u001b[39m_network_stream\n",
      "File \u001b[0;32m~/miniconda3/envs/novel/lib/python3.11/site-packages/httpcore/_sync/http11.py:186\u001b[0m, in \u001b[0;36mHTTP11Connection._receive_response_headers\u001b[0;34m(self, request)\u001b[0m\n\u001b[1;32m    183\u001b[0m timeout \u001b[38;5;241m=\u001b[39m timeouts\u001b[38;5;241m.\u001b[39mget(\u001b[38;5;124m\"\u001b[39m\u001b[38;5;124mread\u001b[39m\u001b[38;5;124m\"\u001b[39m, \u001b[38;5;28;01mNone\u001b[39;00m)\n\u001b[1;32m    185\u001b[0m \u001b[38;5;28;01mwhile\u001b[39;00m \u001b[38;5;28;01mTrue\u001b[39;00m:\n\u001b[0;32m--> 186\u001b[0m     event \u001b[38;5;241m=\u001b[39m \u001b[38;5;28;43mself\u001b[39;49m\u001b[38;5;241;43m.\u001b[39;49m\u001b[43m_receive_event\u001b[49m\u001b[43m(\u001b[49m\u001b[43mtimeout\u001b[49m\u001b[38;5;241;43m=\u001b[39;49m\u001b[43mtimeout\u001b[49m\u001b[43m)\u001b[49m\n\u001b[1;32m    187\u001b[0m     \u001b[38;5;28;01mif\u001b[39;00m \u001b[38;5;28misinstance\u001b[39m(event, h11\u001b[38;5;241m.\u001b[39mResponse):\n\u001b[1;32m    188\u001b[0m         \u001b[38;5;28;01mbreak\u001b[39;00m\n",
      "File \u001b[0;32m~/miniconda3/envs/novel/lib/python3.11/site-packages/httpcore/_sync/http11.py:224\u001b[0m, in \u001b[0;36mHTTP11Connection._receive_event\u001b[0;34m(self, timeout)\u001b[0m\n\u001b[1;32m    221\u001b[0m     event \u001b[38;5;241m=\u001b[39m \u001b[38;5;28mself\u001b[39m\u001b[38;5;241m.\u001b[39m_h11_state\u001b[38;5;241m.\u001b[39mnext_event()\n\u001b[1;32m    223\u001b[0m \u001b[38;5;28;01mif\u001b[39;00m event \u001b[38;5;129;01mis\u001b[39;00m h11\u001b[38;5;241m.\u001b[39mNEED_DATA:\n\u001b[0;32m--> 224\u001b[0m     data \u001b[38;5;241m=\u001b[39m \u001b[38;5;28;43mself\u001b[39;49m\u001b[38;5;241;43m.\u001b[39;49m\u001b[43m_network_stream\u001b[49m\u001b[38;5;241;43m.\u001b[39;49m\u001b[43mread\u001b[49m\u001b[43m(\u001b[49m\n\u001b[1;32m    225\u001b[0m \u001b[43m        \u001b[49m\u001b[38;5;28;43mself\u001b[39;49m\u001b[38;5;241;43m.\u001b[39;49m\u001b[43mREAD_NUM_BYTES\u001b[49m\u001b[43m,\u001b[49m\u001b[43m \u001b[49m\u001b[43mtimeout\u001b[49m\u001b[38;5;241;43m=\u001b[39;49m\u001b[43mtimeout\u001b[49m\n\u001b[1;32m    226\u001b[0m \u001b[43m    \u001b[49m\u001b[43m)\u001b[49m\n\u001b[1;32m    228\u001b[0m     \u001b[38;5;66;03m# If we feed this case through h11 we'll raise an exception like:\u001b[39;00m\n\u001b[1;32m    229\u001b[0m     \u001b[38;5;66;03m#\u001b[39;00m\n\u001b[1;32m    230\u001b[0m     \u001b[38;5;66;03m#     httpcore.RemoteProtocolError: can't handle event type\u001b[39;00m\n\u001b[0;32m   (...)\u001b[0m\n\u001b[1;32m    234\u001b[0m     \u001b[38;5;66;03m# perspective. Instead we handle this case distinctly and treat\u001b[39;00m\n\u001b[1;32m    235\u001b[0m     \u001b[38;5;66;03m# it as a ConnectError.\u001b[39;00m\n\u001b[1;32m    236\u001b[0m     \u001b[38;5;28;01mif\u001b[39;00m data \u001b[38;5;241m==\u001b[39m \u001b[38;5;124mb\u001b[39m\u001b[38;5;124m\"\u001b[39m\u001b[38;5;124m\"\u001b[39m \u001b[38;5;129;01mand\u001b[39;00m \u001b[38;5;28mself\u001b[39m\u001b[38;5;241m.\u001b[39m_h11_state\u001b[38;5;241m.\u001b[39mtheir_state \u001b[38;5;241m==\u001b[39m h11\u001b[38;5;241m.\u001b[39mSEND_RESPONSE:\n",
      "File \u001b[0;32m~/miniconda3/envs/novel/lib/python3.11/site-packages/httpcore/_backends/sync.py:126\u001b[0m, in \u001b[0;36mSyncStream.read\u001b[0;34m(self, max_bytes, timeout)\u001b[0m\n\u001b[1;32m    124\u001b[0m \u001b[38;5;28;01mwith\u001b[39;00m map_exceptions(exc_map):\n\u001b[1;32m    125\u001b[0m     \u001b[38;5;28mself\u001b[39m\u001b[38;5;241m.\u001b[39m_sock\u001b[38;5;241m.\u001b[39msettimeout(timeout)\n\u001b[0;32m--> 126\u001b[0m     \u001b[38;5;28;01mreturn\u001b[39;00m \u001b[38;5;28;43mself\u001b[39;49m\u001b[38;5;241;43m.\u001b[39;49m\u001b[43m_sock\u001b[49m\u001b[38;5;241;43m.\u001b[39;49m\u001b[43mrecv\u001b[49m\u001b[43m(\u001b[49m\u001b[43mmax_bytes\u001b[49m\u001b[43m)\u001b[49m\n",
      "File \u001b[0;32m~/miniconda3/envs/novel/lib/python3.11/ssl.py:1295\u001b[0m, in \u001b[0;36mSSLSocket.recv\u001b[0;34m(self, buflen, flags)\u001b[0m\n\u001b[1;32m   1291\u001b[0m     \u001b[38;5;28;01mif\u001b[39;00m flags \u001b[38;5;241m!=\u001b[39m \u001b[38;5;241m0\u001b[39m:\n\u001b[1;32m   1292\u001b[0m         \u001b[38;5;28;01mraise\u001b[39;00m \u001b[38;5;167;01mValueError\u001b[39;00m(\n\u001b[1;32m   1293\u001b[0m             \u001b[38;5;124m\"\u001b[39m\u001b[38;5;124mnon-zero flags not allowed in calls to recv() on \u001b[39m\u001b[38;5;132;01m%s\u001b[39;00m\u001b[38;5;124m\"\u001b[39m \u001b[38;5;241m%\u001b[39m\n\u001b[1;32m   1294\u001b[0m             \u001b[38;5;28mself\u001b[39m\u001b[38;5;241m.\u001b[39m\u001b[38;5;18m__class__\u001b[39m)\n\u001b[0;32m-> 1295\u001b[0m     \u001b[38;5;28;01mreturn\u001b[39;00m \u001b[38;5;28;43mself\u001b[39;49m\u001b[38;5;241;43m.\u001b[39;49m\u001b[43mread\u001b[49m\u001b[43m(\u001b[49m\u001b[43mbuflen\u001b[49m\u001b[43m)\u001b[49m\n\u001b[1;32m   1296\u001b[0m \u001b[38;5;28;01melse\u001b[39;00m:\n\u001b[1;32m   1297\u001b[0m     \u001b[38;5;28;01mreturn\u001b[39;00m \u001b[38;5;28msuper\u001b[39m()\u001b[38;5;241m.\u001b[39mrecv(buflen, flags)\n",
      "File \u001b[0;32m~/miniconda3/envs/novel/lib/python3.11/ssl.py:1168\u001b[0m, in \u001b[0;36mSSLSocket.read\u001b[0;34m(self, len, buffer)\u001b[0m\n\u001b[1;32m   1166\u001b[0m         \u001b[38;5;28;01mreturn\u001b[39;00m \u001b[38;5;28mself\u001b[39m\u001b[38;5;241m.\u001b[39m_sslobj\u001b[38;5;241m.\u001b[39mread(\u001b[38;5;28mlen\u001b[39m, buffer)\n\u001b[1;32m   1167\u001b[0m     \u001b[38;5;28;01melse\u001b[39;00m:\n\u001b[0;32m-> 1168\u001b[0m         \u001b[38;5;28;01mreturn\u001b[39;00m \u001b[38;5;28;43mself\u001b[39;49m\u001b[38;5;241;43m.\u001b[39;49m\u001b[43m_sslobj\u001b[49m\u001b[38;5;241;43m.\u001b[39;49m\u001b[43mread\u001b[49m\u001b[43m(\u001b[49m\u001b[38;5;28;43mlen\u001b[39;49m\u001b[43m)\u001b[49m\n\u001b[1;32m   1169\u001b[0m \u001b[38;5;28;01mexcept\u001b[39;00m SSLError \u001b[38;5;28;01mas\u001b[39;00m x:\n\u001b[1;32m   1170\u001b[0m     \u001b[38;5;28;01mif\u001b[39;00m x\u001b[38;5;241m.\u001b[39margs[\u001b[38;5;241m0\u001b[39m] \u001b[38;5;241m==\u001b[39m SSL_ERROR_EOF \u001b[38;5;129;01mand\u001b[39;00m \u001b[38;5;28mself\u001b[39m\u001b[38;5;241m.\u001b[39msuppress_ragged_eofs:\n",
      "\u001b[0;31mKeyboardInterrupt\u001b[0m: "
     ]
    }
   ],
   "source": [
    "from novelinsights.prompts.wikigen.fiction import template\n",
    "\n",
    "prev_json = None\n",
    "for i, excerpt in enumerate(tree):\n",
    "    print(f\"[{i}]\\t{excerpt.title}\")\n",
    "    \n",
    "    cur_template = template(excerpt, prev_json=prev_json)\n",
    "    \n",
    "    with open(os.path.join(output_dir, \"inprompt\", f\"[{i}] {excerpt.title}.txt\"), \"w\") as f:\n",
    "        f.write(cur_template)\n",
    "    \n",
    "        message = client.messages.create(\n",
    "            model=\"claude-3-5-sonnet-20240620\",\n",
    "            max_tokens=8192,\n",
    "            messages=[\n",
    "                {\n",
    "                    \"role\": \"user\",\n",
    "                    \"content\": [\n",
    "                        {\n",
    "                            \"type\": \"text\",\n",
    "                            \"text\": cur_template\n",
    "                        }\n",
    "                    ]\n",
    "                }\n",
    "            ]\n",
    "        )\n",
    "        \n",
    "        with open(os.path.join(output_dir, \"response\", f\"[{i}] {excerpt.title}.txt\"), \"w\") as f:\n",
    "            f.write(message.content[0].text)\n",
    "        \n",
    "        try:\n",
    "            prev_json = parse_json(message.content[0].text)\n",
    "        except:\n",
    "            pass\n",
    "        \n",
    "        with open(os.path.join(output_dir, \"json\", f\"[{i}] {excerpt.title}.json\"), \"w\") as f:\n",
    "            f.write(json.dumps(prev_json, indent=4))\n",
    "            "
   ]
  }
 ],
 "metadata": {
  "kernelspec": {
   "display_name": "insights",
   "language": "python",
   "name": "python3"
  },
  "language_info": {
   "codemirror_mode": {
    "name": "ipython",
    "version": 3
   },
   "file_extension": ".py",
   "mimetype": "text/x-python",
   "name": "python",
   "nbconvert_exporter": "python",
   "pygments_lexer": "ipython3",
   "version": "3.11.9"
  }
 },
 "nbformat": 4,
 "nbformat_minor": 2
}
