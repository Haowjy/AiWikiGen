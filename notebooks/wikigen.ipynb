{
 "cells": [
  {
   "cell_type": "markdown",
   "metadata": {},
   "source": [
    "# Setup / Imports"
   ]
  },
  {
   "cell_type": "code",
   "execution_count": 1,
   "metadata": {},
   "outputs": [],
   "source": [
    "%load_ext autoreload\n",
    "%autoreload 2\n",
    "\n",
    "import sys\n",
    "sys.path.append('../')"
   ]
  },
  {
   "cell_type": "markdown",
   "metadata": {},
   "source": [
    "# Split the ebook into proper chapters"
   ]
  },
  {
   "cell_type": "code",
   "execution_count": 2,
   "metadata": {},
   "outputs": [
    {
     "name": "stderr",
     "output_type": "stream",
     "text": [
      "/Users/jimmyyao/miniconda3/envs/novel/lib/python3.11/site-packages/ebooklib/epub.py:1423: FutureWarning: This search incorrectly ignores the root element, and will be fixed in a future version.  If you rely on the current behaviour, change it to './/xmlns:rootfile[@media-type]'\n",
      "  for root_file in tree.findall('//xmlns:rootfile[@media-type]', namespaces={'xmlns': NAMESPACES['CONTAINERNS']}):\n"
     ]
    }
   ],
   "source": [
    "from ebooklib import epub\n",
    "\n",
    "file1 = \"../data/frankenstein.epub\"\n",
    "file2 = \"../data/grapes-of-wrath.epub\"\n",
    "file3 = \"../data/outlaw-of-torn.epub\"\n",
    "book1 = epub.read_epub(file1, options={'ignore_ncx': True})\n",
    "book2 = epub.read_epub(file2, options={'ignore_ncx': True})\n",
    "book3 = epub.read_epub(file3, options={'ignore_ncx': True})"
   ]
  },
  {
   "cell_type": "code",
   "execution_count": 3,
   "metadata": {},
   "outputs": [],
   "source": [
    "from ebook_tree_parser.toctree import TocTree"
   ]
  },
  {
   "cell_type": "code",
   "execution_count": 4,
   "metadata": {},
   "outputs": [],
   "source": [
    "tree1 = TocTree(book1)\n",
    "tree2 = TocTree(book2)\n",
    "tree3 = TocTree(book3)"
   ]
  },
  {
   "cell_type": "code",
   "execution_count": 5,
   "metadata": {},
   "outputs": [],
   "source": [
    "# from novelinsights.wikigen_fiction.agents.read_chapter_agent import ReadChapterAgent\n",
    "\n",
    "# read_chapter_agent = ReadChapterAgent(llm=None, db=None)\n",
    "# print(read_chapter_agent.prompt(tree2[5].title, tree2[5].content))"
   ]
  },
  {
   "cell_type": "markdown",
   "metadata": {},
   "source": [
    "# Use an LLM (through llamaIndex for consistency) to read the chapters and store in qdrant"
   ]
  },
  {
   "cell_type": "code",
   "execution_count": 6,
   "metadata": {},
   "outputs": [
    {
     "name": "stderr",
     "output_type": "stream",
     "text": [
      "/Users/jimmyyao/miniconda3/envs/novel/lib/python3.11/site-packages/tqdm/auto.py:21: TqdmWarning: IProgress not found. Please update jupyter and ipywidgets. See https://ipywidgets.readthedocs.io/en/stable/user_install.html\n",
      "  from .autonotebook import tqdm as notebook_tqdm\n",
      "DEBUG:httpx:load_ssl_context verify=True cert=None trust_env=True http2=False\n",
      "DEBUG:httpx:load_verify_locations cafile='/Users/jimmyyao/miniconda3/envs/novel/lib/python3.11/site-packages/certifi/cacert.pem'\n",
      "DEBUG:urllib3.connectionpool:Starting new HTTPS connection (1): huggingface.co:443\n",
      "DEBUG:urllib3.connectionpool:https://huggingface.co:443 \"GET /api/models/qdrant/bge-small-en-v1.5-onnx-q/revision/main HTTP/11\" 307 92\n",
      "DEBUG:urllib3.connectionpool:https://huggingface.co:443 \"GET /api/models/Qdrant/bge-small-en-v1.5-onnx-Q/revision/main HTTP/11\" 200 1444\n",
      "Fetching 5 files: 100%|██████████| 5/5 [00:00<00:00, 28886.39it/s]\n",
      "DEBUG:httpcore.connection:connect_tcp.started host='localhost' port=6333 local_address=None timeout=5.0 socket_options=None\n",
      "DEBUG:httpcore.connection:connect_tcp.complete return_value=<httpcore._backends.sync.SyncStream object at 0x149f2df50>\n",
      "DEBUG:httpcore.http11:send_request_headers.started request=<Request [b'GET']>\n",
      "DEBUG:httpcore.http11:send_request_headers.complete\n",
      "DEBUG:httpcore.http11:send_request_body.started request=<Request [b'GET']>\n",
      "DEBUG:httpcore.http11:send_request_body.complete\n",
      "DEBUG:httpcore.http11:receive_response_headers.started request=<Request [b'GET']>\n",
      "DEBUG:httpcore.http11:receive_response_headers.complete return_value=(b'HTTP/1.1', 200, b'OK', [(b'transfer-encoding', b'chunked'), (b'vary', b'accept-encoding, Origin, Access-Control-Request-Method, Access-Control-Request-Headers'), (b'content-encoding', b'gzip'), (b'content-type', b'application/json'), (b'date', b'Thu, 17 Oct 2024 04:02:07 GMT')])\n",
      "INFO:httpx:HTTP Request: GET http://localhost:6333/collections/FictionWikiGen/exists \"HTTP/1.1 200 OK\"\n",
      "DEBUG:httpcore.http11:receive_response_body.started request=<Request [b'GET']>\n",
      "DEBUG:httpcore.http11:receive_response_body.complete\n",
      "DEBUG:httpcore.http11:response_closed.started\n",
      "DEBUG:httpcore.http11:response_closed.complete\n",
      "DEBUG:httpcore.connection:close.started\n",
      "DEBUG:httpcore.connection:close.complete\n",
      "DEBUG:httpx:load_ssl_context verify=True cert=None trust_env=True http2=False\n",
      "DEBUG:httpx:load_verify_locations cafile='/Users/jimmyyao/miniconda3/envs/novel/lib/python3.11/site-packages/certifi/cacert.pem'\n",
      "DEBUG:httpx:load_ssl_context verify=True cert=None trust_env=True http2=False\n",
      "DEBUG:httpx:load_verify_locations cafile='/Users/jimmyyao/miniconda3/envs/novel/lib/python3.11/site-packages/certifi/cacert.pem'\n",
      "DEBUG:httpx:load_ssl_context verify=True cert=None trust_env=True http2=False\n",
      "DEBUG:httpx:load_verify_locations cafile='/Users/jimmyyao/miniconda3/envs/novel/lib/python3.11/site-packages/certifi/cacert.pem'\n",
      "DEBUG:httpx:load_ssl_context verify=True cert=None trust_env=True http2=False\n",
      "DEBUG:httpx:load_verify_locations cafile='/Users/jimmyyao/miniconda3/envs/novel/lib/python3.11/site-packages/certifi/cacert.pem'\n"
     ]
    }
   ],
   "source": [
    "import logging\n",
    "logging.basicConfig(level=logging.DEBUG)\n",
    "\n",
    "from novelinsights.utils import LLMWrapper\n",
    "\n",
    "from novelinsights.wikigen_fiction.agents.read_chapter_agent import ReadChapterAgent, ReadChapterResponse\n",
    "from novelinsights.wikigen_fiction.agents.core_summary_agent import CoreSummaryAgent, CoreSummaryResponse\n",
    "from llama_index.llms.anthropic import Anthropic\n",
    "from llama_index.llms.openai import OpenAI\n",
    "import tiktoken\n",
    "\n",
    "# api key from .env file\n",
    "import os\n",
    "from dotenv import load_dotenv\n",
    "load_dotenv(override=True)\n",
    "# os.getenv(\"OPENAI_API_KEY\")\n",
    "# os.getenv(\"ANTHROPIC_API_KEY\")\n",
    "\n",
    "from novelinsights.db import QdrantDB\n",
    "db = QdrantDB()\n",
    "\n",
    "llm_wrapper = LLMWrapper(\n",
    "    llm=Anthropic(\n",
    "        api_key=os.getenv(\"ANTHROPIC_API_KEY\"), \n",
    "        model=\"claude-3-5-sonnet-20240620\",        \n",
    "        # system_prompt=\"Let's think step by step.\",\n",
    "        max_tokens=3_200,\n",
    "        ),\n",
    "    mode=\"chat\",\n",
    "    tokenizer=Anthropic().tokenizer\n",
    "    )\n",
    "\n",
    "# llm_wrapper = LLMWrapper(\n",
    "#     llm=OpenAI(\n",
    "#         api_key=os.getenv(\"OPENAI_API_KEY\"),\n",
    "#         model=\"gpt-4o\"\n",
    "#         ),\n",
    "#     mode=\"completion\",\n",
    "#     tokenizer=tiktoken.encoding_for_model(\"gpt-4o\")\n",
    "#     )\n",
    "\n",
    "read_chapter_agent = ReadChapterAgent(llm=llm_wrapper, db=db)\n",
    "core_summary_agent = CoreSummaryAgent(llm=llm_wrapper, db=db, book_title=book2.title)"
   ]
  },
  {
   "cell_type": "code",
   "execution_count": 7,
   "metadata": {},
   "outputs": [
    {
     "name": "stderr",
     "output_type": "stream",
     "text": [
      "DEBUG:root:prompt tokens: 4085\n",
      "DEBUG:root:response tokens: 1675\n",
      "DEBUG:root:prompt tokens: 2355\n",
      "DEBUG:root:response tokens: 0\n"
     ]
    }
   ],
   "source": [
    "# read_resp = read_chapter_agent.generate_response(5, tree2[5].title, tree2[5].content)\n",
    "# core_resp = core_summary_agent.generate_response(read_resp, None)\n",
    "\n",
    "# read_prompt = read_chapter_agent.get_prompt(tree2[5].title, tree2[5].content)\n",
    "# core_prompt = core_summary_agent.get_prompt(read_chapter_agent.last_response, None)\n",
    "\n",
    "with open(\"../output/grapes-of-wrath/[5] GRAPES OF WRATH CHAPTER I TOWARDS THE PUSH/read_chapter_response.txt\") as f:\n",
    "    read_chapter_agent._mock_generate(f.read(), 5, tree2[5].title, tree2[5].content, None)\n",
    "    \n",
    "with open(\"../output/grapes-of-wrath/[5] GRAPES OF WRATH CHAPTER I TOWARDS THE PUSH/core_summary_response.txt\") as f:\n",
    "    core_summary_agent._mock_generate(f.read(), read_chapter_agent.response, None)"
   ]
  },
  {
   "cell_type": "code",
   "execution_count": 11,
   "metadata": {},
   "outputs": [
    {
     "data": {
      "text/plain": [
       "CoreSummaryPayload(type='core_summary', name='Grapes of wrath', prompt='# Task\\nYour task is to read the provided summary of the chapter of the story and update the core summary according to the provided JSON schema. The updated summary should accurately reflect the story progression up to the current chapter, ensuring consistency and coherence with previous information, but changing or adding details as necessary.\\n# Previous Core Summary\\n(No previous core summary)\\n\\n# Chapter Summary\\n---\\n## Information Extraction\\n\\n### Entities\\n\\n1. Larry Arundel\\n   - Type: Character\\n   - Role: Soldier in the 5/6 Service Battalion of the Stonewalls\\n   - Background: From a good family, previously worked in his father\\'s office in London\\n   - Significance: High\\n   - Reason: Provides insight into the military operations and explains artillery tactics to his comrades\\n\\n2. Billy Simson\\n   - Type: Character\\n   - Role: Soldier in the 5/6 Service Battalion of the Stonewalls\\n   - Background: Educated in a provincial board school, worked as an errand boy and counter hand\\n   - Significance: High\\n   - Reason: Offers a different perspective on the military situation and interacts closely with other main characters\\n\\n3. Ben Sneath (Pug)\\n   - Type: Character\\n   - Role: Soldier in the 5/6 Service Battalion of the Stonewalls\\n   - Background: From the \"lower orders\" of London, picked up various jobs as a street boy\\n   - Significance: Medium\\n   - Reason: Provides comic relief and represents a different social class in the battalion\\n\\n4. Jefferson Lee (Kentucky)\\n   - Type: Character\\n   - Role: American soldier in the 5/6 Service Battalion of the Stonewalls\\n   - Background: From Kentucky, enlisted in the British army to prove Americans were not \"too proud to fight\"\\n   - Significance: High\\n   - Reason: Offers a unique perspective as an American fighting in a British unit and represents idealism in joining the war\\n\\n5. Artillery Subaltern\\n   - Type: Character\\n   - Role: Officer from a nearby battery\\n   - Significance: Medium\\n   - Reason: Warns the infantry about the dangerous position and offers alternative shelter\\n\\n### Chronology\\n\\n1. The Stonewalls\\' March\\n   - Type: Military Movement\\n   - Description: The 5/6 Service Battalion of the Stonewalls marches towards the front for three days\\n   - Significance: High\\n   - Reason: Sets the stage for the upcoming battle and builds tension\\n\\n2. Arrival at the Orchard\\n   - Type: Military Positioning\\n   - Description: The battalion halts in a small orchard and prepares for a night\\'s bivouac\\n   - Significance: Medium\\n   - Reason: Introduces the initial setting and the soldiers\\' expectations\\n\\n3. German Artillery Fire\\n   - Type: Military Action\\n   - Description: German shells land near the battalion\\'s position, revealing the danger of their location\\n   - Significance: High\\n   - Reason: Creates immediate tension and necessitates a change in plans\\n\\n4. Relocation to Farm Buildings\\n   - Type: Military Movement\\n   - Description: The battalion moves to nearby farm buildings for better shelter\\n   - Significance: Medium\\n   - Reason: Provides a safer location for the troops and brings them closer to allied artillery\\n\\n5. Observation of Allied Artillery\\n   - Type: Military Action\\n   - Description: The main characters watch and discuss the nearby artillery battery in action\\n   - Significance: High\\n   - Reason: Offers insight into military tactics and builds anticipation for the upcoming battle\\n\\n### Locations\\n\\n1. The Orchard\\n   - Description: Initial stopping point for the battalion\\n   - Significance: Medium\\n   - Reason: Temporary location that highlights the vulnerability of the troops\\n\\n2. Farm Buildings\\n   - Description: New location for the battalion, including barns and outbuildings\\n   - Significance: High\\n   - Reason: Provides shelter and brings the infantry closer to the artillery, setting the stage for future events\\n\\n3. Artillery Position\\n   - Description: Location of the field battery, with guns planted along a high hedge\\n   - Significance: High\\n   - Reason: Central to the preparation for the upcoming battle and provides a focal point for the characters\\' observations\\n\\n### Organizations\\n\\n1. 5/6 Service Battalion of the Stonewalls\\n   - Type: Military Unit\\n   - Description: Infantry battalion moving towards the front line\\n   - Significance: Very High\\n   - Reason: The main focus of the narrative and the unit to which all main characters belong\\n\\n2. German Artillery\\n   - Type: Enemy Military Unit\\n   - Description: Artillery battery targeting the area where the Stonewalls are positioned\\n   - Significance: High\\n   - Reason: Poses a direct threat to the main characters and influences their movements\\n\\n3. Allied Artillery Battery\\n   - Type: Friendly Military Unit\\n   - Description: Field battery supporting the infantry\\'s advance\\n   - Significance: High\\n   - Reason: Plays a crucial role in preparing for the upcoming battle and provides a point of interest for the main characters\\n\\n### Things\\n\\n1. Artillery Guns\\n   - Description: Field guns used by the allied battery\\n   - Significance: High\\n   - Reason: Central to the preparation for the upcoming battle and a focus of the characters\\' observations\\n\\n2. Megaphone\\n   - Description: Used by the Sergeant-Major to communicate orders to the gun crews\\n   - Significance: Low\\n   - Reason: Illustrates the methods of communication in the artillery battery\\n\\n### Concepts\\n\\n1. The Push\\n   - Description: An upcoming major offensive operation\\n   - Significance: Very High\\n   - Reason: The central focus of the troops\\' movements and preparations\\n\\n2. Wire Cutting\\n   - Description: The process of using artillery to destroy enemy barbed wire defenses\\n   - Significance: High\\n   - Reason: A key preparatory step for the infantry assault and a major focus of the artillery\\'s current actions\\n\\n3. Class Differences in the Army\\n   - Description: The mixing of men from various social backgrounds in the military unit\\n   - Significance: Medium\\n   - Reason: Illustrates the social changes brought about by the war and the formation of unlikely friendships\\n\\n### Story Arc\\n\\nThe Approach to Battle\\n- Description: The 5/6 Service Battalion of the Stonewalls moves towards the front line in preparation for a major offensive\\n- Significance: Very High\\n- Reason: Sets the stage for the upcoming battle and introduces the main characters and their relationships\\n\\n## General Chapter Summary\\n\\nThe 5/6 Service Battalion of the Stonewalls is moving towards the front line in preparation for a major offensive, known as \"the push.\" As they march, the sound of artillery fire grows increasingly intense. After three days of marching, the battalion halts in a small orchard, intending to set up a night\\'s bivouac. However, their position comes under fire from German artillery, forcing them to relocate to nearby farm buildings for better shelter.\\n\\nThe narrative focuses on four soldiers from diverse backgrounds who have formed an unlikely friendship: Larry Arundel, Billy Simson, Ben \"Pug\" Sneath, and Jefferson \"Kentucky\" Lee. These men represent different social classes and nationalities, highlighting the mixing of backgrounds in the wartime army.\\n\\nAfter relocating to the farm buildings, the soldiers observe a nearby allied artillery battery in action. The battery is engaged in \"wire cutting,\" using their guns to destroy German barbed wire defenses in preparation for the upcoming infantry assault. Larry Arundel, who has some knowledge of artillery operations, explains the process to his comrades.\\n\\nThe chapter provides insight into the soldiers\\' experiences and thoughts as they prepare for battle. It depicts the tension and anticipation building up to the offensive, as well as the camaraderie that develops among men from different walks of life. The constant artillery fire and the proximity to the front line create a sense of imminent danger and heighten the drama of the situation.\\n\\nThroughout the chapter, the focus remains on the preparations for \"the push\" and the various ways in which different military units contribute to the upcoming offensive. The wire-cutting operation, in particular, is highlighted as a crucial step in clearing the way for the infantry\\'s advance.\\n\\nThe chapter ends with the soldiers settling into their new positions near the artillery battery, aware that they will soon be called upon to play their part in the impending battle. The atmosphere is one of nervous anticipation mixed with the grim determination of men preparing to face the ultimate test of combat.\\n\\n---\\n\\n# JSON Schema for Core Summary\\n\\n```json\\n{\"additionalProperties\": false, \"properties\": {\"genres\": {\"items\": {\"type\": \"string\"}, \"title\": \"Genres\", \"type\": \"array\"}, \"setting\": {\"description\": \"Description of the primary setting or world in which the story takes place\", \"title\": \"Setting\", \"type\": \"string\"}, \"overall_summary\": {\"description\": \"A detailed summary of the entire story so far, highlighting the main plot developments. For longer descriptions, use markdown with headers and subheaders to organize.\", \"title\": \"Overall Summary\", \"type\": \"string\"}, \"plot_overview\": {\"description\": \"A list of key arcs spanning multiple chapters\", \"items\": {\"properties\": {\"arc_name\": {\"description\": \"A concise name or title for the arc\", \"title\": \"Arc Name\", \"type\": \"string\"}, \"description\": {\"description\": \"A summary of the arc\\'s storyline, including main events and primary conflicts\", \"title\": \"Description\", \"type\": \"string\"}, \"status\": {\"enum\": [\"ongoing\", \"complete\"], \"title\": \"Status\", \"type\": \"string\"}}, \"required\": [\"arc_name\", \"description\", \"status\"], \"title\": \"PlotOverviewItem\", \"type\": \"object\"}, \"title\": \"Plot Overview\", \"type\": \"array\"}}, \"required\": [\"genres\", \"setting\", \"overall_summary\", \"plot_overview\"], \"title\": \"CoreSummaryModel\", \"type\": \"object\"}\\n```\\nMake sure to include the backticks with \"json\" to ensure proper formatting.\\n\\n# Instructions\\n---\\n## Understand Chapter Summary\\n1. Analyze the provided chapter summary to understand the key events, character developments, and plot progression. Determine how the new chapter fits into the overall story.\\n2. Identify any new characters, locations, or concepts introduced in the chapter.\\n\\n## Update Core Summary\\n1. Identify any changes or additions to the core summary based on the new chapter content.\\n2. Update the core summary with the new information, ensuring that it accurately reflects the story progression up to the current chapter.\\n3. Ensure consistency and coherence with the existing core summary and previous chapter summaries.\\n4. Specifically for the major arc, ensure that the arc name can be used for future reference and that the arc description is accurate and comprehensive. \\n\\n---\\n\\n# General Reminders\\n- Do not use external knowledge or information beyond what is provided in the chapter and previous context.\\n- Stick strictly to the information in the chapter context and prior story summaries.\\n- DO NOT explicitly mention \"chapter\" or \"book\" in the response. Instead, refer to the content as if it were a standalone piece of information.\\n- Make sure to follow the exact format and structure provided in the instructions.', response=CoreSummaryResponse(full_response='', core_summary_json=None))"
      ]
     },
     "execution_count": 11,
     "metadata": {},
     "output_type": "execute_result"
    }
   ],
   "source": [
    "core_summary_agent.payload"
   ]
  },
  {
   "cell_type": "code",
   "execution_count": 8,
   "metadata": {},
   "outputs": [
    {
     "data": {
      "text/plain": [
       "1934"
      ]
     },
     "execution_count": 8,
     "metadata": {},
     "output_type": "execute_result"
    }
   ],
   "source": [
    "llm_wrapper.estimate_tokens(f\"{read_chapter_agent.payload.model_dump()['response']['info_extraction']}\")"
   ]
  },
  {
   "cell_type": "code",
   "execution_count": 9,
   "metadata": {},
   "outputs": [
    {
     "data": {
      "text/plain": [
       "{'chapter_summary': '## Chapter Summary\\n\\nThe 5/6 Service Battalion of the Stonewalls is moving towards the front line in preparation for a major offensive, known as \"the push.\" As they march, the sound of artillery fire grows increasingly intense. After three days of marching, the battalion halts in a small orchard, intending to set up a night\\'s bivouac. However, their position comes under fire from German artillery, forcing them to relocate to nearby farm buildings for better shelter.\\n\\nThe narrative focuses on four soldiers from diverse backgrounds who have formed an unlikely friendship: Larry Arundel, Billy Simson, Ben \"Pug\" Sneath, and Jefferson \"Kentucky\" Lee. These men represent different social classes and nationalities, highlighting the mixing of backgrounds in the wartime army.\\n\\nAfter relocating to the farm buildings, the soldiers observe a nearby allied artillery battery in action. The battery is engaged in \"wire cutting,\" using their guns to destroy German barbed wire defenses in preparation for the upcoming infantry assault. Larry Arundel, who has some knowledge of artillery operations, explains the process to his comrades.\\n\\nThe chapter provides insight into the soldiers\\' experiences and thoughts as they prepare for battle. It depicts the tension and anticipation building up to the offensive, as well as the camaraderie that develops among men from different walks of life. The constant artillery fire and the proximity to the front line create a sense of imminent danger and heighten the drama of the situation.\\n\\nThroughout the chapter, the focus remains on the preparations for \"the push\" and the various ways in which different military units contribute to the upcoming offensive. The wire-cutting operation, in particular, is highlighted as a crucial step in clearing the way for the infantry\\'s advance.\\n\\nThe chapter ends with the soldiers settling into their new positions near the artillery battery, aware that they will soon be called upon to play their part in the impending battle. The atmosphere is one of nervous anticipation mixed with the grim determination of men preparing to face the ultimate test of combat.\\n',\n",
       " 'characters': '### Entities\\n\\n1. Larry Arundel\\n   - Type: Character\\n   - Role: Soldier in the 5/6 Service Battalion of the Stonewalls\\n   - Background: From a good family, previously worked in his father\\'s office in London\\n   - Significance: High\\n   - Reason: Provides insight into the military operations and explains artillery tactics to his comrades\\n\\n2. Billy Simson\\n   - Type: Character\\n   - Role: Soldier in the 5/6 Service Battalion of the Stonewalls\\n   - Background: Educated in a provincial board school, worked as an errand boy and counter hand\\n   - Significance: High\\n   - Reason: Offers a different perspective on the military situation and interacts closely with other main characters\\n\\n3. Ben Sneath (Pug)\\n   - Type: Character\\n   - Role: Soldier in the 5/6 Service Battalion of the Stonewalls\\n   - Background: From the \"lower orders\" of London, picked up various jobs as a street boy\\n   - Significance: Medium\\n   - Reason: Provides comic relief and represents a different social class in the battalion\\n\\n4. Jefferson Lee (Kentucky)\\n   - Type: Character\\n   - Role: American soldier in the 5/6 Service Battalion of the Stonewalls\\n   - Background: From Kentucky, enlisted in the British army to prove Americans were not \"too proud to fight\"\\n   - Significance: High\\n   - Reason: Offers a unique perspective as an American fighting in a British unit and represents idealism in joining the war\\n\\n5. Artillery Subaltern\\n   - Type: Character\\n   - Role: Officer from a nearby battery\\n   - Significance: Medium\\n   - Reason: Warns the infantry about the dangerous position and offers alternative shelter\\n\\n',\n",
       " 'chap_events': \"### Chronology\\n\\n1. The Stonewalls' March\\n   - Type: Military Movement\\n   - Description: The 5/6 Service Battalion of the Stonewalls marches towards the front for three days\\n   - Significance: High\\n   - Reason: Sets the stage for the upcoming battle and builds tension\\n\\n2. Arrival at the Orchard\\n   - Type: Military Positioning\\n   - Description: The battalion halts in a small orchard and prepares for a night's bivouac\\n   - Significance: Medium\\n   - Reason: Introduces the initial setting and the soldiers' expectations\\n\\n3. German Artillery Fire\\n   - Type: Military Action\\n   - Description: German shells land near the battalion's position, revealing the danger of their location\\n   - Significance: High\\n   - Reason: Creates immediate tension and necessitates a change in plans\\n\\n4. Relocation to Farm Buildings\\n   - Type: Military Movement\\n   - Description: The battalion moves to nearby farm buildings for better shelter\\n   - Significance: Medium\\n   - Reason: Provides a safer location for the troops and brings them closer to allied artillery\\n\\n5. Observation of Allied Artillery\\n   - Type: Military Action\\n   - Description: The main characters watch and discuss the nearby artillery battery in action\\n   - Significance: High\\n   - Reason: Offers insight into military tactics and builds anticipation for the upcoming battle\\n\\n\",\n",
       " 'locations': \"### Locations\\n\\n1. The Orchard\\n   - Description: Initial stopping point for the battalion\\n   - Significance: Medium\\n   - Reason: Temporary location that highlights the vulnerability of the troops\\n\\n2. Farm Buildings\\n   - Description: New location for the battalion, including barns and outbuildings\\n   - Significance: High\\n   - Reason: Provides shelter and brings the infantry closer to the artillery, setting the stage for future events\\n\\n3. Artillery Position\\n   - Description: Location of the field battery, with guns planted along a high hedge\\n   - Significance: High\\n   - Reason: Central to the preparation for the upcoming battle and provides a focal point for the characters' observations\\n\\n\",\n",
       " 'organizations': \"### Organizations\\n\\n1. 5/6 Service Battalion of the Stonewalls\\n   - Type: Military Unit\\n   - Description: Infantry battalion moving towards the front line\\n   - Significance: Very High\\n   - Reason: The main focus of the narrative and the unit to which all main characters belong\\n\\n2. German Artillery\\n   - Type: Enemy Military Unit\\n   - Description: Artillery battery targeting the area where the Stonewalls are positioned\\n   - Significance: High\\n   - Reason: Poses a direct threat to the main characters and influences their movements\\n\\n3. Allied Artillery Battery\\n   - Type: Friendly Military Unit\\n   - Description: Field battery supporting the infantry's advance\\n   - Significance: High\\n   - Reason: Plays a crucial role in preparing for the upcoming battle and provides a point of interest for the main characters\\n\\n\",\n",
       " 'things': \"### Things\\n\\n1. Artillery Guns\\n   - Description: Field guns used by the allied battery\\n   - Significance: High\\n   - Reason: Central to the preparation for the upcoming battle and a focus of the characters' observations\\n\\n2. Megaphone\\n   - Description: Used by the Sergeant-Major to communicate orders to the gun crews\\n   - Significance: Low\\n   - Reason: Illustrates the methods of communication in the artillery battery\\n\\n\",\n",
       " 'concepts': \"### Concepts\\n\\n1. The Push\\n   - Description: An upcoming major offensive operation\\n   - Significance: Very High\\n   - Reason: The central focus of the troops' movements and preparations\\n\\n2. Wire Cutting\\n   - Description: The process of using artillery to destroy enemy barbed wire defenses\\n   - Significance: High\\n   - Reason: A key preparatory step for the infantry assault and a major focus of the artillery's current actions\\n\\n3. Class Differences in the Army\\n   - Description: The mixing of men from various social backgrounds in the military unit\\n   - Significance: Medium\\n   - Reason: Illustrates the social changes brought about by the war and the formation of unlikely friendships\\n\\n\",\n",
       " 'main_conflicts': '### Story Arc\\n\\nThe Approach to Battle\\n- Description: The 5/6 Service Battalion of the Stonewalls moves towards the front line in preparation for a major offensive\\n- Significance: Very High\\n- Reason: Sets the stage for the upcoming battle and introduces the main characters and their relationships'}"
      ]
     },
     "execution_count": 9,
     "metadata": {},
     "output_type": "execute_result"
    }
   ],
   "source": [
    "read_chapter_agent.payload.model_dump()['response']['info_extraction']"
   ]
  },
  {
   "cell_type": "code",
   "execution_count": 11,
   "metadata": {},
   "outputs": [],
   "source": [
    "core_summary_agent.payload"
   ]
  },
  {
   "cell_type": "code",
   "execution_count": 21,
   "metadata": {},
   "outputs": [
    {
     "ename": "AttributeError",
     "evalue": "'CoreSummaryAgent' object has no attribute 'last_response'",
     "output_type": "error",
     "traceback": [
      "\u001b[0;31m---------------------------------------------------------------------------\u001b[0m",
      "\u001b[0;31mAttributeError\u001b[0m                            Traceback (most recent call last)",
      "Cell \u001b[0;32mIn[21], line 1\u001b[0m\n\u001b[0;32m----> 1\u001b[0m \u001b[43mcore_summary_agent\u001b[49m\u001b[38;5;241;43m.\u001b[39;49m\u001b[43mlast_response\u001b[49m\u001b[38;5;241m.\u001b[39mcore_summary_json\n",
      "\u001b[0;31mAttributeError\u001b[0m: 'CoreSummaryAgent' object has no attribute 'last_response'"
     ]
    }
   ],
   "source": [
    "core_summary_agent.last_response.core_summary_json"
   ]
  },
  {
   "cell_type": "markdown",
   "metadata": {},
   "source": [
    "## Qdrant\n"
   ]
  },
  {
   "cell_type": "code",
   "execution_count": 176,
   "metadata": {},
   "outputs": [
    {
     "name": "stderr",
     "output_type": "stream",
     "text": [
      "Fetching 5 files: 100%|██████████| 5/5 [00:00<00:00, 72315.59it/s]\n"
     ]
    }
   ],
   "source": [
    "from novelinsights.db import QdrantDB\n",
    "\n",
    "db = QdrantDB()"
   ]
  },
  {
   "cell_type": "code",
   "execution_count": 171,
   "metadata": {},
   "outputs": [
    {
     "data": {
      "text/plain": [
       "UpdateResult(operation_id=7, status=<UpdateStatus.COMPLETED: 'completed'>)"
      ]
     },
     "execution_count": 171,
     "metadata": {},
     "output_type": "execute_result"
    }
   ],
   "source": [
    "# docs = [\"Random text\"]\n",
    "# metadata = [\n",
    "#     {\"chapter\": 5, \"title\": \"GRAPES OF WRATH CHAPTER I TOWARDS THE PUSH\"}\n",
    "# ]\n",
    "# client.add(\n",
    "#     collection_name=\"test_collection\",\n",
    "#     documents=docs,\n",
    "#     metadata=metadata,\n",
    "#     ids=[0]\n",
    "# )\n",
    "# \n",
    "# https://qdrant.tech/documentation/concepts/payload/#update-payload\n",
    "# client.set_payload(\n",
    "#     collection_name=\"test_collection\",\n",
    "#     payload={\"title\": \"TOWARDS THE PUSH\", \"newfield\": \"newvalue\"},\n",
    "#     points=[0]\n",
    "# )"
   ]
  },
  {
   "cell_type": "markdown",
   "metadata": {},
   "source": [
    "# Prepare folders to store outputs"
   ]
  },
  {
   "cell_type": "code",
   "execution_count": 127,
   "metadata": {},
   "outputs": [],
   "source": [
    "# make directory for the output, if it exists, create a new one with incremented number\n",
    "import os\n",
    "\n",
    "output_dir = \"../output/frankenstein\"\n",
    "if os.path.exists(output_dir):\n",
    "    i = 1\n",
    "    while os.path.exists(output_dir + \"_\" + str(i)):\n",
    "        i += 1\n",
    "    output_dir += \"_\" + str(i)\n",
    "os.makedirs(output_dir)\n",
    "\n",
    "# make folders \"inprompt\", \"json\", and \"response\" folders in the output directory\n",
    "os.makedirs(os.path.join(output_dir, \"inprompt\"))\n",
    "os.makedirs(os.path.join(output_dir, \"json\"))\n",
    "os.makedirs(os.path.join(output_dir, \"response\"))"
   ]
  },
  {
   "cell_type": "code",
   "execution_count": 57,
   "metadata": {},
   "outputs": [
    {
     "name": "stdout",
     "output_type": "stream",
     "text": [
      "Here's the JSON created based on the provided excerpt and schema:\n",
      "\n",
      "```json\n",
      "{\n",
      "  \"novelInfo\": {\n",
      "    \"title\": \"Frankenstein; Or, The Modern Prometheus\",\n",
      "    \"author\": \"Mary Wollstonecraft Shelley\",\n",
      "    \"genre\": [\"Gothic\", \"Science Fiction\", \"Horror\"]\n",
      "  },\n",
      "  \"summary\": \"Frankenstein; Or, The Modern Prometheus is a novel that explores themes of scientific ambition, the consequences of creating life, and the responsibilities of a creator to their creation. The story likely follows the journey of a scientist who creates a living being, leading to unforeseen and potentially disastrous consequences.\",\n",
      "  \"characters\": [\n",
      "    {\n",
      "      \"name\": \"Victor Frankenstein\",\n",
      "      \"description\": \"Presumed to be the main character, a scientist who likely creates artificial life.\",\n",
      "      \"role\": \"protagonist\"\n",
      "    },\n",
      "    {\n",
      "      \"name\": \"The Creature\",\n",
      "      \"description\": \"Presumed to be the artificial being created by Victor Frankenstein.\",\n",
      "      \"role\": \"antagonist\"\n",
      "    }\n",
      "  ],\n",
      "  \"plotPoints\": [],\n",
      "  \"worldBuilding\": {\n",
      "    \"settings\": [],\n",
      "    \"magicSystem\": [],\n",
      "    \"technology\": [],\n",
      "    \"politics\": [],\n",
      "    \"history\": []\n",
      "  },\n",
      "  \"themes\": [\n",
      "    {\n",
      "      \"name\": \"Scientific ambition and its consequences\",\n",
      "      \"description\": \"The novel likely explores the dangers of unchecked scientific progress and the moral implications of creating life.\",\n",
      "      \"examples\": []\n",
      "    },\n",
      "    {\n",
      "      \"name\": \"Creator's responsibility\",\n",
      "      \"description\": \"The story probably delves into the ethical responsibilities a creator has towards their creation.\",\n",
      "      \"examples\": []\n",
      "    }\n",
      "  ],\n",
      "  \"timeline\": [],\n",
      "  \"references\": [\n",
      "    {\n",
      "      \"type\": \"mythological\",\n",
      "      \"reference\": \"Prometheus\",\n",
      "      \"context\": \"The subtitle 'The Modern Prometheus' alludes to the Greek myth of Prometheus, who stole fire from the gods to give to humans.\",\n",
      "      \"chapter\": 0,\n",
      "      \"explanation\": \"This reference suggests that the novel may draw parallels between the main character's actions and the myth of Prometheus, possibly relating to themes of forbidden knowledge or defying natural order.\"\n",
      "    }\n",
      "  ]\n",
      "}\n",
      "```\n"
     ]
    }
   ],
   "source": [
    "# message = client.messages.create(\n",
    "#     model=\"claude-3-5-sonnet-20240620\",\n",
    "#     max_tokens=1000,\n",
    "#     messages=[\n",
    "#         {\n",
    "#             \"role\": \"user\",\n",
    "#             \"content\": [\n",
    "#                 {\n",
    "#                     \"type\": \"text\",\n",
    "#                     \"text\": template(tree[0].content)\n",
    "#                 }\n",
    "#             ]\n",
    "#         }\n",
    "#     ]\n",
    "# )\n",
    "# print(message.content[0].text)"
   ]
  },
  {
   "cell_type": "code",
   "execution_count": 46,
   "metadata": {},
   "outputs": [],
   "source": [
    "# completion = client.chat.completions.create(\n",
    "#     model=\"chatgpt-4o-latest\",\n",
    "#     messages=[\n",
    "#         {\"role\": \"user\", \"content\": template(tree[0].content)}\n",
    "#     ]\n",
    "# )\n",
    "# print(completion.choices[0].message.content)"
   ]
  },
  {
   "cell_type": "code",
   "execution_count": 129,
   "metadata": {},
   "outputs": [
    {
     "name": "stdout",
     "output_type": "stream",
     "text": [
      "[0]\tFrankenstein;\n",
      "[1]\tor, the Modern Prometheus\n",
      "[2]\tCONTENTS\n",
      "[3]\tLetter 1\n",
      "[4]\tLetter 2\n",
      "[5]\tLetter 3\n",
      "[6]\tLetter 4\n",
      "[7]\tChapter 1\n",
      "[8]\tChapter 2\n",
      "[9]\tChapter 3\n",
      "[10]\tChapter 4\n",
      "[11]\tChapter 5\n",
      "[12]\tChapter 6\n"
     ]
    },
    {
     "ename": "KeyboardInterrupt",
     "evalue": "",
     "output_type": "error",
     "traceback": [
      "\u001b[0;31m---------------------------------------------------------------------------\u001b[0m",
      "\u001b[0;31mKeyboardInterrupt\u001b[0m                         Traceback (most recent call last)",
      "Cell \u001b[0;32mIn[129], line 12\u001b[0m\n\u001b[1;32m      9\u001b[0m \u001b[38;5;28;01mwith\u001b[39;00m \u001b[38;5;28mopen\u001b[39m(os\u001b[38;5;241m.\u001b[39mpath\u001b[38;5;241m.\u001b[39mjoin(output_dir, \u001b[38;5;124m\"\u001b[39m\u001b[38;5;124minprompt\u001b[39m\u001b[38;5;124m\"\u001b[39m, \u001b[38;5;124mf\u001b[39m\u001b[38;5;124m\"\u001b[39m\u001b[38;5;124m[\u001b[39m\u001b[38;5;132;01m{\u001b[39;00mi\u001b[38;5;132;01m}\u001b[39;00m\u001b[38;5;124m] \u001b[39m\u001b[38;5;132;01m{\u001b[39;00mexcerpt\u001b[38;5;241m.\u001b[39mtitle\u001b[38;5;132;01m}\u001b[39;00m\u001b[38;5;124m.txt\u001b[39m\u001b[38;5;124m\"\u001b[39m), \u001b[38;5;124m\"\u001b[39m\u001b[38;5;124mw\u001b[39m\u001b[38;5;124m\"\u001b[39m) \u001b[38;5;28;01mas\u001b[39;00m f:\n\u001b[1;32m     10\u001b[0m     f\u001b[38;5;241m.\u001b[39mwrite(cur_template)\n\u001b[0;32m---> 12\u001b[0m     message \u001b[38;5;241m=\u001b[39m \u001b[43mclient\u001b[49m\u001b[38;5;241;43m.\u001b[39;49m\u001b[43mmessages\u001b[49m\u001b[38;5;241;43m.\u001b[39;49m\u001b[43mcreate\u001b[49m\u001b[43m(\u001b[49m\n\u001b[1;32m     13\u001b[0m \u001b[43m        \u001b[49m\u001b[43mmodel\u001b[49m\u001b[38;5;241;43m=\u001b[39;49m\u001b[38;5;124;43m\"\u001b[39;49m\u001b[38;5;124;43mclaude-3-5-sonnet-20240620\u001b[39;49m\u001b[38;5;124;43m\"\u001b[39;49m\u001b[43m,\u001b[49m\n\u001b[1;32m     14\u001b[0m \u001b[43m        \u001b[49m\u001b[43mmax_tokens\u001b[49m\u001b[38;5;241;43m=\u001b[39;49m\u001b[38;5;241;43m8192\u001b[39;49m\u001b[43m,\u001b[49m\n\u001b[1;32m     15\u001b[0m \u001b[43m        \u001b[49m\u001b[43mmessages\u001b[49m\u001b[38;5;241;43m=\u001b[39;49m\u001b[43m[\u001b[49m\n\u001b[1;32m     16\u001b[0m \u001b[43m            \u001b[49m\u001b[43m{\u001b[49m\n\u001b[1;32m     17\u001b[0m \u001b[43m                \u001b[49m\u001b[38;5;124;43m\"\u001b[39;49m\u001b[38;5;124;43mrole\u001b[39;49m\u001b[38;5;124;43m\"\u001b[39;49m\u001b[43m:\u001b[49m\u001b[43m \u001b[49m\u001b[38;5;124;43m\"\u001b[39;49m\u001b[38;5;124;43muser\u001b[39;49m\u001b[38;5;124;43m\"\u001b[39;49m\u001b[43m,\u001b[49m\n\u001b[1;32m     18\u001b[0m \u001b[43m                \u001b[49m\u001b[38;5;124;43m\"\u001b[39;49m\u001b[38;5;124;43mcontent\u001b[39;49m\u001b[38;5;124;43m\"\u001b[39;49m\u001b[43m:\u001b[49m\u001b[43m \u001b[49m\u001b[43m[\u001b[49m\n\u001b[1;32m     19\u001b[0m \u001b[43m                    \u001b[49m\u001b[43m{\u001b[49m\n\u001b[1;32m     20\u001b[0m \u001b[43m                        \u001b[49m\u001b[38;5;124;43m\"\u001b[39;49m\u001b[38;5;124;43mtype\u001b[39;49m\u001b[38;5;124;43m\"\u001b[39;49m\u001b[43m:\u001b[49m\u001b[43m \u001b[49m\u001b[38;5;124;43m\"\u001b[39;49m\u001b[38;5;124;43mtext\u001b[39;49m\u001b[38;5;124;43m\"\u001b[39;49m\u001b[43m,\u001b[49m\n\u001b[1;32m     21\u001b[0m \u001b[43m                        \u001b[49m\u001b[38;5;124;43m\"\u001b[39;49m\u001b[38;5;124;43mtext\u001b[39;49m\u001b[38;5;124;43m\"\u001b[39;49m\u001b[43m:\u001b[49m\u001b[43m \u001b[49m\u001b[43mcur_template\u001b[49m\n\u001b[1;32m     22\u001b[0m \u001b[43m                    \u001b[49m\u001b[43m}\u001b[49m\n\u001b[1;32m     23\u001b[0m \u001b[43m                \u001b[49m\u001b[43m]\u001b[49m\n\u001b[1;32m     24\u001b[0m \u001b[43m            \u001b[49m\u001b[43m}\u001b[49m\n\u001b[1;32m     25\u001b[0m \u001b[43m        \u001b[49m\u001b[43m]\u001b[49m\n\u001b[1;32m     26\u001b[0m \u001b[43m    \u001b[49m\u001b[43m)\u001b[49m\n\u001b[1;32m     28\u001b[0m     \u001b[38;5;28;01mwith\u001b[39;00m \u001b[38;5;28mopen\u001b[39m(os\u001b[38;5;241m.\u001b[39mpath\u001b[38;5;241m.\u001b[39mjoin(output_dir, \u001b[38;5;124m\"\u001b[39m\u001b[38;5;124mresponse\u001b[39m\u001b[38;5;124m\"\u001b[39m, \u001b[38;5;124mf\u001b[39m\u001b[38;5;124m\"\u001b[39m\u001b[38;5;124m[\u001b[39m\u001b[38;5;132;01m{\u001b[39;00mi\u001b[38;5;132;01m}\u001b[39;00m\u001b[38;5;124m] \u001b[39m\u001b[38;5;132;01m{\u001b[39;00mexcerpt\u001b[38;5;241m.\u001b[39mtitle\u001b[38;5;132;01m}\u001b[39;00m\u001b[38;5;124m.txt\u001b[39m\u001b[38;5;124m\"\u001b[39m), \u001b[38;5;124m\"\u001b[39m\u001b[38;5;124mw\u001b[39m\u001b[38;5;124m\"\u001b[39m) \u001b[38;5;28;01mas\u001b[39;00m f:\n\u001b[1;32m     29\u001b[0m         f\u001b[38;5;241m.\u001b[39mwrite(message\u001b[38;5;241m.\u001b[39mcontent[\u001b[38;5;241m0\u001b[39m]\u001b[38;5;241m.\u001b[39mtext)\n",
      "File \u001b[0;32m~/miniconda3/envs/novel/lib/python3.11/site-packages/anthropic/_utils/_utils.py:274\u001b[0m, in \u001b[0;36mrequired_args.<locals>.inner.<locals>.wrapper\u001b[0;34m(*args, **kwargs)\u001b[0m\n\u001b[1;32m    272\u001b[0m             msg \u001b[38;5;241m=\u001b[39m \u001b[38;5;124mf\u001b[39m\u001b[38;5;124m\"\u001b[39m\u001b[38;5;124mMissing required argument: \u001b[39m\u001b[38;5;132;01m{\u001b[39;00mquote(missing[\u001b[38;5;241m0\u001b[39m])\u001b[38;5;132;01m}\u001b[39;00m\u001b[38;5;124m\"\u001b[39m\n\u001b[1;32m    273\u001b[0m     \u001b[38;5;28;01mraise\u001b[39;00m \u001b[38;5;167;01mTypeError\u001b[39;00m(msg)\n\u001b[0;32m--> 274\u001b[0m \u001b[38;5;28;01mreturn\u001b[39;00m \u001b[43mfunc\u001b[49m\u001b[43m(\u001b[49m\u001b[38;5;241;43m*\u001b[39;49m\u001b[43margs\u001b[49m\u001b[43m,\u001b[49m\u001b[43m \u001b[49m\u001b[38;5;241;43m*\u001b[39;49m\u001b[38;5;241;43m*\u001b[39;49m\u001b[43mkwargs\u001b[49m\u001b[43m)\u001b[49m\n",
      "File \u001b[0;32m~/miniconda3/envs/novel/lib/python3.11/site-packages/anthropic/resources/messages.py:878\u001b[0m, in \u001b[0;36mMessages.create\u001b[0;34m(self, max_tokens, messages, model, metadata, stop_sequences, stream, system, temperature, tool_choice, tools, top_k, top_p, extra_headers, extra_query, extra_body, timeout)\u001b[0m\n\u001b[1;32m    871\u001b[0m \u001b[38;5;28;01mif\u001b[39;00m model \u001b[38;5;129;01min\u001b[39;00m DEPRECATED_MODELS:\n\u001b[1;32m    872\u001b[0m     warnings\u001b[38;5;241m.\u001b[39mwarn(\n\u001b[1;32m    873\u001b[0m         \u001b[38;5;124mf\u001b[39m\u001b[38;5;124m\"\u001b[39m\u001b[38;5;124mThe model \u001b[39m\u001b[38;5;124m'\u001b[39m\u001b[38;5;132;01m{\u001b[39;00mmodel\u001b[38;5;132;01m}\u001b[39;00m\u001b[38;5;124m'\u001b[39m\u001b[38;5;124m is deprecated and will reach end-of-life on \u001b[39m\u001b[38;5;132;01m{\u001b[39;00mDEPRECATED_MODELS[model]\u001b[38;5;132;01m}\u001b[39;00m\u001b[38;5;124m.\u001b[39m\u001b[38;5;130;01m\\n\u001b[39;00m\u001b[38;5;124mPlease migrate to a newer model. Visit https://docs.anthropic.com/en/docs/resources/model-deprecations for more information.\u001b[39m\u001b[38;5;124m\"\u001b[39m,\n\u001b[1;32m    874\u001b[0m         \u001b[38;5;167;01mDeprecationWarning\u001b[39;00m,\n\u001b[1;32m    875\u001b[0m         stacklevel\u001b[38;5;241m=\u001b[39m\u001b[38;5;241m3\u001b[39m,\n\u001b[1;32m    876\u001b[0m     )\n\u001b[0;32m--> 878\u001b[0m \u001b[38;5;28;01mreturn\u001b[39;00m \u001b[38;5;28;43mself\u001b[39;49m\u001b[38;5;241;43m.\u001b[39;49m\u001b[43m_post\u001b[49m\u001b[43m(\u001b[49m\n\u001b[1;32m    879\u001b[0m \u001b[43m    \u001b[49m\u001b[38;5;124;43m\"\u001b[39;49m\u001b[38;5;124;43m/v1/messages\u001b[39;49m\u001b[38;5;124;43m\"\u001b[39;49m\u001b[43m,\u001b[49m\n\u001b[1;32m    880\u001b[0m \u001b[43m    \u001b[49m\u001b[43mbody\u001b[49m\u001b[38;5;241;43m=\u001b[39;49m\u001b[43mmaybe_transform\u001b[49m\u001b[43m(\u001b[49m\n\u001b[1;32m    881\u001b[0m \u001b[43m        \u001b[49m\u001b[43m{\u001b[49m\n\u001b[1;32m    882\u001b[0m \u001b[43m            \u001b[49m\u001b[38;5;124;43m\"\u001b[39;49m\u001b[38;5;124;43mmax_tokens\u001b[39;49m\u001b[38;5;124;43m\"\u001b[39;49m\u001b[43m:\u001b[49m\u001b[43m \u001b[49m\u001b[43mmax_tokens\u001b[49m\u001b[43m,\u001b[49m\n\u001b[1;32m    883\u001b[0m \u001b[43m            \u001b[49m\u001b[38;5;124;43m\"\u001b[39;49m\u001b[38;5;124;43mmessages\u001b[39;49m\u001b[38;5;124;43m\"\u001b[39;49m\u001b[43m:\u001b[49m\u001b[43m \u001b[49m\u001b[43mmessages\u001b[49m\u001b[43m,\u001b[49m\n\u001b[1;32m    884\u001b[0m \u001b[43m            \u001b[49m\u001b[38;5;124;43m\"\u001b[39;49m\u001b[38;5;124;43mmodel\u001b[39;49m\u001b[38;5;124;43m\"\u001b[39;49m\u001b[43m:\u001b[49m\u001b[43m \u001b[49m\u001b[43mmodel\u001b[49m\u001b[43m,\u001b[49m\n\u001b[1;32m    885\u001b[0m \u001b[43m            \u001b[49m\u001b[38;5;124;43m\"\u001b[39;49m\u001b[38;5;124;43mmetadata\u001b[39;49m\u001b[38;5;124;43m\"\u001b[39;49m\u001b[43m:\u001b[49m\u001b[43m \u001b[49m\u001b[43mmetadata\u001b[49m\u001b[43m,\u001b[49m\n\u001b[1;32m    886\u001b[0m \u001b[43m            \u001b[49m\u001b[38;5;124;43m\"\u001b[39;49m\u001b[38;5;124;43mstop_sequences\u001b[39;49m\u001b[38;5;124;43m\"\u001b[39;49m\u001b[43m:\u001b[49m\u001b[43m \u001b[49m\u001b[43mstop_sequences\u001b[49m\u001b[43m,\u001b[49m\n\u001b[1;32m    887\u001b[0m \u001b[43m            \u001b[49m\u001b[38;5;124;43m\"\u001b[39;49m\u001b[38;5;124;43mstream\u001b[39;49m\u001b[38;5;124;43m\"\u001b[39;49m\u001b[43m:\u001b[49m\u001b[43m \u001b[49m\u001b[43mstream\u001b[49m\u001b[43m,\u001b[49m\n\u001b[1;32m    888\u001b[0m \u001b[43m            \u001b[49m\u001b[38;5;124;43m\"\u001b[39;49m\u001b[38;5;124;43msystem\u001b[39;49m\u001b[38;5;124;43m\"\u001b[39;49m\u001b[43m:\u001b[49m\u001b[43m \u001b[49m\u001b[43msystem\u001b[49m\u001b[43m,\u001b[49m\n\u001b[1;32m    889\u001b[0m \u001b[43m            \u001b[49m\u001b[38;5;124;43m\"\u001b[39;49m\u001b[38;5;124;43mtemperature\u001b[39;49m\u001b[38;5;124;43m\"\u001b[39;49m\u001b[43m:\u001b[49m\u001b[43m \u001b[49m\u001b[43mtemperature\u001b[49m\u001b[43m,\u001b[49m\n\u001b[1;32m    890\u001b[0m \u001b[43m            \u001b[49m\u001b[38;5;124;43m\"\u001b[39;49m\u001b[38;5;124;43mtool_choice\u001b[39;49m\u001b[38;5;124;43m\"\u001b[39;49m\u001b[43m:\u001b[49m\u001b[43m \u001b[49m\u001b[43mtool_choice\u001b[49m\u001b[43m,\u001b[49m\n\u001b[1;32m    891\u001b[0m \u001b[43m            \u001b[49m\u001b[38;5;124;43m\"\u001b[39;49m\u001b[38;5;124;43mtools\u001b[39;49m\u001b[38;5;124;43m\"\u001b[39;49m\u001b[43m:\u001b[49m\u001b[43m \u001b[49m\u001b[43mtools\u001b[49m\u001b[43m,\u001b[49m\n\u001b[1;32m    892\u001b[0m \u001b[43m            \u001b[49m\u001b[38;5;124;43m\"\u001b[39;49m\u001b[38;5;124;43mtop_k\u001b[39;49m\u001b[38;5;124;43m\"\u001b[39;49m\u001b[43m:\u001b[49m\u001b[43m \u001b[49m\u001b[43mtop_k\u001b[49m\u001b[43m,\u001b[49m\n\u001b[1;32m    893\u001b[0m \u001b[43m            \u001b[49m\u001b[38;5;124;43m\"\u001b[39;49m\u001b[38;5;124;43mtop_p\u001b[39;49m\u001b[38;5;124;43m\"\u001b[39;49m\u001b[43m:\u001b[49m\u001b[43m \u001b[49m\u001b[43mtop_p\u001b[49m\u001b[43m,\u001b[49m\n\u001b[1;32m    894\u001b[0m \u001b[43m        \u001b[49m\u001b[43m}\u001b[49m\u001b[43m,\u001b[49m\n\u001b[1;32m    895\u001b[0m \u001b[43m        \u001b[49m\u001b[43mmessage_create_params\u001b[49m\u001b[38;5;241;43m.\u001b[39;49m\u001b[43mMessageCreateParams\u001b[49m\u001b[43m,\u001b[49m\n\u001b[1;32m    896\u001b[0m \u001b[43m    \u001b[49m\u001b[43m)\u001b[49m\u001b[43m,\u001b[49m\n\u001b[1;32m    897\u001b[0m \u001b[43m    \u001b[49m\u001b[43moptions\u001b[49m\u001b[38;5;241;43m=\u001b[39;49m\u001b[43mmake_request_options\u001b[49m\u001b[43m(\u001b[49m\n\u001b[1;32m    898\u001b[0m \u001b[43m        \u001b[49m\u001b[43mextra_headers\u001b[49m\u001b[38;5;241;43m=\u001b[39;49m\u001b[43mextra_headers\u001b[49m\u001b[43m,\u001b[49m\u001b[43m \u001b[49m\u001b[43mextra_query\u001b[49m\u001b[38;5;241;43m=\u001b[39;49m\u001b[43mextra_query\u001b[49m\u001b[43m,\u001b[49m\u001b[43m \u001b[49m\u001b[43mextra_body\u001b[49m\u001b[38;5;241;43m=\u001b[39;49m\u001b[43mextra_body\u001b[49m\u001b[43m,\u001b[49m\u001b[43m \u001b[49m\u001b[43mtimeout\u001b[49m\u001b[38;5;241;43m=\u001b[39;49m\u001b[43mtimeout\u001b[49m\n\u001b[1;32m    899\u001b[0m \u001b[43m    \u001b[49m\u001b[43m)\u001b[49m\u001b[43m,\u001b[49m\n\u001b[1;32m    900\u001b[0m \u001b[43m    \u001b[49m\u001b[43mcast_to\u001b[49m\u001b[38;5;241;43m=\u001b[39;49m\u001b[43mMessage\u001b[49m\u001b[43m,\u001b[49m\n\u001b[1;32m    901\u001b[0m \u001b[43m    \u001b[49m\u001b[43mstream\u001b[49m\u001b[38;5;241;43m=\u001b[39;49m\u001b[43mstream\u001b[49m\u001b[43m \u001b[49m\u001b[38;5;129;43;01mor\u001b[39;49;00m\u001b[43m \u001b[49m\u001b[38;5;28;43;01mFalse\u001b[39;49;00m\u001b[43m,\u001b[49m\n\u001b[1;32m    902\u001b[0m \u001b[43m    \u001b[49m\u001b[43mstream_cls\u001b[49m\u001b[38;5;241;43m=\u001b[39;49m\u001b[43mStream\u001b[49m\u001b[43m[\u001b[49m\u001b[43mRawMessageStreamEvent\u001b[49m\u001b[43m]\u001b[49m\u001b[43m,\u001b[49m\n\u001b[1;32m    903\u001b[0m \u001b[43m\u001b[49m\u001b[43m)\u001b[49m\n",
      "File \u001b[0;32m~/miniconda3/envs/novel/lib/python3.11/site-packages/anthropic/_base_client.py:1260\u001b[0m, in \u001b[0;36mSyncAPIClient.post\u001b[0;34m(self, path, cast_to, body, options, files, stream, stream_cls)\u001b[0m\n\u001b[1;32m   1246\u001b[0m \u001b[38;5;28;01mdef\u001b[39;00m \u001b[38;5;21mpost\u001b[39m(\n\u001b[1;32m   1247\u001b[0m     \u001b[38;5;28mself\u001b[39m,\n\u001b[1;32m   1248\u001b[0m     path: \u001b[38;5;28mstr\u001b[39m,\n\u001b[0;32m   (...)\u001b[0m\n\u001b[1;32m   1255\u001b[0m     stream_cls: \u001b[38;5;28mtype\u001b[39m[_StreamT] \u001b[38;5;241m|\u001b[39m \u001b[38;5;28;01mNone\u001b[39;00m \u001b[38;5;241m=\u001b[39m \u001b[38;5;28;01mNone\u001b[39;00m,\n\u001b[1;32m   1256\u001b[0m ) \u001b[38;5;241m-\u001b[39m\u001b[38;5;241m>\u001b[39m ResponseT \u001b[38;5;241m|\u001b[39m _StreamT:\n\u001b[1;32m   1257\u001b[0m     opts \u001b[38;5;241m=\u001b[39m FinalRequestOptions\u001b[38;5;241m.\u001b[39mconstruct(\n\u001b[1;32m   1258\u001b[0m         method\u001b[38;5;241m=\u001b[39m\u001b[38;5;124m\"\u001b[39m\u001b[38;5;124mpost\u001b[39m\u001b[38;5;124m\"\u001b[39m, url\u001b[38;5;241m=\u001b[39mpath, json_data\u001b[38;5;241m=\u001b[39mbody, files\u001b[38;5;241m=\u001b[39mto_httpx_files(files), \u001b[38;5;241m*\u001b[39m\u001b[38;5;241m*\u001b[39moptions\n\u001b[1;32m   1259\u001b[0m     )\n\u001b[0;32m-> 1260\u001b[0m     \u001b[38;5;28;01mreturn\u001b[39;00m cast(ResponseT, \u001b[38;5;28;43mself\u001b[39;49m\u001b[38;5;241;43m.\u001b[39;49m\u001b[43mrequest\u001b[49m\u001b[43m(\u001b[49m\u001b[43mcast_to\u001b[49m\u001b[43m,\u001b[49m\u001b[43m \u001b[49m\u001b[43mopts\u001b[49m\u001b[43m,\u001b[49m\u001b[43m \u001b[49m\u001b[43mstream\u001b[49m\u001b[38;5;241;43m=\u001b[39;49m\u001b[43mstream\u001b[49m\u001b[43m,\u001b[49m\u001b[43m \u001b[49m\u001b[43mstream_cls\u001b[49m\u001b[38;5;241;43m=\u001b[39;49m\u001b[43mstream_cls\u001b[49m\u001b[43m)\u001b[49m)\n",
      "File \u001b[0;32m~/miniconda3/envs/novel/lib/python3.11/site-packages/anthropic/_base_client.py:937\u001b[0m, in \u001b[0;36mSyncAPIClient.request\u001b[0;34m(self, cast_to, options, remaining_retries, stream, stream_cls)\u001b[0m\n\u001b[1;32m    928\u001b[0m \u001b[38;5;28;01mdef\u001b[39;00m \u001b[38;5;21mrequest\u001b[39m(\n\u001b[1;32m    929\u001b[0m     \u001b[38;5;28mself\u001b[39m,\n\u001b[1;32m    930\u001b[0m     cast_to: Type[ResponseT],\n\u001b[0;32m   (...)\u001b[0m\n\u001b[1;32m    935\u001b[0m     stream_cls: \u001b[38;5;28mtype\u001b[39m[_StreamT] \u001b[38;5;241m|\u001b[39m \u001b[38;5;28;01mNone\u001b[39;00m \u001b[38;5;241m=\u001b[39m \u001b[38;5;28;01mNone\u001b[39;00m,\n\u001b[1;32m    936\u001b[0m ) \u001b[38;5;241m-\u001b[39m\u001b[38;5;241m>\u001b[39m ResponseT \u001b[38;5;241m|\u001b[39m _StreamT:\n\u001b[0;32m--> 937\u001b[0m     \u001b[38;5;28;01mreturn\u001b[39;00m \u001b[38;5;28;43mself\u001b[39;49m\u001b[38;5;241;43m.\u001b[39;49m\u001b[43m_request\u001b[49m\u001b[43m(\u001b[49m\n\u001b[1;32m    938\u001b[0m \u001b[43m        \u001b[49m\u001b[43mcast_to\u001b[49m\u001b[38;5;241;43m=\u001b[39;49m\u001b[43mcast_to\u001b[49m\u001b[43m,\u001b[49m\n\u001b[1;32m    939\u001b[0m \u001b[43m        \u001b[49m\u001b[43moptions\u001b[49m\u001b[38;5;241;43m=\u001b[39;49m\u001b[43moptions\u001b[49m\u001b[43m,\u001b[49m\n\u001b[1;32m    940\u001b[0m \u001b[43m        \u001b[49m\u001b[43mstream\u001b[49m\u001b[38;5;241;43m=\u001b[39;49m\u001b[43mstream\u001b[49m\u001b[43m,\u001b[49m\n\u001b[1;32m    941\u001b[0m \u001b[43m        \u001b[49m\u001b[43mstream_cls\u001b[49m\u001b[38;5;241;43m=\u001b[39;49m\u001b[43mstream_cls\u001b[49m\u001b[43m,\u001b[49m\n\u001b[1;32m    942\u001b[0m \u001b[43m        \u001b[49m\u001b[43mremaining_retries\u001b[49m\u001b[38;5;241;43m=\u001b[39;49m\u001b[43mremaining_retries\u001b[49m\u001b[43m,\u001b[49m\n\u001b[1;32m    943\u001b[0m \u001b[43m    \u001b[49m\u001b[43m)\u001b[49m\n",
      "File \u001b[0;32m~/miniconda3/envs/novel/lib/python3.11/site-packages/anthropic/_base_client.py:973\u001b[0m, in \u001b[0;36mSyncAPIClient._request\u001b[0;34m(self, cast_to, options, remaining_retries, stream, stream_cls)\u001b[0m\n\u001b[1;32m    970\u001b[0m log\u001b[38;5;241m.\u001b[39mdebug(\u001b[38;5;124m\"\u001b[39m\u001b[38;5;124mSending HTTP Request: \u001b[39m\u001b[38;5;132;01m%s\u001b[39;00m\u001b[38;5;124m \u001b[39m\u001b[38;5;132;01m%s\u001b[39;00m\u001b[38;5;124m\"\u001b[39m, request\u001b[38;5;241m.\u001b[39mmethod, request\u001b[38;5;241m.\u001b[39murl)\n\u001b[1;32m    972\u001b[0m \u001b[38;5;28;01mtry\u001b[39;00m:\n\u001b[0;32m--> 973\u001b[0m     response \u001b[38;5;241m=\u001b[39m \u001b[38;5;28;43mself\u001b[39;49m\u001b[38;5;241;43m.\u001b[39;49m\u001b[43m_client\u001b[49m\u001b[38;5;241;43m.\u001b[39;49m\u001b[43msend\u001b[49m\u001b[43m(\u001b[49m\n\u001b[1;32m    974\u001b[0m \u001b[43m        \u001b[49m\u001b[43mrequest\u001b[49m\u001b[43m,\u001b[49m\n\u001b[1;32m    975\u001b[0m \u001b[43m        \u001b[49m\u001b[43mstream\u001b[49m\u001b[38;5;241;43m=\u001b[39;49m\u001b[43mstream\u001b[49m\u001b[43m \u001b[49m\u001b[38;5;129;43;01mor\u001b[39;49;00m\u001b[43m \u001b[49m\u001b[38;5;28;43mself\u001b[39;49m\u001b[38;5;241;43m.\u001b[39;49m\u001b[43m_should_stream_response_body\u001b[49m\u001b[43m(\u001b[49m\u001b[43mrequest\u001b[49m\u001b[38;5;241;43m=\u001b[39;49m\u001b[43mrequest\u001b[49m\u001b[43m)\u001b[49m\u001b[43m,\u001b[49m\n\u001b[1;32m    976\u001b[0m \u001b[43m        \u001b[49m\u001b[38;5;241;43m*\u001b[39;49m\u001b[38;5;241;43m*\u001b[39;49m\u001b[43mkwargs\u001b[49m\u001b[43m,\u001b[49m\n\u001b[1;32m    977\u001b[0m \u001b[43m    \u001b[49m\u001b[43m)\u001b[49m\n\u001b[1;32m    978\u001b[0m \u001b[38;5;28;01mexcept\u001b[39;00m httpx\u001b[38;5;241m.\u001b[39mTimeoutException \u001b[38;5;28;01mas\u001b[39;00m err:\n\u001b[1;32m    979\u001b[0m     log\u001b[38;5;241m.\u001b[39mdebug(\u001b[38;5;124m\"\u001b[39m\u001b[38;5;124mEncountered httpx.TimeoutException\u001b[39m\u001b[38;5;124m\"\u001b[39m, exc_info\u001b[38;5;241m=\u001b[39m\u001b[38;5;28;01mTrue\u001b[39;00m)\n",
      "File \u001b[0;32m~/miniconda3/envs/novel/lib/python3.11/site-packages/httpx/_client.py:926\u001b[0m, in \u001b[0;36mClient.send\u001b[0;34m(self, request, stream, auth, follow_redirects)\u001b[0m\n\u001b[1;32m    922\u001b[0m \u001b[38;5;28mself\u001b[39m\u001b[38;5;241m.\u001b[39m_set_timeout(request)\n\u001b[1;32m    924\u001b[0m auth \u001b[38;5;241m=\u001b[39m \u001b[38;5;28mself\u001b[39m\u001b[38;5;241m.\u001b[39m_build_request_auth(request, auth)\n\u001b[0;32m--> 926\u001b[0m response \u001b[38;5;241m=\u001b[39m \u001b[38;5;28;43mself\u001b[39;49m\u001b[38;5;241;43m.\u001b[39;49m\u001b[43m_send_handling_auth\u001b[49m\u001b[43m(\u001b[49m\n\u001b[1;32m    927\u001b[0m \u001b[43m    \u001b[49m\u001b[43mrequest\u001b[49m\u001b[43m,\u001b[49m\n\u001b[1;32m    928\u001b[0m \u001b[43m    \u001b[49m\u001b[43mauth\u001b[49m\u001b[38;5;241;43m=\u001b[39;49m\u001b[43mauth\u001b[49m\u001b[43m,\u001b[49m\n\u001b[1;32m    929\u001b[0m \u001b[43m    \u001b[49m\u001b[43mfollow_redirects\u001b[49m\u001b[38;5;241;43m=\u001b[39;49m\u001b[43mfollow_redirects\u001b[49m\u001b[43m,\u001b[49m\n\u001b[1;32m    930\u001b[0m \u001b[43m    \u001b[49m\u001b[43mhistory\u001b[49m\u001b[38;5;241;43m=\u001b[39;49m\u001b[43m[\u001b[49m\u001b[43m]\u001b[49m\u001b[43m,\u001b[49m\n\u001b[1;32m    931\u001b[0m \u001b[43m\u001b[49m\u001b[43m)\u001b[49m\n\u001b[1;32m    932\u001b[0m \u001b[38;5;28;01mtry\u001b[39;00m:\n\u001b[1;32m    933\u001b[0m     \u001b[38;5;28;01mif\u001b[39;00m \u001b[38;5;129;01mnot\u001b[39;00m stream:\n",
      "File \u001b[0;32m~/miniconda3/envs/novel/lib/python3.11/site-packages/httpx/_client.py:954\u001b[0m, in \u001b[0;36mClient._send_handling_auth\u001b[0;34m(self, request, auth, follow_redirects, history)\u001b[0m\n\u001b[1;32m    951\u001b[0m request \u001b[38;5;241m=\u001b[39m \u001b[38;5;28mnext\u001b[39m(auth_flow)\n\u001b[1;32m    953\u001b[0m \u001b[38;5;28;01mwhile\u001b[39;00m \u001b[38;5;28;01mTrue\u001b[39;00m:\n\u001b[0;32m--> 954\u001b[0m     response \u001b[38;5;241m=\u001b[39m \u001b[38;5;28;43mself\u001b[39;49m\u001b[38;5;241;43m.\u001b[39;49m\u001b[43m_send_handling_redirects\u001b[49m\u001b[43m(\u001b[49m\n\u001b[1;32m    955\u001b[0m \u001b[43m        \u001b[49m\u001b[43mrequest\u001b[49m\u001b[43m,\u001b[49m\n\u001b[1;32m    956\u001b[0m \u001b[43m        \u001b[49m\u001b[43mfollow_redirects\u001b[49m\u001b[38;5;241;43m=\u001b[39;49m\u001b[43mfollow_redirects\u001b[49m\u001b[43m,\u001b[49m\n\u001b[1;32m    957\u001b[0m \u001b[43m        \u001b[49m\u001b[43mhistory\u001b[49m\u001b[38;5;241;43m=\u001b[39;49m\u001b[43mhistory\u001b[49m\u001b[43m,\u001b[49m\n\u001b[1;32m    958\u001b[0m \u001b[43m    \u001b[49m\u001b[43m)\u001b[49m\n\u001b[1;32m    959\u001b[0m     \u001b[38;5;28;01mtry\u001b[39;00m:\n\u001b[1;32m    960\u001b[0m         \u001b[38;5;28;01mtry\u001b[39;00m:\n",
      "File \u001b[0;32m~/miniconda3/envs/novel/lib/python3.11/site-packages/httpx/_client.py:991\u001b[0m, in \u001b[0;36mClient._send_handling_redirects\u001b[0;34m(self, request, follow_redirects, history)\u001b[0m\n\u001b[1;32m    988\u001b[0m \u001b[38;5;28;01mfor\u001b[39;00m hook \u001b[38;5;129;01min\u001b[39;00m \u001b[38;5;28mself\u001b[39m\u001b[38;5;241m.\u001b[39m_event_hooks[\u001b[38;5;124m\"\u001b[39m\u001b[38;5;124mrequest\u001b[39m\u001b[38;5;124m\"\u001b[39m]:\n\u001b[1;32m    989\u001b[0m     hook(request)\n\u001b[0;32m--> 991\u001b[0m response \u001b[38;5;241m=\u001b[39m \u001b[38;5;28;43mself\u001b[39;49m\u001b[38;5;241;43m.\u001b[39;49m\u001b[43m_send_single_request\u001b[49m\u001b[43m(\u001b[49m\u001b[43mrequest\u001b[49m\u001b[43m)\u001b[49m\n\u001b[1;32m    992\u001b[0m \u001b[38;5;28;01mtry\u001b[39;00m:\n\u001b[1;32m    993\u001b[0m     \u001b[38;5;28;01mfor\u001b[39;00m hook \u001b[38;5;129;01min\u001b[39;00m \u001b[38;5;28mself\u001b[39m\u001b[38;5;241m.\u001b[39m_event_hooks[\u001b[38;5;124m\"\u001b[39m\u001b[38;5;124mresponse\u001b[39m\u001b[38;5;124m\"\u001b[39m]:\n",
      "File \u001b[0;32m~/miniconda3/envs/novel/lib/python3.11/site-packages/httpx/_client.py:1027\u001b[0m, in \u001b[0;36mClient._send_single_request\u001b[0;34m(self, request)\u001b[0m\n\u001b[1;32m   1022\u001b[0m     \u001b[38;5;28;01mraise\u001b[39;00m \u001b[38;5;167;01mRuntimeError\u001b[39;00m(\n\u001b[1;32m   1023\u001b[0m         \u001b[38;5;124m\"\u001b[39m\u001b[38;5;124mAttempted to send an async request with a sync Client instance.\u001b[39m\u001b[38;5;124m\"\u001b[39m\n\u001b[1;32m   1024\u001b[0m     )\n\u001b[1;32m   1026\u001b[0m \u001b[38;5;28;01mwith\u001b[39;00m request_context(request\u001b[38;5;241m=\u001b[39mrequest):\n\u001b[0;32m-> 1027\u001b[0m     response \u001b[38;5;241m=\u001b[39m \u001b[43mtransport\u001b[49m\u001b[38;5;241;43m.\u001b[39;49m\u001b[43mhandle_request\u001b[49m\u001b[43m(\u001b[49m\u001b[43mrequest\u001b[49m\u001b[43m)\u001b[49m\n\u001b[1;32m   1029\u001b[0m \u001b[38;5;28;01massert\u001b[39;00m \u001b[38;5;28misinstance\u001b[39m(response\u001b[38;5;241m.\u001b[39mstream, SyncByteStream)\n\u001b[1;32m   1031\u001b[0m response\u001b[38;5;241m.\u001b[39mrequest \u001b[38;5;241m=\u001b[39m request\n",
      "File \u001b[0;32m~/miniconda3/envs/novel/lib/python3.11/site-packages/httpx/_transports/default.py:236\u001b[0m, in \u001b[0;36mHTTPTransport.handle_request\u001b[0;34m(self, request)\u001b[0m\n\u001b[1;32m    223\u001b[0m req \u001b[38;5;241m=\u001b[39m httpcore\u001b[38;5;241m.\u001b[39mRequest(\n\u001b[1;32m    224\u001b[0m     method\u001b[38;5;241m=\u001b[39mrequest\u001b[38;5;241m.\u001b[39mmethod,\n\u001b[1;32m    225\u001b[0m     url\u001b[38;5;241m=\u001b[39mhttpcore\u001b[38;5;241m.\u001b[39mURL(\n\u001b[0;32m   (...)\u001b[0m\n\u001b[1;32m    233\u001b[0m     extensions\u001b[38;5;241m=\u001b[39mrequest\u001b[38;5;241m.\u001b[39mextensions,\n\u001b[1;32m    234\u001b[0m )\n\u001b[1;32m    235\u001b[0m \u001b[38;5;28;01mwith\u001b[39;00m map_httpcore_exceptions():\n\u001b[0;32m--> 236\u001b[0m     resp \u001b[38;5;241m=\u001b[39m \u001b[38;5;28;43mself\u001b[39;49m\u001b[38;5;241;43m.\u001b[39;49m\u001b[43m_pool\u001b[49m\u001b[38;5;241;43m.\u001b[39;49m\u001b[43mhandle_request\u001b[49m\u001b[43m(\u001b[49m\u001b[43mreq\u001b[49m\u001b[43m)\u001b[49m\n\u001b[1;32m    238\u001b[0m \u001b[38;5;28;01massert\u001b[39;00m \u001b[38;5;28misinstance\u001b[39m(resp\u001b[38;5;241m.\u001b[39mstream, typing\u001b[38;5;241m.\u001b[39mIterable)\n\u001b[1;32m    240\u001b[0m \u001b[38;5;28;01mreturn\u001b[39;00m Response(\n\u001b[1;32m    241\u001b[0m     status_code\u001b[38;5;241m=\u001b[39mresp\u001b[38;5;241m.\u001b[39mstatus,\n\u001b[1;32m    242\u001b[0m     headers\u001b[38;5;241m=\u001b[39mresp\u001b[38;5;241m.\u001b[39mheaders,\n\u001b[1;32m    243\u001b[0m     stream\u001b[38;5;241m=\u001b[39mResponseStream(resp\u001b[38;5;241m.\u001b[39mstream),\n\u001b[1;32m    244\u001b[0m     extensions\u001b[38;5;241m=\u001b[39mresp\u001b[38;5;241m.\u001b[39mextensions,\n\u001b[1;32m    245\u001b[0m )\n",
      "File \u001b[0;32m~/miniconda3/envs/novel/lib/python3.11/site-packages/httpcore/_sync/connection_pool.py:216\u001b[0m, in \u001b[0;36mConnectionPool.handle_request\u001b[0;34m(self, request)\u001b[0m\n\u001b[1;32m    213\u001b[0m         closing \u001b[38;5;241m=\u001b[39m \u001b[38;5;28mself\u001b[39m\u001b[38;5;241m.\u001b[39m_assign_requests_to_connections()\n\u001b[1;32m    215\u001b[0m     \u001b[38;5;28mself\u001b[39m\u001b[38;5;241m.\u001b[39m_close_connections(closing)\n\u001b[0;32m--> 216\u001b[0m     \u001b[38;5;28;01mraise\u001b[39;00m exc \u001b[38;5;28;01mfrom\u001b[39;00m \u001b[38;5;28;01mNone\u001b[39;00m\n\u001b[1;32m    218\u001b[0m \u001b[38;5;66;03m# Return the response. Note that in this case we still have to manage\u001b[39;00m\n\u001b[1;32m    219\u001b[0m \u001b[38;5;66;03m# the point at which the response is closed.\u001b[39;00m\n\u001b[1;32m    220\u001b[0m \u001b[38;5;28;01massert\u001b[39;00m \u001b[38;5;28misinstance\u001b[39m(response\u001b[38;5;241m.\u001b[39mstream, Iterable)\n",
      "File \u001b[0;32m~/miniconda3/envs/novel/lib/python3.11/site-packages/httpcore/_sync/connection_pool.py:196\u001b[0m, in \u001b[0;36mConnectionPool.handle_request\u001b[0;34m(self, request)\u001b[0m\n\u001b[1;32m    192\u001b[0m connection \u001b[38;5;241m=\u001b[39m pool_request\u001b[38;5;241m.\u001b[39mwait_for_connection(timeout\u001b[38;5;241m=\u001b[39mtimeout)\n\u001b[1;32m    194\u001b[0m \u001b[38;5;28;01mtry\u001b[39;00m:\n\u001b[1;32m    195\u001b[0m     \u001b[38;5;66;03m# Send the request on the assigned connection.\u001b[39;00m\n\u001b[0;32m--> 196\u001b[0m     response \u001b[38;5;241m=\u001b[39m \u001b[43mconnection\u001b[49m\u001b[38;5;241;43m.\u001b[39;49m\u001b[43mhandle_request\u001b[49m\u001b[43m(\u001b[49m\n\u001b[1;32m    197\u001b[0m \u001b[43m        \u001b[49m\u001b[43mpool_request\u001b[49m\u001b[38;5;241;43m.\u001b[39;49m\u001b[43mrequest\u001b[49m\n\u001b[1;32m    198\u001b[0m \u001b[43m    \u001b[49m\u001b[43m)\u001b[49m\n\u001b[1;32m    199\u001b[0m \u001b[38;5;28;01mexcept\u001b[39;00m ConnectionNotAvailable:\n\u001b[1;32m    200\u001b[0m     \u001b[38;5;66;03m# In some cases a connection may initially be available to\u001b[39;00m\n\u001b[1;32m    201\u001b[0m     \u001b[38;5;66;03m# handle a request, but then become unavailable.\u001b[39;00m\n\u001b[1;32m    202\u001b[0m     \u001b[38;5;66;03m#\u001b[39;00m\n\u001b[1;32m    203\u001b[0m     \u001b[38;5;66;03m# In this case we clear the connection and try again.\u001b[39;00m\n\u001b[1;32m    204\u001b[0m     pool_request\u001b[38;5;241m.\u001b[39mclear_connection()\n",
      "File \u001b[0;32m~/miniconda3/envs/novel/lib/python3.11/site-packages/httpcore/_sync/connection.py:101\u001b[0m, in \u001b[0;36mHTTPConnection.handle_request\u001b[0;34m(self, request)\u001b[0m\n\u001b[1;32m     98\u001b[0m     \u001b[38;5;28mself\u001b[39m\u001b[38;5;241m.\u001b[39m_connect_failed \u001b[38;5;241m=\u001b[39m \u001b[38;5;28;01mTrue\u001b[39;00m\n\u001b[1;32m     99\u001b[0m     \u001b[38;5;28;01mraise\u001b[39;00m exc\n\u001b[0;32m--> 101\u001b[0m \u001b[38;5;28;01mreturn\u001b[39;00m \u001b[38;5;28;43mself\u001b[39;49m\u001b[38;5;241;43m.\u001b[39;49m\u001b[43m_connection\u001b[49m\u001b[38;5;241;43m.\u001b[39;49m\u001b[43mhandle_request\u001b[49m\u001b[43m(\u001b[49m\u001b[43mrequest\u001b[49m\u001b[43m)\u001b[49m\n",
      "File \u001b[0;32m~/miniconda3/envs/novel/lib/python3.11/site-packages/httpcore/_sync/http11.py:143\u001b[0m, in \u001b[0;36mHTTP11Connection.handle_request\u001b[0;34m(self, request)\u001b[0m\n\u001b[1;32m    141\u001b[0m     \u001b[38;5;28;01mwith\u001b[39;00m Trace(\u001b[38;5;124m\"\u001b[39m\u001b[38;5;124mresponse_closed\u001b[39m\u001b[38;5;124m\"\u001b[39m, logger, request) \u001b[38;5;28;01mas\u001b[39;00m trace:\n\u001b[1;32m    142\u001b[0m         \u001b[38;5;28mself\u001b[39m\u001b[38;5;241m.\u001b[39m_response_closed()\n\u001b[0;32m--> 143\u001b[0m \u001b[38;5;28;01mraise\u001b[39;00m exc\n",
      "File \u001b[0;32m~/miniconda3/envs/novel/lib/python3.11/site-packages/httpcore/_sync/http11.py:113\u001b[0m, in \u001b[0;36mHTTP11Connection.handle_request\u001b[0;34m(self, request)\u001b[0m\n\u001b[1;32m    102\u001b[0m     \u001b[38;5;28;01mpass\u001b[39;00m\n\u001b[1;32m    104\u001b[0m \u001b[38;5;28;01mwith\u001b[39;00m Trace(\n\u001b[1;32m    105\u001b[0m     \u001b[38;5;124m\"\u001b[39m\u001b[38;5;124mreceive_response_headers\u001b[39m\u001b[38;5;124m\"\u001b[39m, logger, request, kwargs\n\u001b[1;32m    106\u001b[0m ) \u001b[38;5;28;01mas\u001b[39;00m trace:\n\u001b[1;32m    107\u001b[0m     (\n\u001b[1;32m    108\u001b[0m         http_version,\n\u001b[1;32m    109\u001b[0m         status,\n\u001b[1;32m    110\u001b[0m         reason_phrase,\n\u001b[1;32m    111\u001b[0m         headers,\n\u001b[1;32m    112\u001b[0m         trailing_data,\n\u001b[0;32m--> 113\u001b[0m     ) \u001b[38;5;241m=\u001b[39m \u001b[38;5;28;43mself\u001b[39;49m\u001b[38;5;241;43m.\u001b[39;49m\u001b[43m_receive_response_headers\u001b[49m\u001b[43m(\u001b[49m\u001b[38;5;241;43m*\u001b[39;49m\u001b[38;5;241;43m*\u001b[39;49m\u001b[43mkwargs\u001b[49m\u001b[43m)\u001b[49m\n\u001b[1;32m    114\u001b[0m     trace\u001b[38;5;241m.\u001b[39mreturn_value \u001b[38;5;241m=\u001b[39m (\n\u001b[1;32m    115\u001b[0m         http_version,\n\u001b[1;32m    116\u001b[0m         status,\n\u001b[1;32m    117\u001b[0m         reason_phrase,\n\u001b[1;32m    118\u001b[0m         headers,\n\u001b[1;32m    119\u001b[0m     )\n\u001b[1;32m    121\u001b[0m network_stream \u001b[38;5;241m=\u001b[39m \u001b[38;5;28mself\u001b[39m\u001b[38;5;241m.\u001b[39m_network_stream\n",
      "File \u001b[0;32m~/miniconda3/envs/novel/lib/python3.11/site-packages/httpcore/_sync/http11.py:186\u001b[0m, in \u001b[0;36mHTTP11Connection._receive_response_headers\u001b[0;34m(self, request)\u001b[0m\n\u001b[1;32m    183\u001b[0m timeout \u001b[38;5;241m=\u001b[39m timeouts\u001b[38;5;241m.\u001b[39mget(\u001b[38;5;124m\"\u001b[39m\u001b[38;5;124mread\u001b[39m\u001b[38;5;124m\"\u001b[39m, \u001b[38;5;28;01mNone\u001b[39;00m)\n\u001b[1;32m    185\u001b[0m \u001b[38;5;28;01mwhile\u001b[39;00m \u001b[38;5;28;01mTrue\u001b[39;00m:\n\u001b[0;32m--> 186\u001b[0m     event \u001b[38;5;241m=\u001b[39m \u001b[38;5;28;43mself\u001b[39;49m\u001b[38;5;241;43m.\u001b[39;49m\u001b[43m_receive_event\u001b[49m\u001b[43m(\u001b[49m\u001b[43mtimeout\u001b[49m\u001b[38;5;241;43m=\u001b[39;49m\u001b[43mtimeout\u001b[49m\u001b[43m)\u001b[49m\n\u001b[1;32m    187\u001b[0m     \u001b[38;5;28;01mif\u001b[39;00m \u001b[38;5;28misinstance\u001b[39m(event, h11\u001b[38;5;241m.\u001b[39mResponse):\n\u001b[1;32m    188\u001b[0m         \u001b[38;5;28;01mbreak\u001b[39;00m\n",
      "File \u001b[0;32m~/miniconda3/envs/novel/lib/python3.11/site-packages/httpcore/_sync/http11.py:224\u001b[0m, in \u001b[0;36mHTTP11Connection._receive_event\u001b[0;34m(self, timeout)\u001b[0m\n\u001b[1;32m    221\u001b[0m     event \u001b[38;5;241m=\u001b[39m \u001b[38;5;28mself\u001b[39m\u001b[38;5;241m.\u001b[39m_h11_state\u001b[38;5;241m.\u001b[39mnext_event()\n\u001b[1;32m    223\u001b[0m \u001b[38;5;28;01mif\u001b[39;00m event \u001b[38;5;129;01mis\u001b[39;00m h11\u001b[38;5;241m.\u001b[39mNEED_DATA:\n\u001b[0;32m--> 224\u001b[0m     data \u001b[38;5;241m=\u001b[39m \u001b[38;5;28;43mself\u001b[39;49m\u001b[38;5;241;43m.\u001b[39;49m\u001b[43m_network_stream\u001b[49m\u001b[38;5;241;43m.\u001b[39;49m\u001b[43mread\u001b[49m\u001b[43m(\u001b[49m\n\u001b[1;32m    225\u001b[0m \u001b[43m        \u001b[49m\u001b[38;5;28;43mself\u001b[39;49m\u001b[38;5;241;43m.\u001b[39;49m\u001b[43mREAD_NUM_BYTES\u001b[49m\u001b[43m,\u001b[49m\u001b[43m \u001b[49m\u001b[43mtimeout\u001b[49m\u001b[38;5;241;43m=\u001b[39;49m\u001b[43mtimeout\u001b[49m\n\u001b[1;32m    226\u001b[0m \u001b[43m    \u001b[49m\u001b[43m)\u001b[49m\n\u001b[1;32m    228\u001b[0m     \u001b[38;5;66;03m# If we feed this case through h11 we'll raise an exception like:\u001b[39;00m\n\u001b[1;32m    229\u001b[0m     \u001b[38;5;66;03m#\u001b[39;00m\n\u001b[1;32m    230\u001b[0m     \u001b[38;5;66;03m#     httpcore.RemoteProtocolError: can't handle event type\u001b[39;00m\n\u001b[0;32m   (...)\u001b[0m\n\u001b[1;32m    234\u001b[0m     \u001b[38;5;66;03m# perspective. Instead we handle this case distinctly and treat\u001b[39;00m\n\u001b[1;32m    235\u001b[0m     \u001b[38;5;66;03m# it as a ConnectError.\u001b[39;00m\n\u001b[1;32m    236\u001b[0m     \u001b[38;5;28;01mif\u001b[39;00m data \u001b[38;5;241m==\u001b[39m \u001b[38;5;124mb\u001b[39m\u001b[38;5;124m\"\u001b[39m\u001b[38;5;124m\"\u001b[39m \u001b[38;5;129;01mand\u001b[39;00m \u001b[38;5;28mself\u001b[39m\u001b[38;5;241m.\u001b[39m_h11_state\u001b[38;5;241m.\u001b[39mtheir_state \u001b[38;5;241m==\u001b[39m h11\u001b[38;5;241m.\u001b[39mSEND_RESPONSE:\n",
      "File \u001b[0;32m~/miniconda3/envs/novel/lib/python3.11/site-packages/httpcore/_backends/sync.py:126\u001b[0m, in \u001b[0;36mSyncStream.read\u001b[0;34m(self, max_bytes, timeout)\u001b[0m\n\u001b[1;32m    124\u001b[0m \u001b[38;5;28;01mwith\u001b[39;00m map_exceptions(exc_map):\n\u001b[1;32m    125\u001b[0m     \u001b[38;5;28mself\u001b[39m\u001b[38;5;241m.\u001b[39m_sock\u001b[38;5;241m.\u001b[39msettimeout(timeout)\n\u001b[0;32m--> 126\u001b[0m     \u001b[38;5;28;01mreturn\u001b[39;00m \u001b[38;5;28;43mself\u001b[39;49m\u001b[38;5;241;43m.\u001b[39;49m\u001b[43m_sock\u001b[49m\u001b[38;5;241;43m.\u001b[39;49m\u001b[43mrecv\u001b[49m\u001b[43m(\u001b[49m\u001b[43mmax_bytes\u001b[49m\u001b[43m)\u001b[49m\n",
      "File \u001b[0;32m~/miniconda3/envs/novel/lib/python3.11/ssl.py:1295\u001b[0m, in \u001b[0;36mSSLSocket.recv\u001b[0;34m(self, buflen, flags)\u001b[0m\n\u001b[1;32m   1291\u001b[0m     \u001b[38;5;28;01mif\u001b[39;00m flags \u001b[38;5;241m!=\u001b[39m \u001b[38;5;241m0\u001b[39m:\n\u001b[1;32m   1292\u001b[0m         \u001b[38;5;28;01mraise\u001b[39;00m \u001b[38;5;167;01mValueError\u001b[39;00m(\n\u001b[1;32m   1293\u001b[0m             \u001b[38;5;124m\"\u001b[39m\u001b[38;5;124mnon-zero flags not allowed in calls to recv() on \u001b[39m\u001b[38;5;132;01m%s\u001b[39;00m\u001b[38;5;124m\"\u001b[39m \u001b[38;5;241m%\u001b[39m\n\u001b[1;32m   1294\u001b[0m             \u001b[38;5;28mself\u001b[39m\u001b[38;5;241m.\u001b[39m\u001b[38;5;18m__class__\u001b[39m)\n\u001b[0;32m-> 1295\u001b[0m     \u001b[38;5;28;01mreturn\u001b[39;00m \u001b[38;5;28;43mself\u001b[39;49m\u001b[38;5;241;43m.\u001b[39;49m\u001b[43mread\u001b[49m\u001b[43m(\u001b[49m\u001b[43mbuflen\u001b[49m\u001b[43m)\u001b[49m\n\u001b[1;32m   1296\u001b[0m \u001b[38;5;28;01melse\u001b[39;00m:\n\u001b[1;32m   1297\u001b[0m     \u001b[38;5;28;01mreturn\u001b[39;00m \u001b[38;5;28msuper\u001b[39m()\u001b[38;5;241m.\u001b[39mrecv(buflen, flags)\n",
      "File \u001b[0;32m~/miniconda3/envs/novel/lib/python3.11/ssl.py:1168\u001b[0m, in \u001b[0;36mSSLSocket.read\u001b[0;34m(self, len, buffer)\u001b[0m\n\u001b[1;32m   1166\u001b[0m         \u001b[38;5;28;01mreturn\u001b[39;00m \u001b[38;5;28mself\u001b[39m\u001b[38;5;241m.\u001b[39m_sslobj\u001b[38;5;241m.\u001b[39mread(\u001b[38;5;28mlen\u001b[39m, buffer)\n\u001b[1;32m   1167\u001b[0m     \u001b[38;5;28;01melse\u001b[39;00m:\n\u001b[0;32m-> 1168\u001b[0m         \u001b[38;5;28;01mreturn\u001b[39;00m \u001b[38;5;28;43mself\u001b[39;49m\u001b[38;5;241;43m.\u001b[39;49m\u001b[43m_sslobj\u001b[49m\u001b[38;5;241;43m.\u001b[39;49m\u001b[43mread\u001b[49m\u001b[43m(\u001b[49m\u001b[38;5;28;43mlen\u001b[39;49m\u001b[43m)\u001b[49m\n\u001b[1;32m   1169\u001b[0m \u001b[38;5;28;01mexcept\u001b[39;00m SSLError \u001b[38;5;28;01mas\u001b[39;00m x:\n\u001b[1;32m   1170\u001b[0m     \u001b[38;5;28;01mif\u001b[39;00m x\u001b[38;5;241m.\u001b[39margs[\u001b[38;5;241m0\u001b[39m] \u001b[38;5;241m==\u001b[39m SSL_ERROR_EOF \u001b[38;5;129;01mand\u001b[39;00m \u001b[38;5;28mself\u001b[39m\u001b[38;5;241m.\u001b[39msuppress_ragged_eofs:\n",
      "\u001b[0;31mKeyboardInterrupt\u001b[0m: "
     ]
    }
   ],
   "source": [
    "from novelinsights.prompts.wikigen.fiction import template\n",
    "\n",
    "prev_json = None\n",
    "for i, excerpt in enumerate(tree):\n",
    "    print(f\"[{i}]\\t{excerpt.title}\")\n",
    "    \n",
    "    cur_template = template(excerpt, prev_json=prev_json)\n",
    "    \n",
    "    with open(os.path.join(output_dir, \"inprompt\", f\"[{i}] {excerpt.title}.txt\"), \"w\") as f:\n",
    "        f.write(cur_template)\n",
    "    \n",
    "        message = client.messages.create(\n",
    "            model=\"claude-3-5-sonnet-20240620\",\n",
    "            max_tokens=8192,\n",
    "            messages=[\n",
    "                {\n",
    "                    \"role\": \"user\",\n",
    "                    \"content\": [\n",
    "                        {\n",
    "                            \"type\": \"text\",\n",
    "                            \"text\": cur_template\n",
    "                        }\n",
    "                    ]\n",
    "                }\n",
    "            ]\n",
    "        )\n",
    "        \n",
    "        with open(os.path.join(output_dir, \"response\", f\"[{i}] {excerpt.title}.txt\"), \"w\") as f:\n",
    "            f.write(message.content[0].text)\n",
    "        \n",
    "        try:\n",
    "            prev_json = parse_json(message.content[0].text)\n",
    "        except:\n",
    "            pass\n",
    "        \n",
    "        with open(os.path.join(output_dir, \"json\", f\"[{i}] {excerpt.title}.json\"), \"w\") as f:\n",
    "            f.write(json.dumps(prev_json, indent=4))\n",
    "            "
   ]
  }
 ],
 "metadata": {
  "kernelspec": {
   "display_name": "novel",
   "language": "python",
   "name": "python3"
  },
  "language_info": {
   "codemirror_mode": {
    "name": "ipython",
    "version": 3
   },
   "file_extension": ".py",
   "mimetype": "text/x-python",
   "name": "python",
   "nbconvert_exporter": "python",
   "pygments_lexer": "ipython3",
   "version": "3.11.9"
  }
 },
 "nbformat": 4,
 "nbformat_minor": 2
}
